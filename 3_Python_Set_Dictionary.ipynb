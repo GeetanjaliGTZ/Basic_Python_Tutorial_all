{
 "cells": [
  {
   "cell_type": "markdown",
   "id": "5fd7cbee",
   "metadata": {},
   "source": [
    "# Python - Data Structure (Set and Dictonary)"
   ]
  },
  {
   "cell_type": "markdown",
   "id": "2152028d",
   "metadata": {},
   "source": [
    "## Python Set"
   ]
  },
  {
   "cell_type": "code",
   "execution_count": 5,
   "id": "956afdd3",
   "metadata": {},
   "outputs": [
    {
     "name": "stdout",
     "output_type": "stream",
     "text": [
      "{'banana', 'apple', 'cherry'}\n"
     ]
    }
   ],
   "source": [
    "myset = {\"apple\", \"banana\", \"cherry\"} \n",
    "print(myset)\n"
   ]
  },
  {
   "cell_type": "markdown",
   "id": "3d11efae",
   "metadata": {},
   "source": [
    "<b>Set :</b>  Sets are used to <b>store multiple items</b> in a single variable.\n",
    "\n",
    "<b>Set</b> is one of 4 built-in data types in Python used to <b>store collections of data</b>, the other 3 are List, Tuple, and Dictionary, all with different qualities and usage.\n",
    "\n",
    "A set is a collection which is unordered, unchangeable*, and unindexed."
   ]
  },
  {
   "cell_type": "markdown",
   "id": "06a26da4",
   "metadata": {},
   "source": [
    "#### Set Items : Set items are unordered, unchangeable, and do not allow duplicate values."
   ]
  },
  {
   "cell_type": "markdown",
   "id": "1ccc1067",
   "metadata": {},
   "source": [
    "<b>Unordered - </b> Items in a set do not have a defined order.\n",
    "\n",
    "<b>Set items - </b> It can appear in a different order every time you use them, and cannot be referred to by index or key.\n",
    "\n",
    "<b>Unchangeable - </b> Set items are unchangeable, meaning that we cannot change the items after the set has been created.\n",
    "\n",
    "Once a set is created, you cannot change its items, but you can remove items and add new items.\n",
    "\n",
    "<b>Duplicates - </b> Not Allowed\n",
    "\n",
    "Sets cannot have two items with the same value.\n",
    "\n"
   ]
  },
  {
   "cell_type": "code",
   "execution_count": 3,
   "id": "1c0fdf9b",
   "metadata": {},
   "outputs": [
    {
     "name": "stdout",
     "output_type": "stream",
     "text": [
      "{'banana', 'apple', 'cherry'}\n"
     ]
    }
   ],
   "source": [
    "#Duplicate values will be ignored:\n",
    "\n",
    "thisset = {\"apple\", \"banana\", \"cherry\", \"apple\"}\n",
    "\n",
    "print(thisset)\n"
   ]
  },
  {
   "cell_type": "code",
   "execution_count": 12,
   "id": "339bd762",
   "metadata": {},
   "outputs": [
    {
     "name": "stdout",
     "output_type": "stream",
     "text": [
      "{True, 'apple', 2, 'cherry', 'banana'}\n",
      "{False, 1, 'apple', 2, 'cherry', 'banana'}\n"
     ]
    }
   ],
   "source": [
    "# True and 1 is considered the same value:\n",
    "# False and 0 are considered the same value in sets, and are treated as duplicates:\n",
    "\n",
    "thisset = {\"apple\", \"banana\", \"cherry\", True, 1, 2}  # data type - string, int and boolean\n",
    "thisset1 = {\"apple\", \"banana\", \"cherry\", False, 1, 2}  # data type - string, int and boolean\n",
    "\n",
    "print(thisset)\n",
    "print(thisset1)\n",
    "\n"
   ]
  },
  {
   "cell_type": "markdown",
   "id": "700f49d5",
   "metadata": {},
   "source": [
    "<b> Get the Length of a Set </b> - use the len() function."
   ]
  },
  {
   "cell_type": "code",
   "execution_count": 13,
   "id": "e7273236",
   "metadata": {},
   "outputs": [
    {
     "name": "stdout",
     "output_type": "stream",
     "text": [
      "3\n"
     ]
    }
   ],
   "source": [
    "#Get the number of items in a set:\n",
    "\n",
    "thisset = {\"apple\", \"banana\", \"cherry\"}\n",
    "\n",
    "print(len(thisset))"
   ]
  },
  {
   "cell_type": "markdown",
   "id": "807c6002",
   "metadata": {},
   "source": [
    "### Set Items - Data Types\n",
    "Set items can be of any data type: String, integer, and boolean"
   ]
  },
  {
   "cell_type": "code",
   "execution_count": 4,
   "id": "4f54238f",
   "metadata": {},
   "outputs": [
    {
     "name": "stdout",
     "output_type": "stream",
     "text": [
      "{'banana', 'apple', 'cherry'}\n",
      "{1, 3, 5, 7, 9}\n",
      "{False, True}\n"
     ]
    }
   ],
   "source": [
    "set1 = {\"apple\", \"banana\", \"cherry\"}   # string data type\n",
    "set2 = {1, 5, 7, 9, 3} # interger data type\n",
    "set3 = {True, False, False}  # boolean data type where True = 1 and False = 0\n",
    "print(set1)\n",
    "print(set2)\n",
    "print(set3)"
   ]
  },
  {
   "cell_type": "markdown",
   "id": "31a22b3e",
   "metadata": {},
   "source": [
    "A single set can contain different data types:String, integer, and boolean"
   ]
  },
  {
   "cell_type": "code",
   "execution_count": 21,
   "id": "3040fce8",
   "metadata": {},
   "outputs": [
    {
     "name": "stdout",
     "output_type": "stream",
     "text": [
      "{True, 34, 40, 'abc', 'male'}\n"
     ]
    }
   ],
   "source": [
    "set1 = {\"abc\", 34, True, 40, \"male\"}\n",
    "print(set1)"
   ]
  },
  {
   "cell_type": "markdown",
   "id": "9722291a",
   "metadata": {},
   "source": [
    "### type()\n",
    "From Python's perspective, sets are defined as objects with the data type 'set':\n",
    "\n",
    "<class 'set'>"
   ]
  },
  {
   "cell_type": "code",
   "execution_count": 22,
   "id": "501d6cf6",
   "metadata": {},
   "outputs": [
    {
     "data": {
      "text/plain": [
       "set"
      ]
     },
     "execution_count": 22,
     "metadata": {},
     "output_type": "execute_result"
    }
   ],
   "source": [
    "type(set1)"
   ]
  },
  {
   "cell_type": "code",
   "execution_count": 23,
   "id": "cd55cef2",
   "metadata": {},
   "outputs": [
    {
     "name": "stdout",
     "output_type": "stream",
     "text": [
      "<class 'set'>\n"
     ]
    }
   ],
   "source": [
    "#What is the data type of a set?\n",
    "\n",
    "myset = {\"apple\", \"banana\", \"cherry\"}\n",
    "print(type(myset))\n"
   ]
  },
  {
   "cell_type": "code",
   "execution_count": null,
   "id": "aaf4dfbf",
   "metadata": {},
   "outputs": [],
   "source": []
  },
  {
   "cell_type": "markdown",
   "id": "87a324a8",
   "metadata": {},
   "source": [
    "### Access Items\n",
    "You <b>cannot access</b> items in a set <b>by referring to an index</b> or a key.\n",
    "\n",
    "But you can loop through the set items using a for loop, or ask <b>if a specified value is present</b> in a set, by using the <b>in keyword</b>.\n",
    "\n"
   ]
  },
  {
   "cell_type": "code",
   "execution_count": 28,
   "id": "6598833f",
   "metadata": {},
   "outputs": [
    {
     "name": "stdout",
     "output_type": "stream",
     "text": [
      "banana\n",
      "apple\n",
      "cherry\n"
     ]
    }
   ],
   "source": [
    "#Loop through the set, and print the values:\n",
    "\n",
    "thisset = {\"apple\", \"banana\", \"cherry\"}\n",
    "\n",
    "for x in thisset:\n",
    "  print(x)"
   ]
  },
  {
   "cell_type": "code",
   "execution_count": 5,
   "id": "c509e00c",
   "metadata": {},
   "outputs": [
    {
     "name": "stdout",
     "output_type": "stream",
     "text": [
      "True\n",
      "False\n"
     ]
    }
   ],
   "source": [
    "#Check if \"banana\" is present in the set:\n",
    "\n",
    "thisset = {\"apple\", \"banana\", \"cherry\"}\n",
    "\n",
    "print(\"apple\" in thisset)\n",
    "print(\"orange\" in thisset)"
   ]
  },
  {
   "cell_type": "code",
   "execution_count": 8,
   "id": "c1a3a721",
   "metadata": {},
   "outputs": [
    {
     "name": "stdout",
     "output_type": "stream",
     "text": [
      "False\n"
     ]
    }
   ],
   "source": [
    "# Check if \"banana\" is NOT present in the set:\n",
    "\n",
    "thisset = {\"apple\", \"banana\", \"cherry\"}\n",
    "\n",
    "print(\"banana\" not in thisset)"
   ]
  },
  {
   "cell_type": "markdown",
   "id": "4f401fcf",
   "metadata": {},
   "source": [
    "### Change Items\n",
    "Once a set is created, you cannot change its items, but you can add new items."
   ]
  },
  {
   "cell_type": "markdown",
   "id": "3635f929",
   "metadata": {},
   "source": [
    "### Exercise  ?\n"
   ]
  },
  {
   "cell_type": "markdown",
   "id": "98f602f0",
   "metadata": {},
   "source": [
    "True or False. You can access set items by referring to the index. ?\n",
    "\n"
   ]
  },
  {
   "cell_type": "markdown",
   "id": "a97eb367",
   "metadata": {},
   "source": [
    "### Add set Items\n",
    "Once a set is created, you <b> cannot change its items</b>, but you can <b>add new items</b>.\n",
    "\n",
    "To add one item to a set use the <b> add() method</b>.\n",
    "\n"
   ]
  },
  {
   "cell_type": "code",
   "execution_count": 9,
   "id": "5928f157",
   "metadata": {},
   "outputs": [
    {
     "name": "stdout",
     "output_type": "stream",
     "text": [
      "{'banana', 'apple', 'orange', 'cherry'}\n"
     ]
    }
   ],
   "source": [
    "# Add an item to a set, using the add() method:\n",
    "\n",
    "thisset = {\"apple\", \"banana\", \"cherry\"}\n",
    "\n",
    "thisset.add(\"orange\")\n",
    "\n",
    "print(thisset)"
   ]
  },
  {
   "cell_type": "markdown",
   "id": "f36032e7",
   "metadata": {},
   "source": [
    "### Add Sets\n",
    "To <b>add items from another set into the current set</b>, use the <b>update() method</b>.\n",
    "\n"
   ]
  },
  {
   "cell_type": "code",
   "execution_count": 10,
   "id": "420893b6",
   "metadata": {},
   "outputs": [
    {
     "name": "stdout",
     "output_type": "stream",
     "text": [
      "{'banana', 'apple', 'cherry'}\n",
      "{'banana', 'cherry', 'mango', 'papaya', 'pineapple', 'apple'}\n"
     ]
    }
   ],
   "source": [
    "# Add elements from tropical into thisset:\n",
    "\n",
    "thisset = {\"apple\", \"banana\", \"cherry\"}\n",
    "print(thisset)\n",
    "tropical = {\"pineapple\", \"mango\", \"papaya\"}\n",
    "\n",
    "thisset.update(tropical)\n",
    "\n",
    "print(thisset)"
   ]
  },
  {
   "cell_type": "markdown",
   "id": "29798ea8",
   "metadata": {},
   "source": [
    "### Add Any Iterable\n",
    "The object in the update() method does not have to be a set, <b> it can be any iterable object (tuples, lists, dictionaries etc.)</b>.\n",
    "\n"
   ]
  },
  {
   "cell_type": "code",
   "execution_count": 37,
   "id": "d089aeed",
   "metadata": {},
   "outputs": [
    {
     "name": "stdout",
     "output_type": "stream",
     "text": [
      "{'apple', 'cherry', 'banana', 'kiwi', 'orange'}\n"
     ]
    }
   ],
   "source": [
    "#Add elements of a list to at set:\n",
    "\n",
    "thisset = {\"apple\", \"banana\", \"cherry\"}\n",
    "mylist = [\"kiwi\", \"orange\"]\n",
    "\n",
    "thisset.update(mylist)\n",
    "\n",
    "print(thisset)"
   ]
  },
  {
   "cell_type": "markdown",
   "id": "313e720d",
   "metadata": {},
   "source": [
    "### Exercise  ?\n",
    "\n",
    "What is a correct syntax for adding items to a set?\n",
    "\n",
    "add(), insert(), push()\n",
    "\n"
   ]
  },
  {
   "cell_type": "markdown",
   "id": "d95b0f9e",
   "metadata": {},
   "source": [
    "### Remove Item\n",
    "To remove an item in a set, use the <b>remove(), or the discard() method</b>."
   ]
  },
  {
   "cell_type": "code",
   "execution_count": 11,
   "id": "31024060",
   "metadata": {},
   "outputs": [
    {
     "name": "stdout",
     "output_type": "stream",
     "text": [
      "{'apple', 'cherry'}\n"
     ]
    }
   ],
   "source": [
    "#Remove \"banana\" by using the remove() method:\n",
    "\n",
    "thisset = {\"apple\", \"banana\", \"cherry\"}\n",
    "\n",
    "thisset.remove(\"banana\")\n",
    "\n",
    "print(thisset)\n",
    "\n",
    "#Note: If the item to remove does not exist, remove() will raise an error.\n",
    "\n"
   ]
  },
  {
   "cell_type": "code",
   "execution_count": 12,
   "id": "14b6bb6a",
   "metadata": {},
   "outputs": [
    {
     "ename": "KeyError",
     "evalue": "'banana'",
     "output_type": "error",
     "traceback": [
      "\u001b[0;31m---------------------------------------------------------------------------\u001b[0m",
      "\u001b[0;31mKeyError\u001b[0m                                  Traceback (most recent call last)",
      "\u001b[0;32m/tmp/ipykernel_6093/3677091469.py\u001b[0m in \u001b[0;36m<module>\u001b[0;34m\u001b[0m\n\u001b[1;32m      1\u001b[0m \u001b[0mthisset\u001b[0m \u001b[0;34m=\u001b[0m \u001b[0;34m{\u001b[0m\u001b[0;34m\"apple\"\u001b[0m\u001b[0;34m,\u001b[0m \u001b[0;34m\"cherry\"\u001b[0m\u001b[0;34m}\u001b[0m\u001b[0;34m\u001b[0m\u001b[0;34m\u001b[0m\u001b[0m\n\u001b[1;32m      2\u001b[0m \u001b[0;34m\u001b[0m\u001b[0m\n\u001b[0;32m----> 3\u001b[0;31m \u001b[0mthisset\u001b[0m\u001b[0;34m.\u001b[0m\u001b[0mremove\u001b[0m\u001b[0;34m(\u001b[0m\u001b[0;34m\"banana\"\u001b[0m\u001b[0;34m)\u001b[0m\u001b[0;34m\u001b[0m\u001b[0;34m\u001b[0m\u001b[0m\n\u001b[0m\u001b[1;32m      4\u001b[0m \u001b[0;34m\u001b[0m\u001b[0m\n\u001b[1;32m      5\u001b[0m \u001b[0mprint\u001b[0m\u001b[0;34m(\u001b[0m\u001b[0mthisset\u001b[0m\u001b[0;34m)\u001b[0m  \u001b[0;31m# it raise an error because banana is not present in the set.\u001b[0m\u001b[0;34m\u001b[0m\u001b[0;34m\u001b[0m\u001b[0m\n",
      "\u001b[0;31mKeyError\u001b[0m: 'banana'"
     ]
    }
   ],
   "source": [
    "thisset = {\"apple\", \"cherry\"}\n",
    "\n",
    "thisset.remove(\"banana\")\n",
    "\n",
    "print(thisset)  # it raise an error because banana is not present in the set.\n"
   ]
  },
  {
   "cell_type": "code",
   "execution_count": 13,
   "id": "c71f93e1",
   "metadata": {},
   "outputs": [
    {
     "name": "stdout",
     "output_type": "stream",
     "text": [
      "{'apple', 'cherry'}\n"
     ]
    }
   ],
   "source": [
    "# Remove \"banana\" by using the discard() method:\n",
    "\n",
    "thisset = {\"apple\", \"banana\", \"cherry\"}\n",
    "\n",
    "thisset.discard(\"banana\")\n",
    "\n",
    "print(thisset)\n",
    "\n",
    "# Note: If the item to remove does not exist, discard() will NOT raise an error.\n",
    "\n"
   ]
  },
  {
   "cell_type": "code",
   "execution_count": 14,
   "id": "903c22ed",
   "metadata": {},
   "outputs": [
    {
     "name": "stdout",
     "output_type": "stream",
     "text": [
      "{'cherry', 'apple'}\n"
     ]
    }
   ],
   "source": [
    "thisset = {\"apple\", \"cherry\"}\n",
    "\n",
    "thisset.discard(\"banana\")\n",
    "\n",
    "print(thisset)  # using discard () will not raise error even if banana is not present in the set."
   ]
  },
  {
   "cell_type": "markdown",
   "id": "c89003a7",
   "metadata": {},
   "source": [
    "### You can also use the pop() method to remove an item, but this method will remove a random item, so you cannot be sure what item that gets removed.\n",
    "\n",
    "The return value of the pop() method is the removed item."
   ]
  },
  {
   "cell_type": "code",
   "execution_count": 16,
   "id": "4da6f15a",
   "metadata": {},
   "outputs": [
    {
     "name": "stdout",
     "output_type": "stream",
     "text": [
      "yellow\n",
      "{'cherry', 'apple'}\n"
     ]
    }
   ],
   "source": [
    "# Remove a random item by using the pop() method:\n",
    "\n",
    "thisset = {\"apple\", \"yellow\", \"cherry\"}\n",
    "\n",
    "x = thisset.pop()\n",
    "\n",
    "print(x)\n",
    "\n",
    "print(thisset)\n",
    "\n",
    "# Note: Sets are unordered, so when using the pop() method, you do not know which item that gets removed.\n",
    "\n"
   ]
  },
  {
   "cell_type": "code",
   "execution_count": 17,
   "id": "7ab6f5de",
   "metadata": {},
   "outputs": [
    {
     "name": "stdout",
     "output_type": "stream",
     "text": [
      "set()\n"
     ]
    }
   ],
   "source": [
    "# The clear() method empties the set:\n",
    "\n",
    "thisset = {\"apple\", \"banana\", \"cherry\"}\n",
    "\n",
    "thisset.clear()\n",
    "\n",
    "print(thisset)   # set() - this is empty set"
   ]
  },
  {
   "cell_type": "code",
   "execution_count": 19,
   "id": "c2af6bcf",
   "metadata": {},
   "outputs": [
    {
     "ename": "NameError",
     "evalue": "name 'thissetZ' is not defined",
     "output_type": "error",
     "traceback": [
      "\u001b[0;31m---------------------------------------------------------------------------\u001b[0m",
      "\u001b[0;31mNameError\u001b[0m                                 Traceback (most recent call last)",
      "\u001b[0;32m/tmp/ipykernel_6093/2002318154.py\u001b[0m in \u001b[0;36m<module>\u001b[0;34m\u001b[0m\n\u001b[1;32m      5\u001b[0m \u001b[0;32mdel\u001b[0m \u001b[0mthissetZ\u001b[0m\u001b[0;34m\u001b[0m\u001b[0;34m\u001b[0m\u001b[0m\n\u001b[1;32m      6\u001b[0m \u001b[0;34m\u001b[0m\u001b[0m\n\u001b[0;32m----> 7\u001b[0;31m \u001b[0mprint\u001b[0m\u001b[0;34m(\u001b[0m\u001b[0mthissetZ\u001b[0m\u001b[0;34m)\u001b[0m \u001b[0;31m# It gives name error because thissetZ set is deleted so when we print it shows errpr nameerror\u001b[0m\u001b[0;34m\u001b[0m\u001b[0;34m\u001b[0m\u001b[0m\n\u001b[0m",
      "\u001b[0;31mNameError\u001b[0m: name 'thissetZ' is not defined"
     ]
    }
   ],
   "source": [
    "#The del keyword will delete the set completely:\n",
    "\n",
    "thissetZ = {\"apple\", \"banana\", \"cherry\"}\n",
    "\n",
    "del thissetZ\n",
    "\n",
    "print(thissetZ) # It gives name error because thissetZ set is deleted so when we print it shows errpr nameerror"
   ]
  },
  {
   "cell_type": "markdown",
   "id": "3582c77c",
   "metadata": {},
   "source": [
    "### Exercise ?\n",
    "What is a correct syntax for removing an item from a set?"
   ]
  },
  {
   "cell_type": "markdown",
   "id": "f38f8c4b",
   "metadata": {},
   "source": [
    "## Python Dictionaries\n"
   ]
  },
  {
   "cell_type": "code",
   "execution_count": 21,
   "id": "bf367d16",
   "metadata": {},
   "outputs": [],
   "source": [
    "thisdict = {\n",
    "  \"brand\": \"Ford\",\n",
    "  \"model\": \"Mustang\",\n",
    "  \"year\": 1964\n",
    "}"
   ]
  },
  {
   "cell_type": "code",
   "execution_count": 22,
   "id": "f95d5575",
   "metadata": {},
   "outputs": [],
   "source": [
    "variable = {\"apple\", True, \"Banana\", 2}"
   ]
  },
  {
   "cell_type": "markdown",
   "id": "0f25f276",
   "metadata": {},
   "source": [
    "### Dictionary\n",
    "Dictionaries are used to store data values in key:value pairs.\n",
    "\n",
    "A dictionary is a collection which is <b>ordered*, changeable and do not allow duplicates</b>.\n",
    "\n",
    "Dictionaries are written with <b>curly brackets, and have keys and values</b>:"
   ]
  },
  {
   "cell_type": "code",
   "execution_count": 23,
   "id": "e54a2314",
   "metadata": {},
   "outputs": [
    {
     "name": "stdout",
     "output_type": "stream",
     "text": [
      "{'brand': 'Ford', 'model': 'Mustang', 'year': 1964}\n"
     ]
    }
   ],
   "source": [
    "# print the dictionary\n",
    "print(thisdict)"
   ]
  },
  {
   "cell_type": "markdown",
   "id": "2abfbb92",
   "metadata": {},
   "source": [
    "### Dictionary Items\n",
    "Dictionary items are <b>ordered, changeable, and do not allow duplicates.</b>\n",
    "\n",
    "Dictionary items are presented in <b>key:value pairs</b>, and can be <b>referred to by using the key name</b>."
   ]
  },
  {
   "cell_type": "code",
   "execution_count": 26,
   "id": "6e86f687",
   "metadata": {},
   "outputs": [
    {
     "name": "stdout",
     "output_type": "stream",
     "text": [
      "1964\n"
     ]
    }
   ],
   "source": [
    "#Print the \"brand\" value of the dictionary:\n",
    "\n",
    "thisdict = {\n",
    "  \"brand\": \"Ford\",\n",
    "  \"model\": \"Mustang\",\n",
    "  \"year\": 1964\n",
    "}\n",
    "print(thisdict[\"year\"])"
   ]
  },
  {
   "cell_type": "markdown",
   "id": "172beca8",
   "metadata": {},
   "source": [
    "### Ordered or Unordered?\n",
    "\n",
    "When I say that dictionaries are ordered, it means that the items have a <b>defined order, and that order will not change.</b>\n",
    "\n",
    "Unordered means that the <b>items do not have a defined order</b>, you <b>cannot refer to an item by using an index.</b>"
   ]
  },
  {
   "cell_type": "markdown",
   "id": "50f40b58",
   "metadata": {},
   "source": [
    "### Changeable\n",
    "Dictionaries are <b>changeable</b>, meaning that we <b>can change, add or remove items after the dictionary has been created.</b>\n",
    "\n"
   ]
  },
  {
   "cell_type": "markdown",
   "id": "fa6ac186",
   "metadata": {},
   "source": [
    "### Duplicates Not Allowed\n",
    "Dictionaries <b>cannot have two items with the same key</b>:"
   ]
  },
  {
   "cell_type": "code",
   "execution_count": 30,
   "id": "f68ec4fe",
   "metadata": {},
   "outputs": [
    {
     "name": "stdout",
     "output_type": "stream",
     "text": [
      "{'brand': 'Ford', 'model': 'Mustang', 'year': 1990}\n"
     ]
    }
   ],
   "source": [
    "#Duplicate values will overwrite existing values:\n",
    "\n",
    "thisdict = {\n",
    "  \"brand\": \"Ford\",\n",
    "  \"model\": \"Mustang\",\n",
    "  \"year\": 2024,\n",
    "  \"year\": 2020,\n",
    "    \"year\":1990\n",
    "}\n",
    "print(thisdict)"
   ]
  },
  {
   "cell_type": "markdown",
   "id": "3f7cecab",
   "metadata": {},
   "source": [
    "### Dictionary Length\n",
    "To determine how many items a dictionary has, use the <b>len()</b> function:\n",
    "\n"
   ]
  },
  {
   "cell_type": "code",
   "execution_count": 31,
   "id": "31e2af35",
   "metadata": {},
   "outputs": [
    {
     "name": "stdout",
     "output_type": "stream",
     "text": [
      "3\n"
     ]
    }
   ],
   "source": [
    "# Print the number of items in the dictionary:\n",
    "\n",
    "print(len(thisdict))\n"
   ]
  },
  {
   "cell_type": "markdown",
   "id": "60f7cbd5",
   "metadata": {},
   "source": [
    "### Dictionary Items - Data Types\n",
    "The values in dictionary items can be of any data type:"
   ]
  },
  {
   "cell_type": "code",
   "execution_count": 73,
   "id": "886e4e69",
   "metadata": {},
   "outputs": [],
   "source": [
    "#String, int, boolean, and list data types:\n",
    "\n",
    "thisdict = {\n",
    "  \"brand\": \"Ford\",\n",
    "  \"electric\": False,\n",
    "  \"year\": 1964,\n",
    "  \"colors\": [\"red\", \"white\", \"blue\"]\n",
    "}"
   ]
  },
  {
   "cell_type": "markdown",
   "id": "4762ae7f",
   "metadata": {},
   "source": [
    "### type()\n",
    "Dictionaries are defined as objects with the data type 'dict':"
   ]
  },
  {
   "cell_type": "code",
   "execution_count": 74,
   "id": "db00213a",
   "metadata": {},
   "outputs": [
    {
     "name": "stdout",
     "output_type": "stream",
     "text": [
      "<class 'dict'>\n"
     ]
    }
   ],
   "source": [
    "# Print the data type of a dictionary:\n",
    "\n",
    "thisdict = {\n",
    "  \"brand\": \"Ford\",\n",
    "  \"model\": \"Mustang\",\n",
    "  \"year\": 1964\n",
    "}\n",
    "print(type(thisdict))"
   ]
  },
  {
   "cell_type": "markdown",
   "id": "4eae691b",
   "metadata": {},
   "source": [
    "### The dict() Constructor\n",
    "It is also possible to use the dict() constructor to make a dictionary."
   ]
  },
  {
   "cell_type": "code",
   "execution_count": 32,
   "id": "2b9acdc2",
   "metadata": {},
   "outputs": [
    {
     "name": "stdout",
     "output_type": "stream",
     "text": [
      "{'name': 'John', 'age': 36, 'country': 'Norway'}\n"
     ]
    }
   ],
   "source": [
    "#Using the dict() method to make a dictionary:\n",
    "\n",
    "thisdict = dict(name = \"John\", age = 36, country = \"Norway\")\n",
    "print(thisdict)"
   ]
  },
  {
   "cell_type": "markdown",
   "id": "13f79a77",
   "metadata": {},
   "source": [
    "### Python Collections (Arrays)\n",
    "There are <b>four collection data types</b> in the Python programming language:\n",
    "\n",
    "<b>List</b> is a collection which is <b>ordered and changeable</b>. <b>Allows duplicate</b> members.\n",
    "\n",
    "<b>Tuple</b> is a collection which is <b>ordered and unchangeable</b>. <b>Allows duplicate</b> members.\n",
    "\n",
    "<b>Set</b> is a collection which is <b>unordered, unchangeable*, and unindexed</b>. <b>No duplicate</b> members.\n",
    "\n",
    "<b>Dictionary</b> is a collection which is <b>ordered** and changeable</b>. <b>No duplicate</b> members."
   ]
  },
  {
   "cell_type": "markdown",
   "id": "356eb880",
   "metadata": {},
   "source": [
    "### Exercise ?\n",
    "Which one of these is a dictionary?\n",
    "\n",
    "\n",
    "x = ('apple', 'banana', 'cherry')\n",
    "\n",
    "x = {'type' : 'fruit', 'name' : 'banana'}\n",
    "\n",
    "x = ['apple', 'banana', 'cherry']"
   ]
  },
  {
   "cell_type": "markdown",
   "id": "b1fa5b45",
   "metadata": {},
   "source": [
    "### Access Dictionary Items\n",
    "You can access the items of a dictionary by referring to its <b>key name, inside square brackets</b>:"
   ]
  },
  {
   "cell_type": "code",
   "execution_count": 34,
   "id": "66d6a1ef",
   "metadata": {},
   "outputs": [
    {
     "name": "stdout",
     "output_type": "stream",
     "text": [
      "Mustang\n"
     ]
    }
   ],
   "source": [
    "#Get the value of the \"model\" key:\n",
    "\n",
    "thisdict = {\n",
    "  \"brand\": \"Ford\",\n",
    "  \"model\": \"Mustang\",\n",
    "  \"year\": 1964\n",
    "}\n",
    "x = thisdict[\"model\"]\n",
    "print(x)"
   ]
  },
  {
   "cell_type": "markdown",
   "id": "fd420973",
   "metadata": {},
   "source": [
    "There is also a method called <b>get()</b> that will give you the same result:\n"
   ]
  },
  {
   "cell_type": "code",
   "execution_count": 78,
   "id": "5201d94d",
   "metadata": {},
   "outputs": [
    {
     "name": "stdout",
     "output_type": "stream",
     "text": [
      "Mustang\n"
     ]
    }
   ],
   "source": [
    "#Get the value of the \"model\" key:\n",
    "\n",
    "x = thisdict.get(\"model\")\n",
    "print(x)"
   ]
  },
  {
   "cell_type": "markdown",
   "id": "24bd2ad8",
   "metadata": {},
   "source": [
    "Get Keys - <b> keys()</b> method will <b> return a list of all the keys</b> in the dictionary.\n"
   ]
  },
  {
   "cell_type": "code",
   "execution_count": 80,
   "id": "fb76719f",
   "metadata": {},
   "outputs": [
    {
     "name": "stdout",
     "output_type": "stream",
     "text": [
      "dict_keys(['brand', 'model', 'year'])\n"
     ]
    }
   ],
   "source": [
    "#Get a list of the keys:\n",
    "x = thisdict.keys()\n",
    "print(x)"
   ]
  },
  {
   "cell_type": "markdown",
   "id": "0560a73c",
   "metadata": {},
   "source": [
    "The list of the keys is a view of the dictionary, meaning that any changes done to the dictionary will be reflected in the keys list.\n",
    "\n"
   ]
  },
  {
   "cell_type": "markdown",
   "id": "98b0d966",
   "metadata": {},
   "source": [
    "### Add a new item to the original dictionary, and see that the keys list gets updated as well:\n"
   ]
  },
  {
   "cell_type": "code",
   "execution_count": 35,
   "id": "be7198f1",
   "metadata": {},
   "outputs": [
    {
     "name": "stdout",
     "output_type": "stream",
     "text": [
      "dict_keys(['brand', 'model', 'year'])\n",
      "dict_keys(['brand', 'model', 'year', 'color'])\n"
     ]
    }
   ],
   "source": [
    "#Add a new item to the original dictionary, and see that the keys list gets updated as well:\n",
    "\n",
    "car = {\n",
    "\"brand\": \"Ford\",\n",
    "\"model\": \"Mustang\",\n",
    "\"year\": 1964\n",
    "}\n",
    "\n",
    "x = car.keys()\n",
    "\n",
    "print(x) #before the change\n",
    "\n",
    "car[\"color\"] = \"white\"\n",
    "\n",
    "print(x) #after the change"
   ]
  },
  {
   "cell_type": "markdown",
   "id": "42533335",
   "metadata": {},
   "source": [
    "### Get Values\n",
    "The <b>values() method</b> will <b>return a list of all the values</b> in the dictionary.\n",
    "\n"
   ]
  },
  {
   "cell_type": "code",
   "execution_count": 84,
   "id": "fb93028d",
   "metadata": {},
   "outputs": [
    {
     "name": "stdout",
     "output_type": "stream",
     "text": [
      "dict_values(['Ford', 'Mustang', 1964])\n",
      "dict_values(['Ford', 'Mustang', 1964, 'white'])\n"
     ]
    }
   ],
   "source": [
    "#Get a list of the values:\n",
    "\n",
    "x = thisdict.values()\n",
    "y = car.values()\n",
    "print(x)\n",
    "print(y)"
   ]
  },
  {
   "cell_type": "markdown",
   "id": "49d8a4fb",
   "metadata": {},
   "source": [
    "The list of the values is a view of the dictionary, meaning that any changes done to the dictionary will be reflected in the values list.\n",
    "\n"
   ]
  },
  {
   "cell_type": "markdown",
   "id": "2045732e",
   "metadata": {},
   "source": [
    "### Get Items\n",
    "The <b>items() method</b> will <b>return each item in a dictionary, as tuples in a list</b>."
   ]
  },
  {
   "cell_type": "code",
   "execution_count": 87,
   "id": "2b90bcf5",
   "metadata": {},
   "outputs": [
    {
     "name": "stdout",
     "output_type": "stream",
     "text": [
      "dict_items([('brand', 'Ford'), ('model', 'Mustang'), ('year', 1964)])\n",
      "dict_items([('brand', 'Ford'), ('model', 'Mustang'), ('year', 1964), ('color', 'white')])\n"
     ]
    }
   ],
   "source": [
    "x = thisdict.items()\n",
    "y = car.items()\n",
    "print(x)\n",
    "print(y)"
   ]
  },
  {
   "cell_type": "markdown",
   "id": "0ca16a72",
   "metadata": {},
   "source": [
    "The <b>returned list is a view of the items of the dictionary</b>, meaning that <b>any changes done to the dictionary will be reflected in the items list</b>.\n",
    "\n"
   ]
  },
  {
   "cell_type": "markdown",
   "id": "91400715",
   "metadata": {},
   "source": [
    "### Check if Key Exists\n",
    "To determine if a <b>specified key is present in a dictionary</b> use the <b>in keyword</b>:\n",
    "\n"
   ]
  },
  {
   "cell_type": "code",
   "execution_count": 37,
   "id": "dfb10238",
   "metadata": {},
   "outputs": [
    {
     "name": "stdout",
     "output_type": "stream",
     "text": [
      "Yes, 'year' is one of the keys in the thisdict dictionary\n"
     ]
    }
   ],
   "source": [
    "#Check if \"model\" is present in the dictionary:\n",
    "\n",
    "thisdict = {\n",
    "  \"brand\": \"Ford\",\n",
    "  \"model\": \"Mustang\",\n",
    "  \"year\": 1964\n",
    "}\n",
    "if \"model\" in thisdict:\n",
    "  print(\"Yes, 'year' is one of the keys in the thisdict dictionary\")"
   ]
  },
  {
   "cell_type": "markdown",
   "id": "440b47ea",
   "metadata": {},
   "source": [
    "### Exercise ?\n",
    "True or False. You can access item values by referring to the key name.\n"
   ]
  },
  {
   "cell_type": "markdown",
   "id": "39698567",
   "metadata": {},
   "source": [
    "### Change Values\n",
    "You can change the value of a specific item by referring to its key name:"
   ]
  },
  {
   "cell_type": "code",
   "execution_count": 39,
   "id": "612c341d",
   "metadata": {},
   "outputs": [
    {
     "name": "stdout",
     "output_type": "stream",
     "text": [
      "{'brand': 'Ford', 'model': 'Mustang', 'year': 2018}\n"
     ]
    }
   ],
   "source": [
    "# Change the \"year\" to 2018:\n",
    "\n",
    "thisdict = {\n",
    "  \"brand\": \"Ford\",\n",
    "  \"model\": \"Mustang\",\n",
    "  \"year\": 1964\n",
    "}\n",
    "thisdict[\"year\"] = 2018\n",
    "\n",
    "print(thisdict)"
   ]
  },
  {
   "cell_type": "markdown",
   "id": "9eb5a223",
   "metadata": {},
   "source": [
    "### Update Dictionary\n",
    "The <b>update() method</b> will update the dictionary with the items from the given argument.\n",
    "\n",
    "The argument must be a dictionary, or an iterable object with key:value pairs."
   ]
  },
  {
   "cell_type": "code",
   "execution_count": 43,
   "id": "9d37cc6d",
   "metadata": {},
   "outputs": [
    {
     "name": "stdout",
     "output_type": "stream",
     "text": [
      "{'brand': 'Ford', 'model': 'Mustang', 'year': 2020}\n"
     ]
    }
   ],
   "source": [
    "# Update the \"year\" of the car by using the update() method:\n",
    "\n",
    "thisdict = {\n",
    "  \"brand\": \"Ford\",\n",
    "  \"model\": \"Mustang\",\n",
    "  \"year\": 1964\n",
    "}\n",
    "thisdict.update({\"year\": 2020})\n",
    "print(thisdict)"
   ]
  },
  {
   "cell_type": "markdown",
   "id": "37265433",
   "metadata": {},
   "source": [
    "### Exercise ?\n",
    "Consider the following code:\n",
    "x = {'type' : 'fruit', 'name' : 'banana'}\n",
    "What is a correct syntax for changing the type from fruit to berry?\n",
    "\n",
    "\n",
    "x{'type'} = 'berry'\n",
    "\n",
    "x['type'] = 'berry'\n",
    "\n",
    "x.get('type') = 'berry'"
   ]
  },
  {
   "cell_type": "markdown",
   "id": "9c1f6604",
   "metadata": {},
   "source": [
    "### Adding Items\n",
    "Adding an item to the dictionary is <b>done by using a new index key and assigning a value</b> to it:\n",
    "\n"
   ]
  },
  {
   "cell_type": "code",
   "execution_count": 94,
   "id": "177c3e7a",
   "metadata": {},
   "outputs": [
    {
     "name": "stdout",
     "output_type": "stream",
     "text": [
      "{'brand': 'Ford', 'model': 'Mustang', 'year': 1964, 'color': 'red'}\n"
     ]
    }
   ],
   "source": [
    "thisdict = {\n",
    "  \"brand\": \"Ford\",\n",
    "  \"model\": \"Mustang\",\n",
    "  \"year\": 1964\n",
    "}\n",
    "thisdict[\"color\"] = \"red\"\n",
    "print(thisdict)\n"
   ]
  },
  {
   "cell_type": "markdown",
   "id": "500a305e",
   "metadata": {},
   "source": [
    "### Update Dictionary\n",
    "The update() method will update the dictionary with the items from a given argument. If the item does not exist, the item will be added.\n",
    "\n",
    "The argument must be a dictionary, or an iterable object with key:value pairs.\n",
    "\n"
   ]
  },
  {
   "cell_type": "code",
   "execution_count": 96,
   "id": "0fd63258",
   "metadata": {},
   "outputs": [
    {
     "name": "stdout",
     "output_type": "stream",
     "text": [
      "{'brand': 'Ford', 'model': 'Mustang', 'year': 1964, 'color': 'red'}\n"
     ]
    }
   ],
   "source": [
    "#Add a color item to the dictionary by using the update() method:\n",
    "\n",
    "thisdict = {\n",
    "  \"brand\": \"Ford\",\n",
    "  \"model\": \"Mustang\",\n",
    "  \"year\": 1964\n",
    "}\n",
    "thisdict.update({\"color\": \"red\"})\n",
    "print(thisdict)"
   ]
  },
  {
   "cell_type": "markdown",
   "id": "25f8d12c",
   "metadata": {},
   "source": [
    "### Exercise ?\n",
    "Which one of these dictionary methods can be used to add items to a dictionary?\n",
    "\n",
    "add()\n",
    "\n",
    "insert()\n",
    "\n",
    "update()"
   ]
  },
  {
   "cell_type": "markdown",
   "id": "e9b975f2",
   "metadata": {},
   "source": [
    "### Removing Items\n",
    "There are several methods to remove items from a dictionary:"
   ]
  },
  {
   "cell_type": "markdown",
   "id": "51a8067a",
   "metadata": {},
   "source": [
    "### pop() method removes the item with the specified key name:"
   ]
  },
  {
   "cell_type": "code",
   "execution_count": 45,
   "id": "264a8300",
   "metadata": {},
   "outputs": [
    {
     "name": "stdout",
     "output_type": "stream",
     "text": [
      "{'brand': 'Ford', 'year': 1964}\n"
     ]
    }
   ],
   "source": [
    "#The pop() method removes the item with the specified key name:\n",
    "\n",
    "thisdict = {\n",
    "  \"brand\": \"Ford\",\n",
    "  \"model\": \"Mustang\",\n",
    "  \"year\": 1964\n",
    "}\n",
    "thisdict.pop(\"model\")\n",
    "print(thisdict)"
   ]
  },
  {
   "cell_type": "markdown",
   "id": "8506bc31",
   "metadata": {},
   "source": [
    "### popitem() method removes the last inserted item."
   ]
  },
  {
   "cell_type": "code",
   "execution_count": 48,
   "id": "b5e29e9c",
   "metadata": {},
   "outputs": [
    {
     "name": "stdout",
     "output_type": "stream",
     "text": [
      "{'brand': 'Ford', 'model': 'Mustang', 'year': 1964}\n"
     ]
    }
   ],
   "source": [
    "#The popitem() method removes the last inserted item (in versions before 3.7, a random item is removed instead):\n",
    "\n",
    "thisdict = {\n",
    "  \"brand\": \"Ford\",\n",
    "  \"model\": \"Mustang\",\n",
    "  \"year\": 1964, \n",
    "    \"color\":\"red\"\n",
    "}\n",
    "thisdict.popitem()\n",
    "print(thisdict)"
   ]
  },
  {
   "cell_type": "markdown",
   "id": "5ecfb8ff",
   "metadata": {},
   "source": [
    "### del keyword removes the item with the specified key name"
   ]
  },
  {
   "cell_type": "code",
   "execution_count": 49,
   "id": "3e0ca092",
   "metadata": {},
   "outputs": [
    {
     "name": "stdout",
     "output_type": "stream",
     "text": [
      "{'brand': 'Ford', 'year': 1964}\n"
     ]
    }
   ],
   "source": [
    "#The del keyword removes the item with the specified key name:\n",
    "\n",
    "thisdict = {\n",
    "  \"brand\": \"Ford\",\n",
    "  \"model\": \"Mustang\",\n",
    "  \"year\": 1964\n",
    "}\n",
    "del thisdict[\"model\"]\n",
    "print(thisdict)"
   ]
  },
  {
   "cell_type": "markdown",
   "id": "2b7f16cb",
   "metadata": {},
   "source": [
    "### del keyword can also delete the dictionary completely"
   ]
  },
  {
   "cell_type": "code",
   "execution_count": 100,
   "id": "4bf42c71",
   "metadata": {},
   "outputs": [
    {
     "ename": "NameError",
     "evalue": "name 'thisdict' is not defined",
     "output_type": "error",
     "traceback": [
      "\u001b[0;31m---------------------------------------------------------------------------\u001b[0m",
      "\u001b[0;31mNameError\u001b[0m                                 Traceback (most recent call last)",
      "\u001b[0;32m/tmp/ipykernel_13338/2881974206.py\u001b[0m in \u001b[0;36m<module>\u001b[0;34m\u001b[0m\n\u001b[1;32m      7\u001b[0m }\n\u001b[1;32m      8\u001b[0m \u001b[0;32mdel\u001b[0m \u001b[0mthisdict\u001b[0m\u001b[0;34m\u001b[0m\u001b[0;34m\u001b[0m\u001b[0m\n\u001b[0;32m----> 9\u001b[0;31m \u001b[0mprint\u001b[0m\u001b[0;34m(\u001b[0m\u001b[0mthisdict\u001b[0m\u001b[0;34m)\u001b[0m \u001b[0;31m#this will cause an error because \"thisdict\" no longer exists.\u001b[0m\u001b[0;34m\u001b[0m\u001b[0;34m\u001b[0m\u001b[0m\n\u001b[0m",
      "\u001b[0;31mNameError\u001b[0m: name 'thisdict' is not defined"
     ]
    }
   ],
   "source": [
    "#The del keyword can also delete the dictionary completely:\n",
    "\n",
    "thisdict = {\n",
    "  \"brand\": \"Ford\",\n",
    "  \"model\": \"Mustang\",\n",
    "  \"year\": 1964\n",
    "}\n",
    "del thisdict\n",
    "print(thisdict) #this will cause an error because \"thisdict\" no longer exists.\n"
   ]
  },
  {
   "cell_type": "markdown",
   "id": "023713c1",
   "metadata": {},
   "source": [
    "### clear() method empties the dictionary"
   ]
  },
  {
   "cell_type": "code",
   "execution_count": 101,
   "id": "4b8441dd",
   "metadata": {},
   "outputs": [
    {
     "name": "stdout",
     "output_type": "stream",
     "text": [
      "{}\n"
     ]
    }
   ],
   "source": [
    "#The clear() method empties the dictionary:\n",
    "\n",
    "thisdict = {\n",
    "  \"brand\": \"Ford\",\n",
    "  \"model\": \"Mustang\",\n",
    "  \"year\": 1964\n",
    "}\n",
    "thisdict.clear()\n",
    "print(thisdict)"
   ]
  },
  {
   "cell_type": "markdown",
   "id": "ba9cbb2f",
   "metadata": {},
   "source": [
    "### Exercise ?\n",
    "What is a dictionary method for removing an item from a dictionary?\n",
    "\n",
    "delete()\n",
    "\n",
    "remove()\n",
    "\n",
    "pop()\n"
   ]
  },
  {
   "cell_type": "markdown",
   "id": "8a540cc1",
   "metadata": {},
   "source": [
    "### Python - Loop Dictionaries"
   ]
  },
  {
   "cell_type": "markdown",
   "id": "69b0d147",
   "metadata": {},
   "source": [
    "### Loop Through a Dictionary\n",
    "You can <b>loop through</b> a dictionary by <b>using a for loop</b>.\n",
    "\n",
    "When looping through a dictionary, the return value are the keys of the dictionary, \n",
    "but there are methods to return the values as well."
   ]
  },
  {
   "cell_type": "code",
   "execution_count": 103,
   "id": "66a86863",
   "metadata": {},
   "outputs": [
    {
     "name": "stdout",
     "output_type": "stream",
     "text": [
      "brand\n",
      "model\n",
      "year\n"
     ]
    }
   ],
   "source": [
    "#Print all key names in the dictionary, one by one:\n",
    "thisdict = {\n",
    "  \"brand\": \"Ford\",\n",
    "  \"model\": \"Mustang\",\n",
    "  \"year\": 1964\n",
    "}\n",
    "for x in thisdict:\n",
    "  print(x)\n"
   ]
  },
  {
   "cell_type": "code",
   "execution_count": 104,
   "id": "b4e79abc",
   "metadata": {},
   "outputs": [
    {
     "name": "stdout",
     "output_type": "stream",
     "text": [
      "Ford\n",
      "Mustang\n",
      "1964\n"
     ]
    }
   ],
   "source": [
    "#Print all values in the dictionary, one by one:\n",
    "\n",
    "for x in thisdict:\n",
    "  print(thisdict[x])"
   ]
  },
  {
   "cell_type": "code",
   "execution_count": 105,
   "id": "71e65096",
   "metadata": {},
   "outputs": [
    {
     "name": "stdout",
     "output_type": "stream",
     "text": [
      "Ford\n",
      "Mustang\n",
      "1964\n"
     ]
    }
   ],
   "source": [
    "# You can also use the values() method to return values of a dictionary:\n",
    "\n",
    "for x in thisdict.values():\n",
    "  print(x)"
   ]
  },
  {
   "cell_type": "code",
   "execution_count": 106,
   "id": "42f62c93",
   "metadata": {},
   "outputs": [
    {
     "name": "stdout",
     "output_type": "stream",
     "text": [
      "brand\n",
      "model\n",
      "year\n"
     ]
    }
   ],
   "source": [
    "# You can use the keys() method to return the keys of a dictionary:\n",
    "\n",
    "for x in thisdict.keys():\n",
    "  print(x)"
   ]
  },
  {
   "cell_type": "code",
   "execution_count": 107,
   "id": "57d4a055",
   "metadata": {},
   "outputs": [
    {
     "name": "stdout",
     "output_type": "stream",
     "text": [
      "brand Ford\n",
      "model Mustang\n",
      "year 1964\n"
     ]
    }
   ],
   "source": [
    "# Loop through both keys and values, by using the items() method:\n",
    "\n",
    "for x, y in thisdict.items():\n",
    "  print(x, y)"
   ]
  },
  {
   "cell_type": "markdown",
   "id": "4ef961f7",
   "metadata": {},
   "source": [
    "### Exercise ?\n",
    "What is a correct syntax for looping through the values of this dictionary:\n",
    "x = {'type' : 'fruit', 'name' : 'apple'}\n",
    "\n",
    "\n",
    "for y in x.values():\n",
    "  print(y)\n",
    "\n",
    "for y in x:\n",
    "  print(y)\n",
    "\n",
    "for y in x:\n",
    "  print(y.value())"
   ]
  },
  {
   "cell_type": "markdown",
   "id": "96101462",
   "metadata": {},
   "source": [
    "### Program to store Chemistry marks of students in a dictionary\n"
   ]
  },
  {
   "cell_type": "markdown",
   "id": "17c8ce42",
   "metadata": {},
   "source": [
    "### Pseudocode\n",
    "\n",
    "BEGIN\n",
    "\n",
    "    CREATE an empty dictionary chemMarks\n",
    "\n",
    "    PRINT \"---- Chemistry Marks Entry ----\"\n",
    "    PRINT \"Enter 'N' anytime to stop.\"\n",
    "\n",
    "    REPEAT\n",
    "        PROMPT user to enter student name\n",
    "        IF student name = \"N\" (ignore case) THEN\n",
    "            EXIT loop\n",
    "        ENDIF\n",
    "\n",
    "        PROMPT user to enter marks\n",
    "        IF marks is not a number THEN\n",
    "            PRINT \"Invalid input, try again\"\n",
    "            CONTINUE to next iteration\n",
    "        ENDIF\n",
    "\n",
    "        ADD (name, marks) pair to chemMarks dictionary\n",
    "        PRINT \"Record saved: name → marks\"\n",
    "\n",
    "    UNTIL user enters \"N\"\n",
    "\n",
    "    PRINT \"---- Final Chemistry Marks ----\"\n",
    "    FOR EACH (student, mark) in chemMarks\n",
    "        PRINT student, mark\n",
    "    ENDFOR\n",
    "\n",
    "END"
   ]
  },
  {
   "cell_type": "markdown",
   "id": "26c68305",
   "metadata": {},
   "source": [
    "### Python code"
   ]
  },
  {
   "cell_type": "code",
   "execution_count": 53,
   "id": "b64ba1eb",
   "metadata": {},
   "outputs": [
    {
     "name": "stdout",
     "output_type": "stream",
     "text": [
      "---- Chemistry Marks Entry ----\n",
      "Enter 'N' anytime to stop.\n",
      "\n",
      "Enter student name (or 'N' to stop): a\n",
      "Enter marks for a: 2\n",
      "Record saved: a → 2\n",
      "\n",
      "Enter student name (or 'N' to stop): b\n",
      "Enter marks for b: 4\n",
      "Record saved: b → 4\n",
      "\n",
      "Enter student name (or 'N' to stop): n\n",
      "\n",
      "---- Final Chemistry Marks ----\n",
      "a: 2\n",
      "b: 4\n"
     ]
    }
   ],
   "source": [
    "# Empty dictionary to hold student names and marks\n",
    "chemMarks = {}\n",
    "\n",
    "print(\"---- Chemistry Marks Entry ----\")\n",
    "print(\"Enter 'N' anytime to stop.\\n\")\n",
    "\n",
    "while True:\n",
    "    # Ask for student name\n",
    "    name = input(\"Enter student name (or 'N' to stop): \").strip()\n",
    "    if name.upper() == \"N\":\n",
    "        break\n",
    "    \n",
    "    # Ask for marks (with integer conversion and error handling)\n",
    "    try:\n",
    "        marks = int(input(f\"Enter marks for {name}: \"))\n",
    "    except ValueError:\n",
    "        print(\"Invalid input! Marks should be a number. Try again.\\n\")\n",
    "        continue\n",
    "    \n",
    "    # Add to dictionary\n",
    "    chemMarks[name] = marks\n",
    "    print(f\"Record saved: {name} → {marks}\\n\")\n",
    "\n",
    "# Print final dictionary\n",
    "print(\"\\n---- Final Chemistry Marks ----\")\n",
    "for student, mark in chemMarks.items():\n",
    "    print(f\"{student}: {mark}\")\n"
   ]
  },
  {
   "cell_type": "code",
   "execution_count": 51,
   "id": "ec921e1c",
   "metadata": {},
   "outputs": [
    {
     "name": "stdout",
     "output_type": "stream",
     "text": [
      "{'anjali': 45}\n"
     ]
    }
   ],
   "source": [
    "print(chemMarks)"
   ]
  },
  {
   "cell_type": "markdown",
   "id": "101c3001",
   "metadata": {},
   "source": [
    "### Compute the average chemistry marks of students stored in a dictionary."
   ]
  },
  {
   "cell_type": "markdown",
   "id": "d67b1757",
   "metadata": {},
   "source": [
    "### Pseudocode\n",
    "\n",
    "BEGIN\n",
    "\n",
    "    SET total = 0\n",
    "    SET count = 0\n",
    "\n",
    "    FOR each student in Keys(chemMarks)\n",
    "        total = total + chemMarks[student]\n",
    "        count = count + 1\n",
    "    ENDFOR\n",
    "\n",
    "    IF count > 0 THEN\n",
    "        chemAvg = total / count\n",
    "        PRINT \"Average Chemistry Marks =\", chemAvg\n",
    "    ELSE\n",
    "        PRINT \"No marks available.\"\n",
    "    ENDIF\n",
    "\n",
    "END\n"
   ]
  },
  {
   "cell_type": "markdown",
   "id": "568eee60",
   "metadata": {},
   "source": [
    "### Python code"
   ]
  },
  {
   "cell_type": "code",
   "execution_count": 110,
   "id": "10e09cc4",
   "metadata": {},
   "outputs": [
    {
     "name": "stdout",
     "output_type": "stream",
     "text": [
      "Average Chemistry Marks = 85.75\n"
     ]
    }
   ],
   "source": [
    "# Dictionary containing chemistry marks\n",
    "chemMarks = {\n",
    "    \"Sachin\": 85,\n",
    "    \"Rohit\": 92,\n",
    "    \"Kohli\": 78,\n",
    "    \"Yuvraj\": 88\n",
    "}\n",
    "\n",
    "# Initialize total and count\n",
    "total = 0\n",
    "count = 0\n",
    "\n",
    "# Loop through dictionary keys\n",
    "for student in chemMarks.keys():\n",
    "    total = total + chemMarks[student]\n",
    "    count = count + 1\n",
    "\n",
    "# Compute average\n",
    "if count > 0:\n",
    "    chemAvg = total / count\n",
    "    print(\"Average Chemistry Marks =\", chemAvg)\n",
    "else:\n",
    "    print(\"No marks available.\")\n"
   ]
  },
  {
   "cell_type": "markdown",
   "id": "d885eb17",
   "metadata": {},
   "source": [
    "### Update a player's score in a dictionary: if the player already exists, add to their score; otherwise, create a new entry."
   ]
  },
  {
   "cell_type": "markdown",
   "id": "060a9a50",
   "metadata": {},
   "source": [
    "### Pseudocode"
   ]
  },
  {
   "cell_type": "raw",
   "id": "f32197d0",
   "metadata": {},
   "source": [
    "PROCEDURE isKey(D, K)\n",
    "    found = False\n",
    "    FOR each key in Keys(D)\n",
    "        IF key == K THEN\n",
    "            found = True\n",
    "            BREAK\n",
    "        ENDIF\n",
    "    ENDFOR\n",
    "    RETURN found\n",
    "END PROCEDURE\n",
    "\n",
    "\n",
    "BEGIN\n",
    "    INPUT score\n",
    "    IF isKey(runs, \"Kohli\") THEN\n",
    "        runs[\"Kohli\"] = runs[\"Kohli\"] + score\n",
    "    ELSE\n",
    "        runs[\"Kohli\"] = score\n",
    "    ENDIF\n",
    "END\n"
   ]
  },
  {
   "cell_type": "markdown",
   "id": "529bdff6",
   "metadata": {},
   "source": [
    "### python code"
   ]
  },
  {
   "cell_type": "code",
   "execution_count": 111,
   "id": "0b9b082e",
   "metadata": {},
   "outputs": [
    {
     "name": "stdout",
     "output_type": "stream",
     "text": [
      "{'Kohli': 50}\n"
     ]
    }
   ],
   "source": [
    "# Function to check if key exists in dictionary\n",
    "def isKey(d, k):\n",
    "    found = False\n",
    "    for key in d.keys():\n",
    "        if key == k:\n",
    "            found = True\n",
    "            break\n",
    "    return found\n",
    "\n",
    "# Dictionary to store runs\n",
    "runs = {}\n",
    "\n",
    "# Example: updating Kohli's runs\n",
    "score = 50  # new score to add\n",
    "\n",
    "if isKey(runs, \"Kohli\"):\n",
    "    runs[\"Kohli\"] = runs[\"Kohli\"] + score\n",
    "else:\n",
    "    runs[\"Kohli\"] = score\n",
    "\n",
    "print(runs)\n"
   ]
  },
  {
   "cell_type": "markdown",
   "id": "0b878ef8",
   "metadata": {},
   "source": [
    "### Home Work\n",
    "### Maintain a dictionary of cricket players’ scores by updating runs for an existing player or adding a new entry if the player does not exist."
   ]
  }
 ],
 "metadata": {
  "kernelspec": {
   "display_name": "Python 3 (ipykernel)",
   "language": "python",
   "name": "python3"
  },
  "language_info": {
   "codemirror_mode": {
    "name": "ipython",
    "version": 3
   },
   "file_extension": ".py",
   "mimetype": "text/x-python",
   "name": "python",
   "nbconvert_exporter": "python",
   "pygments_lexer": "ipython3",
   "version": "3.9.7"
  }
 },
 "nbformat": 4,
 "nbformat_minor": 5
}
