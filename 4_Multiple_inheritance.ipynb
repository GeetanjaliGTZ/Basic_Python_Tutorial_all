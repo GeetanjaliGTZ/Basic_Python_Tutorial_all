{
  "nbformat": 4,
  "nbformat_minor": 0,
  "metadata": {
    "colab": {
      "provenance": []
    },
    "kernelspec": {
      "name": "python3",
      "display_name": "Python 3"
    },
    "language_info": {
      "name": "python"
    }
  },
  "cells": [
    {
      "cell_type": "markdown",
      "source": [
        "## Python Multiple Inheritance Syntax"
      ],
      "metadata": {
        "id": "Ivc5CusTMjPp"
      }
    },
    {
      "cell_type": "markdown",
      "source": [
        "A class can be derived from more than one superclass in Python. This is called multiple inheritance.\n",
        "\n",
        "For example, a class Bat is derived from superclasses Mammal and WingedAnimal. It makes sense because bat is a mammal as well as a winged animal.\n",
        "\n"
      ],
      "metadata": {
        "id": "_IkhShuRMtTV"
      }
    },
    {
      "cell_type": "markdown",
      "source": [
        "## Python Multiple Inheritance Syntax\n"
      ],
      "metadata": {
        "id": "QVNgKUKWMyDT"
      }
    },
    {
      "cell_type": "code",
      "source": [
        "class SuperClass1:\n",
        "    # features of SuperClass1\n",
        "\n",
        "class SuperClass2:\n",
        "    # features of SuperClass2\n",
        "\n",
        "class MultiDerived(SuperClass1, SuperClass2):\n",
        "    # features of SuperClass1 + SuperClass2 + MultiDerived class\n",
        "\n",
        "# MultiDerived class is derived from SuperClass1 and SuperClass2 classes."
      ],
      "metadata": {
        "id": "nc8m7YNGmj1f"
      },
      "execution_count": null,
      "outputs": []
    },
    {
      "cell_type": "markdown",
      "source": [
        "## Example: Python Multiple Inheritance\n"
      ],
      "metadata": {
        "id": "W35beKxUNFkR"
      }
    },
    {
      "cell_type": "code",
      "source": [
        "class Mammal:\n",
        "    def mammal_info(self):\n",
        "        print(\"Mammals can give direct birth.\")\n",
        "\n",
        "class WingedAnimal:\n",
        "    def winged_animal_info(self):\n",
        "        print(\"Winged animals can flap.\")\n",
        "\n",
        "class Bat(Mammal, WingedAnimal):\n",
        "    pass\n",
        "\n",
        "# create an object of Bat class\n",
        "b1 = Bat()\n",
        "\n",
        "b1.mammal_info()\n",
        "b1.winged_animal_info()\n",
        "\n",
        "# the Bat class is derived from two super classes: Mammal and WingedAnimal.\n",
        "#  we are using b1 (object of Bat) to access mammal_info() and winged_animal_info() methods of the Mammal and the WingedAnimal class respectively."
      ],
      "metadata": {
        "colab": {
          "base_uri": "https://localhost:8080/"
        },
        "id": "YbKXLqqEMgxC",
        "outputId": "d525674f-bd8d-4911-fcc7-0d9fce393db2"
      },
      "execution_count": null,
      "outputs": [
        {
          "output_type": "stream",
          "name": "stdout",
          "text": [
            "Mammals can give direct birth.\n",
            "Winged animals can flap.\n"
          ]
        }
      ]
    },
    {
      "cell_type": "markdown",
      "source": [
        "## Python Multilevel Inheritance\n",
        "\n",
        "In Python, not only can we derive a class from the superclass but you can also derive a class from the derived class.\n",
        "This form of inheritance is known as multilevel inheritance."
      ],
      "metadata": {
        "id": "9ddE2alPNYcE"
      }
    },
    {
      "cell_type": "code",
      "source": [
        "#  syntax of the multilevel inheritance\n",
        "\n",
        "class SuperClass:\n",
        "  # Super class code here\n",
        "\n",
        "class DerivedClass1(SuperClass):\n",
        "    # Derived class 1 code here\n",
        "\n",
        "class DerivedClass2(DerivedClass1):\n",
        "    # Derived class 2 code here\n",
        "\n",
        "# Here, the DerivedClass1 class is derived from the SuperClass class, and the DerivedClass2 class is derived from the DerivedClass1 class."
      ],
      "metadata": {
        "id": "upmPPJfRmp0f"
      },
      "execution_count": null,
      "outputs": []
    },
    {
      "cell_type": "markdown",
      "source": [
        "## Multilevel Inheritance"
      ],
      "metadata": {
        "id": "0wG_PrfdN-dZ"
      }
    },
    {
      "cell_type": "code",
      "source": [
        "class SuperClass:\n",
        "\n",
        "    def super_method(self):\n",
        "        print(\"Super Class method called\")\n",
        "\n",
        "# define class that derive from SuperClass\n",
        "class DerivedClass1(SuperClass):\n",
        "    def derived1_method(self):\n",
        "        print(\"Derived class 1 method called\")\n",
        "\n",
        "# define class that derive from DerivedClass1\n",
        "class DerivedClass2(DerivedClass1):\n",
        "\n",
        "    def derived2_method(self):\n",
        "        print(\"Derived class 2 method called\")\n",
        "\n",
        "# create an object of DerivedClass2\n",
        "d2 = DerivedClass2()\n",
        "\n",
        "d2.super_method()  # Output: \"Super Class method called\"\n",
        "\n",
        "d2.derived1_method()  # Output: \"Derived class 1 method called\"\n",
        "\n",
        "d2.derived2_method()  # Output: \"Derived class 2 method called\"\n",
        "\n",
        "\n",
        "#DerivedClass2 is derived from DerivedClass1, which is derived from SuperClass.\n",
        "\n",
        "# It means that DerivedClass2 inherits all the attributes and methods of both DerivedClass1 and SuperClass.\n",
        "\n",
        "# Hence, we are using d2 (object of DerivedClass2) to call methods from SuperClass, DerivedClass1, and DerivedClass2.#"
      ],
      "metadata": {
        "colab": {
          "base_uri": "https://localhost:8080/"
        },
        "id": "WC1d_f8oNnx9",
        "outputId": "80e4ac13-c545-497f-d518-e20e0ef5945f"
      },
      "execution_count": null,
      "outputs": [
        {
          "output_type": "stream",
          "name": "stdout",
          "text": [
            "Super Class method called\n",
            "Derived class 1 method called\n",
            "Derived class 2 method called\n"
          ]
        }
      ]
    },
    {
      "cell_type": "markdown",
      "source": [
        "# Method Resolution Order (MRO) in Python\n",
        "### If two superclasses have the same method (function) name and the derived class calls that method, Python uses the MRO to search for the right method to call."
      ],
      "metadata": {
        "id": "Be71Ec2bOWve"
      }
    },
    {
      "cell_type": "code",
      "source": [
        "# example\n",
        "class SuperClass1:\n",
        "    def info(self):\n",
        "        print(\"Super Class 1 method called\")\n",
        "\n",
        "class SuperClass2:\n",
        "    def info(self):\n",
        "        print(\"Super Class 2 method called\")\n",
        "\n",
        "class Derived(SuperClass1, SuperClass2):\n",
        "    pass\n",
        "\n",
        "d1 = Derived()\n",
        "d1.info()\n",
        "\n",
        "# Output: \"Super Class 1 method called\"\n",
        "\n",
        "# Here, SuperClass1 and SuperClass2 both of these classes define a method info().\n",
        "\n",
        "# So when info() is called using the d1 object of the Derived class, Python uses the MRO to determine which method to call.\n",
        "\n",
        "# In this case, the MRO specifies that methods should be inherited from the leftmost superclass first, so info() of SuperClass1 is called rather than that of SuperClass2."
      ],
      "metadata": {
        "colab": {
          "base_uri": "https://localhost:8080/"
        },
        "id": "z14zpWgMOHpL",
        "outputId": "f754ce17-6866-49fd-c954-27cd23df2423"
      },
      "execution_count": null,
      "outputs": [
        {
          "output_type": "stream",
          "name": "stdout",
          "text": [
            "Super Class 1 method called\n"
          ]
        }
      ]
    },
    {
      "cell_type": "code",
      "source": [],
      "metadata": {
        "id": "TMaY6SZuOf2O"
      },
      "execution_count": null,
      "outputs": []
    }
  ]
}