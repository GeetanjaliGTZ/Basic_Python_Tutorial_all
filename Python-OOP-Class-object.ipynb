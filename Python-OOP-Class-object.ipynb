{
 "cells": [
  {
   "cell_type": "markdown",
   "id": "30ce55ab",
   "metadata": {},
   "source": [
    "# What is OOP?"
   ]
  },
  {
   "cell_type": "markdown",
   "id": "e7361009",
   "metadata": {},
   "source": [
    "OOP stands for <b>Object-Oriented Programming</b>.\n",
    "\n",
    "Python is an object-oriented language, allowing you to <b>structure your code using classes and objects</b> for better organization and reusability.\n"
   ]
  },
  {
   "cell_type": "markdown",
   "id": "846775fa",
   "metadata": {},
   "source": [
    "### Advantages of OOP\n",
    "- Provides a clear structure to programs\n",
    "- Makes code easier to maintain, reuse, and debug\n",
    "- Helps keep your code DRY (Don't Repeat Yourself)\n",
    "- Allows you to build reusable applications with less code"
   ]
  },
  {
   "cell_type": "markdown",
   "id": "b73d12ac",
   "metadata": {},
   "source": [
    "# Characteristics of OOP (Object Oriented Programming)\n"
   ]
  },
  {
   "cell_type": "markdown",
   "id": "0d4e5b48",
   "metadata": {},
   "source": [
    "## 1. Class"
   ]
  },
  {
   "cell_type": "markdown",
   "id": "4049e0ef",
   "metadata": {},
   "source": [
    "A <b>class is a collection of objects</b>. Classes are <b>blueprints</b> for <b>creating objects</b>.\n",
    "\n",
    "A <b>class defines</b> a </b>set of attributes and methods</b> that the created objects (instances) can have.\n",
    "\n",
    "Some points on Python class:  \n",
    "\n",
    "Classes are created by keyword class.\n",
    "Attributes are the variables that belong to a class.\n",
    "Attributes are always public and can be accessed using the dot (.) operator. \n",
    "\n",
    "<b>Example: Myclass.Myattribute</b>\n",
    "Creating a Class"
   ]
  },
  {
   "cell_type": "code",
   "execution_count": 1,
   "id": "33f13cd7",
   "metadata": {},
   "outputs": [],
   "source": [
    "# class keyword indicates that we are creating a class followed by name of the class i.e Dog.\n",
    "class Dog:\n",
    "    species = \"Canine\"  # Class attribute\n",
    "\n",
    "    def __init__(self, name, age):\n",
    "        self.name = name  # Instance attribute\n",
    "        self.age = age  # Instance attribute"
   ]
  },
  {
   "cell_type": "markdown",
   "id": "9f77b6b5",
   "metadata": {},
   "source": [
    "<b>class Dog:</b> Defines a class named Dog.\n",
    "\n",
    "<b>species:</b> A class attribute shared by all instances of the class.\n",
    "\n",
    "<b>__init__ method:</b> Initializes the name and age attributes when a new object is created.\n"
   ]
  },
  {
   "cell_type": "markdown",
   "id": "8e038de2",
   "metadata": {},
   "source": [
    "# 2. Object"
   ]
  },
  {
   "cell_type": "markdown",
   "id": "c4bf84f4",
   "metadata": {},
   "source": [
    "An <b>Object</b> is an <b>instance of a Class</b>. It represents a specific <b>implementation of the class and holds its own data</b>.\n",
    "\n",
    "An <b>object consists of</b>:\n",
    "\n",
    "<b>State:</b> It is represented by the <b>attributes</b> and reflects the <b>properties of an object</b>.\n",
    "\n",
    "<b>Behavior:</b> It is represented by the <b>methods of an object</b> and reflects the <b>response of an object to other objects</b>.\n",
    "\n",
    "<b>Identity:</b> It gives a <b>unique name to an object</b> and <b>enables one object to interact with other objects</b>.\n"
   ]
  },
  {
   "cell_type": "markdown",
   "id": "c70704c3",
   "metadata": {},
   "source": [
    "### Creating Object\n",
    "Creating an object in Python involves instantiating a class to create a new instance of that class. This process is also referred to as object instantiation."
   ]
  },
  {
   "cell_type": "code",
   "execution_count": 3,
   "id": "b381175f",
   "metadata": {},
   "outputs": [
    {
     "name": "stdout",
     "output_type": "stream",
     "text": [
      "Buddy\n",
      "Canine\n"
     ]
    }
   ],
   "source": [
    "class Dog:\n",
    "    species = \"Canine\"  # Class attribute\n",
    "\n",
    "    def __init__(self, name, age):\n",
    "        self.name = name  # Instance attribute\n",
    "        self.age = age  # Instance attribute\n",
    "\n",
    "# Creating an object of the Dog class\n",
    "dog1 = Dog(\"Buddy\", 3)\n",
    "\n",
    "print(dog1.name) \n",
    "print(dog1.species)"
   ]
  },
  {
   "cell_type": "markdown",
   "id": "afbdfb29",
   "metadata": {},
   "source": [
    "<b>dog1 = </b> Dog(\"Buddy\", 3): Creates an object of the Dog class with name as \"Buddy\" and age as 3.\n",
    "\n",
    "<b>dog1.name:</b> Accesses the instance attribute name of the dog1 object.\n",
    "\n",
    "<b>dog1.species:</b> Accesses the class attribute species of the dog1 object.\n"
   ]
  },
  {
   "cell_type": "markdown",
   "id": "d8aa2bfb",
   "metadata": {},
   "source": [
    "### Self Parameter\n",
    "Self parameter is a <b>reference to the current instance of the class</b>. It <b>allows us to access the attributes and methods of the object</b>.\n",
    "\n",
    "<b>Example:</b> we create a Dog class with both class and instance attributes, then demonstrate how to access them using the self parameter."
   ]
  },
  {
   "cell_type": "code",
   "execution_count": 4,
   "id": "227a4eea",
   "metadata": {},
   "outputs": [
    {
     "name": "stdout",
     "output_type": "stream",
     "text": [
      "Buddy 3 Canine\n",
      "Charlie 5 Canine\n",
      "Canine\n"
     ]
    }
   ],
   "source": [
    "class Dog:\n",
    "    species = \"Canine\"  # Class attribute\n",
    "\n",
    "    def __init__(self, name, age):\n",
    "        self.name = name  # Instance attribute\n",
    "        self.age = age  # Instance attribute\n",
    "\n",
    "dog1 = Dog(\"Buddy\", 3)  # Create an instance of Dog\n",
    "dog2 = Dog(\"Charlie\", 5)  # Create another instance of Dog\n",
    "\n",
    "print(dog1.name, dog1.age, dog1.species)  # Access instance and class attributes\n",
    "print(dog2.name, dog2.age, dog2.species)  # Access instance and class attributes\n",
    "print(Dog.species)  # Access class attribute directly"
   ]
  },
  {
   "cell_type": "markdown",
   "id": "3031cfa9",
   "metadata": {},
   "source": [
    "<b>self.name: </b>Refers to the name attribute of the object (dog1) calling the method.\n",
    "\n",
    "<b>dog1.bark():</b> Calls the bark method on dog1."
   ]
  },
  {
   "cell_type": "markdown",
   "id": "d2a5479b",
   "metadata": {},
   "source": [
    "### __init__ Method"
   ]
  },
  {
   "cell_type": "markdown",
   "id": "31fe535d",
   "metadata": {},
   "source": [
    "<b>__init__ method</b> is the <b>constructor</b> in Python, <b>automatically called when a new object is created</b>. It <b>initializes the attributes of the class</b>.\n",
    "\n",
    "<b>Example:</b> In this example, we <b>create a Dog class </b>and use __init__ method to <b>set the name and age of each dog</b> when creating an object."
   ]
  },
  {
   "cell_type": "code",
   "execution_count": 5,
   "id": "5443c497",
   "metadata": {},
   "outputs": [
    {
     "name": "stdout",
     "output_type": "stream",
     "text": [
      "Buddy\n"
     ]
    }
   ],
   "source": [
    "class Dog:\n",
    "    def __init__(self, name, age):\n",
    "        self.name = name\n",
    "        self.age = age\n",
    "\n",
    "dog1 = Dog(\"Buddy\", 3)\n",
    "print(dog1.name)"
   ]
  },
  {
   "cell_type": "markdown",
   "id": "19c78066",
   "metadata": {},
   "source": [
    "<b>__init__:</b> Special method used for initialization.\n",
    "    \n",
    "<b>self.name</b> and <b>self.age:</b> Instance attributes initialized in the constructor.\n"
   ]
  },
  {
   "cell_type": "markdown",
   "id": "a263e1a4",
   "metadata": {},
   "source": [
    "## Class and Instance Variables\n"
   ]
  },
  {
   "cell_type": "markdown",
   "id": "f5f5c9f4",
   "metadata": {},
   "source": [
    "In Python, <b>variables defined in a class can be either class variables or instance variables</b>, and understanding the distinction between them is crucial for object-oriented programming.\n",
    "\n",
    "<b>Class Variables</b>\n",
    "\n",
    "These are the variables that are <b>shared across all instances of a class</b>. It is <b>defined at the class level, outside any methods</b>. \n",
    "\n",
    "<b>All objects of the class share the same value for a class variable</b> unless explicitly overridden in an object.\n",
    "\n",
    "<b>Instance Variables</b>\n",
    "\n",
    "Variables that are unique to each instance (object) of a class. These are defined within the __init__ method or other instance methods. Each object maintains its own copy of instance variables, independent of other objects.\n",
    "\n",
    "<b>Example:</b> In this example, we create a Dog class to <b>show difference between class variables and instance variables</b>. We also demonstrate how modifying them affects objects differently."
   ]
  },
  {
   "cell_type": "code",
   "execution_count": 6,
   "id": "9aecfc97",
   "metadata": {},
   "outputs": [
    {
     "name": "stdout",
     "output_type": "stream",
     "text": [
      "Canine\n",
      "Buddy\n",
      "Charlie\n",
      "Max\n",
      "Feline\n",
      "Feline\n"
     ]
    }
   ],
   "source": [
    "class Dog:\n",
    "    # Class variable\n",
    "    species = \"Canine\"\n",
    "\n",
    "    def __init__(self, name, age):\n",
    "        # Instance variables\n",
    "        self.name = name\n",
    "        self.age = age\n",
    "\n",
    "# Create objects\n",
    "dog1 = Dog(\"Buddy\", 3)\n",
    "dog2 = Dog(\"Charlie\", 5)\n",
    "\n",
    "# Access class and instance variables\n",
    "print(dog1.species)  # (Class variable)\n",
    "print(dog1.name)     # (Instance variable)\n",
    "print(dog2.name)     # (Instance variable)\n",
    "\n",
    "# Modify instance variables\n",
    "dog1.name = \"Max\"\n",
    "print(dog1.name)     # (Updated instance variable)\n",
    "\n",
    "# Modify class variable\n",
    "Dog.species = \"Feline\"\n",
    "print(dog1.species)  # (Updated class variable)\n",
    "print(dog2.species)"
   ]
  },
  {
   "cell_type": "markdown",
   "id": "f666f761",
   "metadata": {},
   "source": [
    "<b>Class Variable (species):</b> Shared by all instances of the class. Changing Dog.species affects all objects, as it's a property of the class itself.\n",
    "    \n",
    "<b>Instance Variables (name, age):</b> Defined in the __init__ method. Unique to each instance (e.g., dog1.name and dog2.name are different).\n",
    "    \n",
    "<b>Accessing Variables:</b> Class variables can be accessed via the class name (Dog.species) or an object (dog1.species). Instance variables are accessed via the object (dog1.name).\n",
    "    \n",
    "<b>Updating Variables:</b> Changing Dog.species affects all instances. Changing dog1.name only affects dog1 and does not impact dog2."
   ]
  },
  {
   "cell_type": "markdown",
   "id": "59ce2602",
   "metadata": {},
   "source": [
    "# Excercise questions"
   ]
  },
  {
   "cell_type": "markdown",
   "id": "f6bb060b",
   "metadata": {},
   "source": [
    "### 1. Create a class named Car with attributes brand, model, and year. Create two objects and display their details.\n"
   ]
  },
  {
   "cell_type": "code",
   "execution_count": 12,
   "id": "0e94993b",
   "metadata": {},
   "outputs": [
    {
     "name": "stdout",
     "output_type": "stream",
     "text": [
      "Brand: Toyota, Model: Corolla, Year: 2020\n",
      "Brand: Honda, Model: Civic, Year: 2022\n"
     ]
    }
   ],
   "source": [
    "class Car:\n",
    "    def __init__(self, brand, model, year):\n",
    "        self.brand = brand\n",
    "        self.model = model\n",
    "        self.year = year\n",
    "\n",
    "    def display_details(self):\n",
    "        print(f\"Brand: {self.brand}, Model: {self.model}, Year: {self.year}\")\n",
    "\n",
    "\n",
    "# Creating two objects\n",
    "car1 = Car(\"Toyota\", \"Corolla\", 2020)\n",
    "car2 = Car(\"Honda\", \"Civic\", 2022)\n",
    "\n",
    "# Display details\n",
    "car1.display_details()\n",
    "car2.display_details()\n"
   ]
  },
  {
   "cell_type": "markdown",
   "id": "81fb172e",
   "metadata": {},
   "source": [
    "### 2. Write a Python class Student that takes name and marks as input and has a method display_info() to print them.\n"
   ]
  },
  {
   "cell_type": "code",
   "execution_count": 13,
   "id": "893684dc",
   "metadata": {},
   "outputs": [
    {
     "name": "stdout",
     "output_type": "stream",
     "text": [
      "Name: Geetanjali, Marks: 95\n"
     ]
    }
   ],
   "source": [
    "class Student:\n",
    "    def __init__(self, name, marks):\n",
    "        self.name = name\n",
    "        self.marks = marks\n",
    "\n",
    "    def display_info(self):\n",
    "        print(f\"Name: {self.name}, Marks: {self.marks}\")\n",
    "\n",
    "\n",
    "# Create an object and call the method\n",
    "student1 = Student(\"Geetanjali\", 95)\n",
    "student1.display_info()\n"
   ]
  },
  {
   "cell_type": "markdown",
   "id": "48c82fdb",
   "metadata": {},
   "source": [
    "### 3. Create a class Rectangle that includes methods to: Calculate area, & Calculate perimeter.\n"
   ]
  },
  {
   "cell_type": "code",
   "execution_count": 14,
   "id": "e373cfa9",
   "metadata": {},
   "outputs": [
    {
     "name": "stdout",
     "output_type": "stream",
     "text": [
      "Area: 50\n",
      "Perimeter: 30\n"
     ]
    }
   ],
   "source": [
    "class Rectangle:\n",
    "    def __init__(self, length, width):\n",
    "        self.length = length\n",
    "        self.width = width\n",
    "\n",
    "    def area(self):\n",
    "        return self.length * self.width\n",
    "\n",
    "    def perimeter(self):\n",
    "        return 2 * (self.length + self.width)\n",
    "\n",
    "\n",
    "# Create an object\n",
    "rect = Rectangle(10, 5)\n",
    "\n",
    "print(\"Area:\", rect.area())\n",
    "print(\"Perimeter:\", rect.perimeter())\n"
   ]
  },
  {
   "cell_type": "markdown",
   "id": "2e5af6b7",
   "metadata": {},
   "source": [
    "### 4. Write a Python class Dog that:\n",
    "\n",
    "- Has a class variable <b>species = \"Canine\"</b>\n",
    "\n",
    "- Takes <b>name and age</b> as <b>instance variables</b>.\n",
    "\n",
    "- Includes a method <b>bark()</b> that prints <b>\"<name> is barking!\"</b>"
   ]
  },
  {
   "cell_type": "code",
   "execution_count": 15,
   "id": "4c868cf7",
   "metadata": {},
   "outputs": [
    {
     "name": "stdout",
     "output_type": "stream",
     "text": [
      "Buddy is barking!\n",
      "Species: Canine\n"
     ]
    }
   ],
   "source": [
    "class Dog:\n",
    "    species = \"Canine\"  # Class variable\n",
    "\n",
    "    def __init__(self, name, age):\n",
    "        self.name = name\n",
    "        self.age = age\n",
    "\n",
    "    def bark(self):\n",
    "        print(f\"{self.name} is barking!\")\n",
    "\n",
    "\n",
    "dog1 = Dog(\"Buddy\", 3)\n",
    "dog1.bark()\n",
    "\n",
    "print(\"Species:\", dog1.species)\n"
   ]
  },
  {
   "cell_type": "markdown",
   "id": "2e2c7fc4",
   "metadata": {},
   "source": [
    "### 5. Write a program that shows the effect of changing:\n",
    "\n",
    "- A class variable\n",
    "\n",
    "- An instance variable"
   ]
  },
  {
   "cell_type": "code",
   "execution_count": 16,
   "id": "49e05f07",
   "metadata": {},
   "outputs": [
    {
     "name": "stdout",
     "output_type": "stream",
     "text": [
      "Before change:\n",
      "Buddy Canine\n",
      "Charlie Canine\n",
      "\n",
      "After change:\n",
      "Max Feline\n",
      "Charlie Feline\n"
     ]
    }
   ],
   "source": [
    "class Dog:\n",
    "    species = \"Canine\"  # Class variable\n",
    "\n",
    "    def __init__(self, name):\n",
    "        self.name = name  # Instance variable\n",
    "\n",
    "\n",
    "dog1 = Dog(\"Buddy\")\n",
    "dog2 = Dog(\"Charlie\")\n",
    "\n",
    "print(\"Before change:\")\n",
    "print(dog1.name, dog1.species)\n",
    "print(dog2.name, dog2.species)\n",
    "\n",
    "# Change instance variable\n",
    "dog1.name = \"Max\"\n",
    "\n",
    "# Change class variable\n",
    "Dog.species = \"Feline\"\n",
    "\n",
    "print(\"\\nAfter change:\")\n",
    "print(dog1.name, dog1.species)\n",
    "print(dog2.name, dog2.species)\n"
   ]
  },
  {
   "cell_type": "markdown",
   "id": "584991c2",
   "metadata": {},
   "source": [
    "### 6. Create a class Employee with attributes name, salary, and department. Add a method to:\n",
    "\n",
    "- <b>Display</b> the <b>employee’s info</b>\n",
    "\n",
    "- Give a salary raise (e.g., 10%)"
   ]
  },
  {
   "cell_type": "code",
   "execution_count": 17,
   "id": "78fdccbc",
   "metadata": {},
   "outputs": [
    {
     "name": "stdout",
     "output_type": "stream",
     "text": [
      "Name: Ravi, Salary: 50000, Department: IT\n",
      "Ravi's new salary: 55000.0\n"
     ]
    }
   ],
   "source": [
    "class Employee:\n",
    "    def __init__(self, name, salary, department):\n",
    "        self.name = name\n",
    "        self.salary = salary\n",
    "        self.department = department\n",
    "\n",
    "    def display_info(self):\n",
    "        print(f\"Name: {self.name}, Salary: {self.salary}, Department: {self.department}\")\n",
    "\n",
    "    def give_raise(self, percent):\n",
    "        self.salary += self.salary * (percent / 100)\n",
    "        print(f\"{self.name}'s new salary: {self.salary}\")\n",
    "\n",
    "\n",
    "emp1 = Employee(\"Ravi\", 50000, \"IT\")\n",
    "emp1.display_info()\n",
    "emp1.give_raise(10)\n"
   ]
  },
  {
   "cell_type": "markdown",
   "id": "128c8ad4",
   "metadata": {},
   "source": [
    "### 7. Write a program that uses the __init__ constructor to initialize object values and print them.\n"
   ]
  },
  {
   "cell_type": "code",
   "execution_count": 18,
   "id": "fe8bb819",
   "metadata": {},
   "outputs": [
    {
     "name": "stdout",
     "output_type": "stream",
     "text": [
      "Name: Amit, Age: 25\n"
     ]
    }
   ],
   "source": [
    "class Person:\n",
    "    def __init__(self, name, age):\n",
    "        self.name = name\n",
    "        self.age = age\n",
    "\n",
    "    def display(self):\n",
    "        print(f\"Name: {self.name}, Age: {self.age}\")\n",
    "\n",
    "\n",
    "p1 = Person(\"Amit\", 25)\n",
    "p1.display()\n"
   ]
  },
  {
   "cell_type": "markdown",
   "id": "c2779aea",
   "metadata": {},
   "source": [
    "### 8. Create a class Book with:\n",
    "\n",
    "- <b>Attributes:</b> title, author, and price\n",
    "\n",
    "- A <bmethod</b> to display all book details."
   ]
  },
  {
   "cell_type": "code",
   "execution_count": 23,
   "id": "9ff806bf",
   "metadata": {},
   "outputs": [],
   "source": [
    "class Book:\n",
    "    def __init__(self, title, author, price):\n",
    "        self.title = title\n",
    "        self.author = author\n",
    "        self.price = price\n",
    "\n",
    "    def display_details(self):\n",
    "        print(f\"Title: {self.title}, Author: {self.author}, Price: ₹{self.price}\")\n",
    "\n"
   ]
  },
  {
   "cell_type": "markdown",
   "id": "fd085cb4",
   "metadata": {},
   "source": [
    "### 9. Create two objects from the Book class and print their individual data.\n"
   ]
  },
  {
   "cell_type": "code",
   "execution_count": 24,
   "id": "8a5948b2",
   "metadata": {},
   "outputs": [
    {
     "name": "stdout",
     "output_type": "stream",
     "text": [
      "Title: Python Basics, Author: John Doe, Price: ₹499\n",
      "Title: AI with Python, Author: Jane Smith, Price: ₹699\n"
     ]
    }
   ],
   "source": [
    "class Book:\n",
    "    def __init__(self, title, author, price):\n",
    "        self.title = title\n",
    "        self.author = author\n",
    "        self.price = price\n",
    "\n",
    "    def display_details(self):\n",
    "        print(f\"Title: {self.title}, Author: {self.author}, Price: ₹{self.price}\")\n",
    "\n",
    "\n",
    "# Create two objects\n",
    "book1 = Book(\"Python Basics\", \"John Doe\", 499)\n",
    "book2 = Book(\"AI with Python\", \"Jane Smith\", 699)\n",
    "\n",
    "book1.display_details()\n",
    "book2.display_details()"
   ]
  },
  {
   "cell_type": "markdown",
   "id": "4422a6d2",
   "metadata": {},
   "source": [
    "### 10. Modify the Dog example to include a method birthday() that increases the age by 1 each time it’s called."
   ]
  },
  {
   "cell_type": "code",
   "execution_count": 21,
   "id": "41bd3cea",
   "metadata": {},
   "outputs": [
    {
     "name": "stdout",
     "output_type": "stream",
     "text": [
      "Buddy is barking!\n",
      "Happy Birthday, Buddy! Now you are 4 years old.\n",
      "Happy Birthday, Buddy! Now you are 5 years old.\n"
     ]
    }
   ],
   "source": [
    "class Dog:\n",
    "    species = \"Canine\"\n",
    "\n",
    "    def __init__(self, name, age):\n",
    "        self.name = name\n",
    "        self.age = age\n",
    "\n",
    "    def bark(self):\n",
    "        print(f\"{self.name} is barking!\")\n",
    "\n",
    "    def birthday(self):\n",
    "        self.age += 1\n",
    "        print(f\"Happy Birthday, {self.name}! Now you are {self.age} years old.\")\n",
    "\n",
    "\n",
    "dog1 = Dog(\"Buddy\", 3)\n",
    "dog1.bark()\n",
    "dog1.birthday()\n",
    "dog1.birthday()\n"
   ]
  },
  {
   "cell_type": "markdown",
   "id": "5b2d586d",
   "metadata": {},
   "source": [
    "# Mini Projects"
   ]
  },
  {
   "cell_type": "markdown",
   "id": "2751a03b",
   "metadata": {},
   "source": [
    "### P1. Student Report Card System\n",
    "\n",
    "Create a <b>Student class</b> with <b>attributes like name, roll_no, and marks</b> (dictionary for subjects).\n",
    "\n",
    "<b>Add methods to:</b> Calculate total and percentage, Display report card"
   ]
  },
  {
   "cell_type": "code",
   "execution_count": null,
   "id": "cb3aff8c",
   "metadata": {},
   "outputs": [],
   "source": []
  },
  {
   "cell_type": "markdown",
   "id": "ba1092b4",
   "metadata": {},
   "source": [
    "### P2. Library Management System\n",
    "\n",
    "Create a Book class with attributes title, author, and availability.\n",
    "\n",
    "Create a Library class that maintains a list of books.\n",
    "\n",
    "Add methods to:\n",
    "\n",
    "Add a new book\n",
    "\n",
    "Borrow a book\n",
    "\n",
    "Return a book\n",
    "\n",
    "Display all available books"
   ]
  },
  {
   "cell_type": "code",
   "execution_count": null,
   "id": "8413aab4",
   "metadata": {},
   "outputs": [],
   "source": []
  },
  {
   "cell_type": "markdown",
   "id": "99880e14",
   "metadata": {},
   "source": [
    "### P3. Bank Account System\n",
    "\n",
    "Create a BankAccount class with attributes account_holder, balance.\n",
    "\n",
    "Add methods:\n",
    "\n",
    "deposit(amount)\n",
    "\n",
    "withdraw(amount)\n",
    "\n",
    "display_balance()\n",
    "\n",
    "Include checks for insufficient balance."
   ]
  },
  {
   "cell_type": "code",
   "execution_count": null,
   "id": "4e551722",
   "metadata": {},
   "outputs": [],
   "source": []
  },
  {
   "cell_type": "markdown",
   "id": "115f0010",
   "metadata": {},
   "source": [
    "### P4. Employee Payroll System\n",
    "\n",
    "Create an Employee class with attributes name, id, and salary.\n",
    "\n",
    "Add methods:\n",
    "\n",
    "calculate_bonus() (e.g., 10% of salary)\n",
    "\n",
    "display_employee_details()\n",
    "\n",
    "Create multiple objects and display details."
   ]
  },
  {
   "cell_type": "code",
   "execution_count": null,
   "id": "e2ffa3e4",
   "metadata": {},
   "outputs": [],
   "source": []
  },
  {
   "cell_type": "markdown",
   "id": "ce2eb80c",
   "metadata": {},
   "source": [
    "### P5. Pet Management System\n",
    "\n",
    "Create a Dog (or Pet) class with attributes name, age, and breed.\n",
    "\n",
    "Add methods:\n",
    "\n",
    "display_info()\n",
    "\n",
    "birthday() (increment age by 1)\n",
    "\n",
    "Create multiple objects and demonstrate method calls."
   ]
  },
  {
   "cell_type": "code",
   "execution_count": null,
   "id": "20c654fc",
   "metadata": {},
   "outputs": [],
   "source": []
  }
 ],
 "metadata": {
  "kernelspec": {
   "display_name": "Python 3 (ipykernel)",
   "language": "python",
   "name": "python3"
  },
  "language_info": {
   "codemirror_mode": {
    "name": "ipython",
    "version": 3
   },
   "file_extension": ".py",
   "mimetype": "text/x-python",
   "name": "python",
   "nbconvert_exporter": "python",
   "pygments_lexer": "ipython3",
   "version": "3.9.7"
  }
 },
 "nbformat": 4,
 "nbformat_minor": 5
}
