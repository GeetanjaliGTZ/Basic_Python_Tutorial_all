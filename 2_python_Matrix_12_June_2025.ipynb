{
  "nbformat": 4,
  "nbformat_minor": 0,
  "metadata": {
    "colab": {
      "provenance": []
    },
    "kernelspec": {
      "name": "python3",
      "display_name": "Python 3"
    },
    "language_info": {
      "name": "python"
    }
  },
  "cells": [
    {
      "cell_type": "markdown",
      "source": [
        "# Python Matric"
      ],
      "metadata": {
        "id": "XF5mYsKIF2k1"
      }
    },
    {
      "cell_type": "markdown",
      "source": [
        "A matrix is a way to **organize numbers in a rectangular grid** made up of **rows** and **columns**. We can assume it like a table, where: \\\\\n",
        "\n",
        "Rows go across (left to right) \\\\\n",
        "Columns go down (top to bottom) \\\\\n",
        "The size of a **matrix is defined by the number of rows (m) and columns (n)**. If a matrix has 3 rows and 4 columns, it's called a **3x4 matrix**. \\\\\n",
        "\n",
        "**Matrices are used in:** \\\\\n",
        "\n",
        "Solving linear equations \\\\\n",
        "Image transformations (rotations, scaling) \\\\\n",
        "Machine learning algorithms \\\\\n",
        "Data representation \\\\\n",
        "In this tutorial, we’ll explore different ways to create and work with matrices in Python, including using the NumPy library for matrix operations."
      ],
      "metadata": {
        "id": "RHLJfuO0FY_T"
      }
    },
    {
      "cell_type": "markdown",
      "source": [
        "# Creating a simple matrix using Python\n",
        "# Method 1: Creating a matrix with a List of list\n",
        "### A Matrix is fundamentally a 2D list therefore we can create a Matrix by creating a 2D list (list of lists)."
      ],
      "metadata": {
        "id": "0C-_W-4cGsfb"
      }
    },
    {
      "cell_type": "code",
      "execution_count": 1,
      "metadata": {
        "colab": {
          "base_uri": "https://localhost:8080/"
        },
        "id": "uuNHtlCuE1Ru",
        "outputId": "9f8e1fe6-9c62-4069-cd28-c2e29f88ce27"
      },
      "outputs": [
        {
          "output_type": "stream",
          "name": "stdout",
          "text": [
            "Matrix = [[1, 2, 3, 4], [5, 6, 7, 8], [9, 10, 11, 12]]\n"
          ]
        }
      ],
      "source": [
        "mat = [[1, 2, 3, 4],\n",
        "    [5, 6, 7, 8],\n",
        "    [9, 10, 11, 12]]\n",
        "\n",
        "print(\"Matrix =\", mat)"
      ]
    },
    {
      "cell_type": "markdown",
      "source": [
        "# Method 2: Take Matrix input from user in Python\n",
        "### In this example we are going to take user inputs for rows and columns for the matrix and then print the complete matrix."
      ],
      "metadata": {
        "id": "Z2pxkY2lHNlj"
      }
    },
    {
      "cell_type": "code",
      "source": [
        "rows = int(input(\"rows: \"))\n",
        "col = int(input(\"columns: \"))\n",
        "\n",
        "matrix = []\n",
        "print(\"entries row-wise:\")\n",
        "\n",
        "for i in range(rows):\n",
        "    row = []\n",
        "    for j in range(col):\n",
        "        row.append(int(input()))    # user input for rows\n",
        "    matrix.append(row)  # adding rows to the matrix\n",
        "\n",
        "print(\"\\n2D matrix is:\")\n",
        "\n",
        "for i in range(rows):\n",
        "    for j in range(col):\n",
        "        print(matrix[i][j], end=\" \")\n",
        "    print()\n"
      ],
      "metadata": {
        "colab": {
          "base_uri": "https://localhost:8080/"
        },
        "id": "y0DY93KxFXnC",
        "outputId": "49c83f57-2197-4f1c-dd39-875b0e315501"
      },
      "execution_count": 2,
      "outputs": [
        {
          "output_type": "stream",
          "name": "stdout",
          "text": [
            "rows: 3\n",
            "columns: 3\n",
            "entries row-wise:\n",
            "1\n",
            "4\n",
            "7\n",
            "2\n",
            "5\n",
            "8\n",
            "3\n",
            "6\n",
            "9\n",
            "\n",
            "2D matrix is:\n",
            "1 4 7 \n",
            "2 5 8 \n",
            "3 6 9 \n"
          ]
        }
      ]
    },
    {
      "cell_type": "markdown",
      "source": [
        "# Method 3: Create a matrix using list comprehension\n",
        "**List comprehension** is an elegant way to define and create a list in Python, we are using the range function for printing 4 rows and 4 columns.\n",
        "\n"
      ],
      "metadata": {
        "id": "RqC-lYMZHqWT"
      }
    },
    {
      "cell_type": "markdown",
      "source": [
        "**List comprehension** is a way to **create lists using a concise syntax**. It allows us to generate a new list by applying an expression to each item in an existing iterable (such as a list or range). This helps us to write cleaner, more readable code compared to traditional looping techniques.\n",
        "\n",
        "**For example,** if we have a list of integers and want to create a new list containing the square of each element, we can easily achieve this using list comprehension.\n"
      ],
      "metadata": {
        "id": "EZ6xS-9hIihs"
      }
    },
    {
      "cell_type": "code",
      "source": [
        "# For example, if we have a list of integers and want to create a new list containing the square of each element,\n",
        "# we can easily achieve this using list comprehension.\n",
        "\n",
        "a = [2,3,4,5]\n",
        "\n",
        "res = [val ** 2 for val in a]\n",
        "\n",
        "print(res)"
      ],
      "metadata": {
        "colab": {
          "base_uri": "https://localhost:8080/"
        },
        "id": "rJeTp6jDIwkI",
        "outputId": "fb5c981c-ed43-4977-ef04-580d8fcc74c3"
      },
      "execution_count": 7,
      "outputs": [
        {
          "output_type": "stream",
          "name": "stdout",
          "text": [
            "[4, 9, 16, 25]\n"
          ]
        }
      ]
    },
    {
      "cell_type": "markdown",
      "source": [
        "**Syntax of List Comprehension** \\\\\n",
        "**[expression for item in iterable if condition]**\n",
        "\n",
        "**expression:** The transformation or value to be included in the new list. \\\\\n",
        "**item:** The current element taken from the iterable. \\\\\n",
        "**iterable:** A sequence or collection (e.g., list, tuple, set). \\\\\n",
        "if condition (optional): A filtering condition that decides whether the current item should be included."
      ],
      "metadata": {
        "id": "-mP-cc-HJIsW"
      }
    },
    {
      "cell_type": "code",
      "source": [
        "matrix = [[col for col in range(4)] for row in range(4)]\n",
        "print(col in range(4))\n",
        "print(matrix)"
      ],
      "metadata": {
        "colab": {
          "base_uri": "https://localhost:8080/"
        },
        "id": "l24pGM4SFXvv",
        "outputId": "b4a181a1-7060-4fc6-a079-7235416daa3d"
      },
      "execution_count": 5,
      "outputs": [
        {
          "output_type": "stream",
          "name": "stdout",
          "text": [
            "True\n",
            "[[0, 1, 2, 3], [0, 1, 2, 3], [0, 1, 2, 3], [0, 1, 2, 3]]\n"
          ]
        }
      ]
    },
    {
      "cell_type": "markdown",
      "source": [
        "**Explanation**\n",
        "\n",
        "Outer loop (for row in range(4)) runs 4 times to create 4 rows. \\\\\n",
        "Inner loop (for col in range(4)) fills each row with values 0 to 3. \\\\"
      ],
      "metadata": {
        "id": "swieD9PZJz1W"
      }
    },
    {
      "cell_type": "markdown",
      "source": [
        "# Assigning Value in a matrix\n",
        "### Method 1: Assign value to an individual cell in Matrix\n",
        "Here we are replacing and assigning value to an individual cell (1 row and 1 column = 11) in the Matrix."
      ],
      "metadata": {
        "id": "lMEmybivKPZL"
      }
    },
    {
      "cell_type": "code",
      "source": [
        "x = [[1, 2, 3], [4, 5, 6], [7, 8, 9]]\n",
        "x[1][1] = 11\n",
        "\n",
        "print(x)"
      ],
      "metadata": {
        "colab": {
          "base_uri": "https://localhost:8080/"
        },
        "id": "p8x6KVg7FXyl",
        "outputId": "a0552aef-4ba2-40b6-c859-37da21ccd4f3"
      },
      "execution_count": 8,
      "outputs": [
        {
          "output_type": "stream",
          "name": "stdout",
          "text": [
            "[[1, 2, 3], [4, 11, 6], [7, 8, 9]]\n"
          ]
        }
      ]
    },
    {
      "cell_type": "markdown",
      "source": [
        "### Method 2: Using Negative Indexing\n",
        "We are assigning a value to an individual cell using negative indexing in this example (-2 row and -1 column = 21) in the Matrix."
      ],
      "metadata": {
        "id": "kxoDAeK2KvXD"
      }
    },
    {
      "cell_type": "code",
      "source": [
        "x = [[1, 2, 3], [4, 5, 6], [7, 8, 9]]\n",
        "\n",
        "x[-2][-1] = 21  # row = -2 , column = -1\n",
        "print(x)"
      ],
      "metadata": {
        "colab": {
          "base_uri": "https://localhost:8080/"
        },
        "id": "iZgWtitEKpLE",
        "outputId": "6a9bfc63-800b-4fb5-b88c-23ae0b1b0aef"
      },
      "execution_count": 9,
      "outputs": [
        {
          "output_type": "stream",
          "name": "stdout",
          "text": [
            "[[1, 2, 3], [4, 5, 21], [7, 8, 9]]\n"
          ]
        }
      ]
    },
    {
      "cell_type": "markdown",
      "source": [
        "# Accessing Value in a matrix\n",
        "### Method 1: Direct Indexing\n",
        "We can access elements of a Matrix by using its row and column index."
      ],
      "metadata": {
        "id": "3Jmg8efuK7ji"
      }
    },
    {
      "cell_type": "code",
      "source": [
        "print(\"Element at (1,3):\", x[0][2])\n",
        "print(\"Element at (3,3):\", x[2][2])"
      ],
      "metadata": {
        "colab": {
          "base_uri": "https://localhost:8080/"
        },
        "id": "RUY8X_JrK3V1",
        "outputId": "d2c27ad3-07a7-4ad0-f99b-0ef6d91f2f6f"
      },
      "execution_count": 10,
      "outputs": [
        {
          "output_type": "stream",
          "name": "stdout",
          "text": [
            "Element at (1,3): 3\n",
            "Element at (3,3): 9\n"
          ]
        }
      ]
    },
    {
      "cell_type": "markdown",
      "source": [
        "## Method 2: Negative Indexing\n",
        "Here, we are accessing elements of a Matrix by passing its row and column on negative indexing."
      ],
      "metadata": {
        "id": "P_zfTW_wLdVY"
      }
    },
    {
      "cell_type": "code",
      "source": [
        "print(x[-1][-2])\n"
      ],
      "metadata": {
        "colab": {
          "base_uri": "https://localhost:8080/"
        },
        "id": "D9OirZJnLX8o",
        "outputId": "876f0f88-ac32-4a4a-f1b8-dd3df9d9591d"
      },
      "execution_count": 11,
      "outputs": [
        {
          "output_type": "stream",
          "name": "stdout",
          "text": [
            "8\n"
          ]
        }
      ]
    },
    {
      "cell_type": "markdown",
      "source": [
        "# Mathematical Operations with Matrix in Python\n",
        "\n",
        "## Example 1: Addition Using Loops\n",
        "Let's see how we can add two matrices using for-loop in Python."
      ],
      "metadata": {
        "id": "D9EJasKULztR"
      }
    },
    {
      "cell_type": "code",
      "source": [
        "x = [[1, 2, 3],[4, 5, 6],[7, 8, 9]]\n",
        "y = [[9, 8, 7],[6, 5, 4],[3, 2, 1]]\n",
        "res = [[0]*3 for _ in range(3)]\n",
        "\n",
        "for i in range(len(x)):\n",
        "    for j in range(len(x[0])):\n",
        "        res[i][j] = x[i][j] + y[i][j]\n",
        "\n",
        "for r in res:\n",
        "    print(r)"
      ],
      "metadata": {
        "colab": {
          "base_uri": "https://localhost:8080/"
        },
        "id": "dwOsVT3jLvmk",
        "outputId": "22639d75-c3d8-4ed5-dbce-b70f340ac8fc"
      },
      "execution_count": 12,
      "outputs": [
        {
          "output_type": "stream",
          "name": "stdout",
          "text": [
            "[10, 10, 10]\n",
            "[10, 10, 10]\n",
            "[10, 10, 10]\n"
          ]
        }
      ]
    },
    {
      "cell_type": "markdown",
      "source": [
        "## Example 2: Addition & Subtraction with List Comprehension\n",
        "#### Performing the Basic addition and subtraction using list comprehension."
      ],
      "metadata": {
        "id": "UNU99YtWMETT"
      }
    },
    {
      "cell_type": "code",
      "source": [
        "x = [[1, 2, 3],\n",
        "    [4, 5, 6],\n",
        "    [7, 8, 9]]\n",
        "\n",
        "y = [[9, 8, 7],\n",
        "    [6, 5, 4],\n",
        "    [3, 2, 1]]\n",
        "\n",
        "# Matrix addition\n",
        "add_res = [[x[i][j] + y[i][j] for j in range(len(x[0]))] for i in range(len(x))]\n",
        "\n",
        "# Matrix subtraction\n",
        "sub_res = [[x[i][j] - y[i][j] for j in range(len(x[0]))] for i in range(len(x))]\n",
        "\n",
        "\n",
        "print(\"Matrix Addition:\")\n",
        "for row in add_res:\n",
        "    print(row)\n",
        "\n",
        "print(\"\\nMatrix Subtraction:\")\n",
        "for row in sub_res:\n",
        "    print(row)"
      ],
      "metadata": {
        "colab": {
          "base_uri": "https://localhost:8080/"
        },
        "id": "YE1igGd6L9IN",
        "outputId": "e763c639-0289-41a1-d40d-5a0555f81310"
      },
      "execution_count": 13,
      "outputs": [
        {
          "output_type": "stream",
          "name": "stdout",
          "text": [
            "Matrix Addition:\n",
            "[10, 10, 10]\n",
            "[10, 10, 10]\n",
            "[10, 10, 10]\n",
            "\n",
            "Matrix Subtraction:\n",
            "[-8, -6, -4]\n",
            "[-2, 0, 2]\n",
            "[4, 6, 8]\n"
          ]
        }
      ]
    },
    {
      "cell_type": "markdown",
      "source": [
        "## Example 3: Python program to multiply and divide two matrices\n",
        "Performing the basic multiplication and division of two matrices using Python loop."
      ],
      "metadata": {
        "id": "b9c3mkD3MlnZ"
      }
    },
    {
      "cell_type": "code",
      "source": [
        "x = [[2, 4, 6],\n",
        "    [8, 10, 12],\n",
        "    [14, 16, 18]]\n",
        "\n",
        "y = [[1, 2, 3],\n",
        "    [4, 5, 6],\n",
        "    [7, 8, 9]]\n",
        "\n",
        "# Element-wise multiplication\n",
        "mult_res = [[x[i][j] * y[i][j] for j in range(3)] for i in range(3)]\n",
        "\n",
        "# Element-wise integer division\n",
        "div_res = [[x[i][j] // y[i][j] for j in range(3)] for i in range(3)]\n",
        "\n",
        "print(\"Matrix Multiplication:\")\n",
        "for row in mult_res:\n",
        "    print(row)\n",
        "\n",
        "print(\"\\nMatrix Division:\")\n",
        "for row in div_res:\n",
        "    print(row)"
      ],
      "metadata": {
        "colab": {
          "base_uri": "https://localhost:8080/"
        },
        "id": "ls-ftKWSMgIz",
        "outputId": "aa695adc-3948-4466-9fe8-9f00ddfbfeb5"
      },
      "execution_count": 14,
      "outputs": [
        {
          "output_type": "stream",
          "name": "stdout",
          "text": [
            "Matrix Multiplication:\n",
            "[2, 8, 18]\n",
            "[32, 50, 72]\n",
            "[98, 128, 162]\n",
            "\n",
            "Matrix Division:\n",
            "[2, 2, 2]\n",
            "[2, 2, 2]\n",
            "[2, 2, 2]\n"
          ]
        }
      ]
    },
    {
      "cell_type": "markdown",
      "source": [
        "# Transpose of a Matrix\n",
        "## Example 1: Using loop\n",
        "Transpose of a matrix is obtained by changing rows to columns and columns to rows. In other words, transpose of A[][] is obtained by changing A[i][j] to A[j][i]."
      ],
      "metadata": {
        "id": "ANY8P6E6N2GX"
      }
    },
    {
      "cell_type": "markdown",
      "source": [
        "**Transpose of a matrix **is a matrix that is obtained by s**wapping the rows and columns of the given matrix or vice versa**, i.e., for the given matrix the elements in rows are interchanged with the elements in columns. For any given matrix A its transpose is denoted as At, or AT."
      ],
      "metadata": {
        "id": "i73QQYbgOxjM"
      }
    },
    {
      "cell_type": "markdown",
      "source": [
        "![transpose_matrix.png](data:image/png;base64,iVBORw0KGgoAAAANSUhEUgAAAeIAAAEBCAYAAACkOaaPAAAABHNCSVQICAgIfAhkiAAAABl0RVh0U29mdHdhcmUAZ25vbWUtc2NyZWVuc2hvdO8Dvz4AAAAwdEVYdENyZWF0aW9uIFRpbWUAV2VkbmVzZGF5IDExIEp1bmUgMjAyNSAxMTo1NDoyMCBQTWqQNyIAACAASURBVHic7L1nmCTHmef3i0hTvrraT09Pj/fAcDDADLxZOBIeBEEDkkfu7XKXy907SSfpw+n0PCd90SPpg+4kPdLq1lArkkvuEgvyQHIBEIaEHQ9ggAFmMIPxvr0rn5mREfqQWdXVMwMPLkBu/fvJ7uruqsjIzIjX/uMNYYwxtNFGG2200UYbnwjkJ92BNtpoo4022vjnjLYibqONNtpoo41PEG1F3EYbbbTRRhufINqKuI022mijjTY+QdifdAfaaKON32WY+GhAxMcnhQ/WH3OR94tPtP9t/C6i7RG30UYb/4T4tC3SeO/+GFrV96et/238LqCtiNtoo41/YnyalFnbu23jk0c7NP27iI8q51pk08WaaouuNlpxfqB3/n8uNoIaf/+kwtQt532XAW7QFw1Kv/P1tsC0vpz7RYiLf6K1nMM7vaeN3120PeI23hPzQ3NttHEhLj423mvE/FOPqA92vncKRbfnQhsfN9qKuI33hU+aYtNGGx8dH2YEX+jjt9HGx412aLqN90RbCbfx4fFpY02fH1x+N0gM+jfZmTbaANoecRtttHEePkoq4v1xkD8ezIWOP4Ky/AA2wQfquZg72qHsNt4LbY/40wZjmpP3gn+d97to+XsL1QMh5uSAiTkx4mINtNHGebiY0rh4cNbEJCSBie35VgoWxiDfl5JrfuJD9VXEirhBq4rGvWxpU8fval39e7HzGRBzM0pjMAgiX6X1rnzwvs4/98eJxr1rrHaOzvJJxxza+OBoK+JPBaJpFAQBliXRxqDQaGgKGB1PNt0yw6xYNmhASQgBEDjYpHBwAS1CJAJpBMJomlq6iXeftu0J/c8HF/OEW7nNAqjWK/hBDTdlYYRCG3DsLgQ2LqCMifSZMLEqM+9ZMuPiqv/9jDwTh45DytSp1GdxbUloWXSLjkgdGxsjLDTWvOs4vxXf99BSYzmSSlDGdmxSdMQmxvmKfK7n74TWAPgFU67x+Y/IlNZao01IuVKi6NUQyRQduS6s0GDqAdlM4gO32cYng7Yi/tRAYDsuPj5HzhzlxT3b8K2AQIaEMg6+mRar34A0YESknEMBoYz+7hoLV0kuW3kpV67ZTAIHYSwuvmzk3f2fi+N87+DDewsXtvlR22njw6L1rjeW3MwpZ0OdGhWnzO59u5mtzlLySlQrdRZ1rOaGK2+kM5PHNiC1QWIwVmt7c9/Fe3rB729MirhnCsP+sWM8+9Kv8b0aV1x2Odet30KeFFbssWsM8iLtNGaCFhrp2Pz9U49w5OxRMpks/+KOr9HX0YsdK/H309NGm+a8/88F0DWGEDDYwo4m8IeGoFir8N1f/IC3ThzBdlNsuuQK7r/lDnozHWgTX98HOkV7weIngbYi/lQgEinKaAJh+MVzj/PqydepOnU828e35hRxQwFH1n4sJEV8xH9LBNAhs+zZs4PL//1luMQTfl58er7Ybe3Le+NigvTDhxg/XB/a+E0gSmeYpkcbKRBJiGHf2AF++sRPOTVylqr28VFoBb3BCdat30g6lcI2NpYmepxybly2tv/+8N6fEsTRIAwPP/UYrx15k2TS4fjoMEMLhljTtQQh5nvc85ckRe0GykNJxdHhY/xy57OMezOkUimG8ov4/G33oaXBsexmAFi+B7XmYmZEFN0K8aiiUAggSw4L68IG3gca3nSpVmbbkT2UdJ3OVDfb9+3ksg2XkBt0EbhRJEzMHfB+vO8PY5y38VHQVsSfImitEZZACEmtVsfXHoFRKA1aCpCCqdkZstksyUQC7SsINSYM0SpEAlILlDJYEno7F398nWvKrovly1qDmh+HMn4/7czlKH+7av9+HCzihr/6MV+5iSw7CRijCUWIT4iP4Pjoaf760e9xbnqUZCaDCROEvmTBggHWZFaSTqfRWr9HhYuPOj4u0qSIUjKloI5KWMxqn8rEME9tf4FF93wVG+cianOuDxqoWD7FsMIPHnuYWVkj7LCoGkW5XiXlJFEmjFNDjczx+x9zDdvXNx51UePVt19h+97tpJIpHtzyIIt6FmFZFpb1wRSyUgrLsrBtG9d1kX7A5OQUCzK9SClwrQSo+QrVGNMuFvIpRVsRfyoQ5dEcKYGQ+26+i57uLgJHE1pRXje0ILAFx8eHeXX/G4SBIaMEa5YuZ9XSFdgaLEAYgdGGtJ1izeJV2NhEbC0dK9GP3NXYWyLy0EUjEPfB227myMRcmPG9T954ZZrf5wvF9/akDAZhWpTChxZOZn4i8P28/4Jr/CDK6YMYKh8WBrRGoEFq6qGHj+D/+9EPOVUZi9IgM3Xuvu0ehgYW05UusLywhEIyj9ARSyGUkTJv8BnmU7ne49zNV42neh5VrCU9E70vatc2AkdHn3HzKfYe2s/JsTNc2rdqjrjIhUmZEMOM9Nhx8DVOFkfw7JBQatBgRMTQiM5pMKIx5sxF+/ZOY08AiJBQKP7yh39JzakjgK5qF9/66rcIw/A97suFkDK6q7lkhoduvp+jw6cJjWRR3xCrBlfiYIOIaXTCzPOIW+/lhcO2NRkR9f69UwltfFS0FfGnBgatAhwpWLNwBasGV6BjseEgCIA68MLJV3jrtWMUvSquTrCx/zLuv/YOksJGRhFF6r4im8lhY6FRUetCz+NUtopF2exB9H2+kIswN2Eb2a7z/QzTlHTn+8zvqRpjpvj5mbULxfacV9VY39kqFrngylrP1iJ+TYt31sjRxRf4bqpCtCoKE99PE4t20drz1jO3ttja/9Ze65ZPXNgPMe+zrZ9/f8Lx/HzlO75LNMhVMU1QGHztc/D0Kaa9IjKRwK/WuWbT1XzpugdJk0RiSCMxgB8asCEUgjBWAo2ikHPj4MLnY+b1MLq+aITJi1yjmfe9QQizNSRiLmJgaSa9Ei/t2cXqO1aSRGMxV7BStIwShWY0mGXnodeZVGWMjIw0SxuMiSmSTT1kWr4ullNvENPm5pgGpNBoNIoQ0pJq6GFJi+l6kXroIw1YrfPJmIsadvMWacnojuZSKe6/8jaKfp2agVQqR8LYGAW2LeJmLmzL0DpzTLP9BrmuwUcxwiDaq1x/47BbmXttRPig4ZsPeg8vbD+auLaToDEp5hZNNCZ9gIVPV8pgiWncfEjRD5ApQY+dRyKRRiMxZANBvRpSdzVIhZQCIRy8cgUnkUA4Dj6aEEmIImMslAlRMhJ+UitqxSJuIY3GYEFMV9E4OFGAztgYIxEYLAHgYEp1SCYJXKgZRULYWBCbAhG0UaANCcuJ2dxEk94CtAaZwA+qCMtChSEIgWs7WNh4uk61UiWRSOC4Dq1WuyLAxQE0ofLRRmM7dvP+WaQAHxAIbUDIyMMRMvKODSAtqn4VadtIacf3XUZdMyGBXyeZiKg7RiuEcGkIuWJxhmQmjbQslFI4tk3g+9iOFXkjQKB8gkDhOC6ObTeVSKU4SyadQVguSoG0HbzARGl9EVGNErZFoD183yeRSCOExBDGBKR3U8mRQvBR1MMAIQXagC1dAq2xpYWDABQ1v0zWTeLaEdu2VJtCphKcrJ5mIjFJXdexEhZXX33V3Dj1JY4LFa+ObUXUqIgl3BDekfrTDS8bQ7FcxHWTOIkElpCEsZKqB3Vs20YgsEUCa54KiFXnvAvVzb8bYTBCo0VITYLnGH7x+ousXrue65duJO0FiEQiuh9GEAqoGg8lDKNnTvHG/jdQGUmiDlYocUKJMZEC1cYgdIiwBEE8cxpGrdWcGdE12AYSxgZt4UtBIA06rBNamvH6DCWlMKkUPoIxWaNiKRJGI8KAMAhw3AQWEq1CtDZYlk3gB9SUh5XPo2lMlRCpQxwMrjF0pVIEWCgMIlA4ttO8V2EYEng+yXQKFUbpLxOLnUDVkUITovEsiyQOqlIlk8qcZ3y/Xxn3YVItbbQ94k8dWoJeJvJ6GjwrGdNmpAgxQhHKSJk0FJo0UQhaWxIlBQfPHeXk8HEK+QyXrVuPzIBGcezkScZmpqiHikvWrmVBmCCdy1LDMO3Ncu7UKUrFGaZ1FSMMltF0ZXOsXrqMvlQvEhcpYj6qkHi6zsTUKIeOHKV/YCF9gwNI22bCq7Dv4FtUlIcw0XKrxQsGWDG0lBCXNOn4kiMvzEgIqXGkco4TZ09TKpcolytkMlkymQxrVq2mI5cnMIo0FjaRKt59ci+jE+P09/SwdslKMnaC8dokB48fYaY4Q2lmlv7OboYWLGRR3yA5pxCTWAAiN8pgCKhRtz2qyufw8WNMzc4yXSySdFz6u3vo7+5l2cBibCS2tHB1LPylIZPP4RFQM3VGq1OcOnOaUrHIxOQ4hY4ChUKB3u5eFvYNkLVkbBwILCCb7yYwAVVdZ7w2y4mRM0xXipRmp+nM5+nM5Vm7YhVpmUJZGkeYJsXnvYKGhjBiO+NRJ+Dw8eNMl4pMzc6STKbpynfRnS+wbOFibNelpHzyEnxpODY7ysRshZPT5ygHs7hJh3q1wsj0GQ7KJIkwhV2XXLZ0BW4s+C80CyKhH2KisSlCTgXDjI2OMzE5ie/7OK6D47osXbiMJQuWYMcUJj0vahArgpZ0BrR4ds3AhsCKLBiUMDz5/DNs/BcrySY6YgUqMUZQVz4lXWOWCr985kny+SxTfjn2wnX0PhrLoyKFWFNVqqZGWXqMTU4wMT5OsViioaj6enpZ2jvIssIibCmxEWgkZ4Iyp8fOMFGfxHMkgbQIMczaZXaOvk4Kh6xwyFkuA4leXOEyWpnhlX1v0N3dzfplK0mlE0zpaY6PnOX08FlkoLnm0o3kpY2NYP/BwxQ9n02XbSZpXGQoKNdrnJkaZf+xQ6xavYqh5EIKVhpHR2kqJTShLSjjs+uNV5hSPp9Zvo6VhYXN+yxM89v7lF/tMPaHQVsR/47BAGECxsrTPLbtaV4/tBeM4l//2XfIZjI89vhjHDt2jEQqRala4WvZL7Fk1SZODB/l6Ve3s/2NV3ASDr7ymNJVQGNrQ082R0pa3H7Drdx62Z04aCwBDoK3jh/m0acfZbQ+hWXgv/j2d6j7Ho88/nPeOnmMwDZIA7aGDjfJdVuu4tZrbmEosSwSe8LgGY+aX+WJ557k6X07UJahVCrGUeTIixnsX8Rgdx8P3HE3yzoWNcOB/+eP/4bJygyduRx/9M0/QHt1nn3uV7x59hCWLUlKC+o+vflObrzyeu65+gFcIZHGIIUgRKDQ1Kjw8tuv8vTzz3Ji5CzCtZGuw9T4BIV0nq5MJzduuZHrNl9Hb7YTWwiMCPHRBBim/Fm2vbabx7c+ixKaSrlEOpNCqRAVhPT3DjBQ6Ocr936RoXQPCQQCiY9mol5m6+u7ePbVF6nZPrPeDKFXxfgK42vWLF7DPbfdw8aln2l6RXPPfH7elJbfBIYAj+1vvsiLO7dzamwEX2i8UOF5Ablkno5kB+uWrOW2G25l9YLlhEax7/jbfP/Jn3KyMoqy6/h+DRVWSKfTPPbMz0maPLZJY9cl/+G/+vd0p3KR52t0lHuMe6HjkLclXV498DK73tzFgfJRpqrTlEtljDEEKiD0NEu6l/KZVZfylXu/jIPbDGqLC9Vx/MK0rP4RICTSWCSUxAiBZWBkYoT9xw7QvXoLEo3QEoNFaIHlJHjltR3sO3KIVFeG/u4uihNTaARGCEITRh6xNiil8JXPy/tf5j/vfIZq6OF5dTzPQ+sosuGE0OnmuHHTNTx01xexjIUSkv/te3/BcGWcTGcSzxJRhEjCsYnj/L//+LcYLUmFArvk81//0Z9S6OziRy/8nFePvc3k5BR/+tVvcsnCpfzg737ImdIU50pT9OYL1LwZHrrpLv7+sZ/wq61bCYXFNaeO8ScP/iFe6FPRVb732MMcmjqL/UqC+37vs3xu07UsJAWxBz9FiUeffYxfbX+JGoLrLtnMt+7+Cgk336xT8MHQVsIfBm1F/NsG8x6hH2HQBIxMnePAyYOcnD1LtiPLSwde4Y1XXyeo+xilsQKPUCmOHztGdcl6nnru12w78DoVoShPjVPozGNMVODAdiyOnztNOpHkrx/+ETgFrr3kWtKhQFswXJriwOhJwpxA1Wq8+MYOnn36GUJbIBIWKgwoV0p0d3QyK6r84/ankZkkX9i4gIybxkMzHdT46ROP8tyuF9EJ8HVAoALS6SyO7WDbLlPFGc6dOUtltsR/9+1/g8Cw563XmQjLBBmL8bDC1rdeZu+rr1CcmSZXyGKMxgsD3ITDaGWWv/npj3nr4DC//8BXGcgWkJakiqaK4mfPP8rWnS+hBVSoYhmbtJWhs7/A1OgUpWqZnz/7BHuPHODrX/gKq7O9WLbEE4ZJVeEfn3+K3Xv34IVR3zPZDEHgY9sOyWSayeIMI2dHOfr2Ef7j//A/46mAvJ3jhDfJEy88ya9e/DUiCTIJwtUo4eGmHUpBjdePvcnwTyb4k2/+CTf0bUYAvvJwbKc1hjLvp1Y+ZVXhpy//jF9tf5ZSpYxvQtxUko58ltHRCiqsMVXy2X88pKrq3PF7n2XzwAqUCvD8OrVahdCuk3AcUpkE9UqdE+dOsHzhOrT20b5kYmKc7qEclUqFVCo5f3SKqDjN2Ymz/OAnP2ZWFSmnKlRVle6ubqZnpnETCSbLU5wtDlPcW2J8Yow/+eof0ZvsJvRDEm7mHQa7ZC6/LsBYCAMbl60lnc/x4ratTEvFMzueY0F3N6u6lyCMjRYCJWG4OsUTW5/DKWRJOi5fuvM+fvzTR6jUKkCkqjQKYyBlJ3l+5y5+8NMfoPvTDE+OY9s2mUwGKeOIlSWoCo9/3PoUp4bP8e2v/gFCWAyfO4POSIbPTkHCYGLFrbSiXquifE2pVCcbCEJCJoISr58+yJgqEaRh1+G9vLxrB8dPHCNMO+TyuchX1yE+PlvfepWS62OExeGRY0yGk3RaGQLh4wmfMAkVUeOnzz9Od0eOe1ZcARjGvXGefXMHj21/hqLySco0YRhiWx9GLbRD0h8FbUX8W4X3MdiNwRIhEgUE5DoziIRg/+ED1MsKUYehBYtYMbQEW0hu2Xwjlp2hHgjqVUNXbw/Xb7qWwf5+pNTUlU899Njxyi5qgU89CPj5s0+zdOFKVnYuQWMILEPdhtAL8HzF488+B9qwcdUlLFm8mEpQ5/CJ44xPTUaehK15csc2HtzyEAoIEew9coBXDu1HWZIFVo4NGy5h/fr1FAqdzMzMMj07y4HjRzl08G0GewcQROE9ZUmMDDAx0/XNfa/juBZXbtrEZwZXU6vWKNWqvHngALNBmXxHPycmRtj95mvcec0NWEZSE4bHdz/PM6/spFyv4iBZsWQlG9aupyOdZXJ8ivGJcQ4fO0ZAyNvnDvLXj/wl//2Xv0NnZzcam4Onj/P4i8+SSCVZZOdYvWoFmzZdTjqdbvb/9UMHOF05zbKFi1AmwBIwYWZ5ZNvPee3gHpJ5m7SxuWnzNSxbvAgyLiW/yu49r7J3/5tM12f5ix/8FZf+lyvocTtx7ASNHKzBYJkGkSvKYYdhyIvbtvLMy1uphIq6p1jUt4B1q9ewoKcfrx7w9pGjnDp3lppX5M2jeynVZ1jz1e+wbtlS7rzqBvaPHeX41ClOjJ0gUAZhHG646kaWFJZHoWlP0pntiELtccgdomhmg9xmBNR0wIxXRUnBkuwQq1ator+/n0qliuu6vH3sEC+8tYOKqXHkzDFe2vUSD9x0D0k35k00DNBWl1iYFrMjLkhpBFmR4MqNWziw/20Cr8KRMyfYf+IQK7sWo4kMg6rx2PrabiZrZYxrs2rFSpb2L4rzvXGRHDSaMCKSo7Adm45sDqNsPrPxBrq6uujoKER3X2heO/gKJ4fPUDJVDo4cZ++pt9m8dhNfu+MeToydoS49tu3biZEaY6A33cOyviEKbpa8laA7k2NR10KO+uMYQuxQ0ZHLcOz4YbzxIlmdYrBjEQsWDdKRynDV+isRJFGORjlhdH9sjbSi1EVXpoPbb7ieR194mjPT45SU4tFf/YJFbpIlQ0OcK47x0ycexcq6uL6hx2S5Zu1GOq10lPmeR/S6GAHyfNnUxodFWxH/1kG2HBdCABZRXlei0Non4aQZGx1hiT3E17/+EJesXkPOSUEY4lo2Aou77vwCn9lyLUNDQxRSadJS4hoTkaaQDPQs4uHHHqVYLlHXY4xMjrO6cylgUMKgpAFlSCTS2Ikkd95+MzdetoXBRC8lKoxsnOS7P/5bzlQmyXTmOXdmjINH3+bSFevw8NmxZzenx0dIp9Ms6VzIH933dZJukiAIED1RjvHmK65jYnqKjkIBiY3GoIWFROHoEFtL0kKy6dJLuevG21hlDWCMpC4MBzYc569//H2K2mOyNsPufa9w7caNLMj1MVo6wwt7tlO3Jdp2yCXy/PFD32Ig3UsKFxuLoiny6x3P8+d/91cMrl7MycnjvPDKS9x9+31oYN+RtwmTNnU0We3wtdsfYEHXAMr4sDAS7DdecQ2hAEtKCiLLrChx6NxxHt/5JNlUkqQy3HXl7dy75RYKbo6KIwilZM2idWTSj/HSK9sZnZrgxe3buP/37gZMk9TXyjiG6HyjsxPs3v8ak/UqnlejL9vFH37xX7JqcGlUbU1YlK+p8b1HfsjWAy9TtzSvH57mly88xYOfu59bL7+Gq5zNPLrjSU6OnSYIFLa2ueHKm7hu+dWkdQrbEySdaCxKy4rCyGIuvyhEFFzu7xvgj7/9HUKjWde/mIyTiqhYQmBJi4lLp9g/cYyxiVGENuw79Bb33XQPtXqNdCJ38anQbL/BVo5SINIPWTewisvXb+KlHc8jUxbP7Hieu664DYQhlCFT1Rm279lBXXkkXMmmdRvIO6mISCkFGImJp5iQGi+osvnyTSwY6qcrlSeXyeO4yZjKJwhRrF4+yJ//3XfxLc2pyXO8eeIgG9Zeyv3X3ko5KFNzAl7duxOFxhjJUH6IP77n9+kkQUbaJJNpxqtTEUEv1NhBQHVyknwqiyUk/+bP/ls6Ux0UsjlStks2kWZWzVLXAXXjI41GhQFahyBDQqPYvOYSxkeGeWLbs4TZFEfOHuXhXz3K7bffxt///CdUghrS0+ScFF+67i6uWXsZCeLVBKKxPqKthH/TaPPSfyvQWLgQF7M3DugEF3t8jSUTRmqQIY4NtjTYyvCtu7/A9SvWs8jJU8ClYKVI42IBQ739bFm/kd5MgaSdRMoEWC4BAg/F4uVLcJKSZNpCSsPo8FnsuMaQRCNQKF0nlbBZ3j/I1666hxWJhaRxyZsMqzqG+L1LN1OfLTI9MkxaGk6fO4TAI42FFSgG+vpR0lBNGKquoUgNHEnCdelwM3TLBBv6lzOY6MFFRIxhKREh2EqQ8KHXZPjaDQ+w1BrACiUYG0mS9YvXcNnmS/HTVbxEkeHSOcYqUwQE7D/+BhVnGmSdFPDlW+9mdXo5nXSTpgOXDN2ih/uvvZflS1cxNT6J47o8d2gPpyuT1PFQUkI2AZ0JSq6i7AZMMksgFFJCUth0JdMkDWRsh0S8TvcXz/4SVyYJaiG2k+TWz94N2QxVKbACiQygIAvcvuVzWOUkKVPgqW1bmVHVmFg099zjtClGQF0Knj/+Cm/UjyA7BOmUwxc+dy+bl2ym115Eih5ckaOQ7OJPv/Fn9C1cTCKdI5nL8qujrzNBgG2n6BFddCYKmFBgWxa2ZZFNRqUjk9Ill3Kw7Shj7Tru3ECMXOKYZGhI43L54g18ZnAtfck+XCsN0sIgUFqTTmW55sprsBMOIuMyUpxiZGaWVLIQ8/YbY79xNDZ2EHN/J1KJ2vPIYvEv7/wSQ12LqHiaQ5PjPLzr18zKAEXA1pdfYmpmBCeosc7q5Kbln6FAGmEkBoEWAiwbgURakpSTIilsVvUvZjDXQ14mSGgRK6lofi7uGWT18pXUdY1cVwKvOo0T+DhAt5PFDUKE0Vja4CrIWxm60z3kkh0knSxaS3LpLnp1gUTo4AlDWXkExYD/8Tv/jkuXrmOofxG5TAd2IolnQhw7je9IfMcisCz8MKK4WThkRJp+K883b7mfGzZfiW1CMvkEByaP87//w19xNphCpFwKbpaHbr2Pu6+5nYydQhkzJ0cgypnTer/leUdbEX9UtD3iTz3OY0w0hVDERb044qSV0CA0QRAwOLCQy9ZfSoeTZW6KCUI0PgFVVcd2klSFolyrUK6VKU6PYaQilCGT5QkCXUJKD20kaBOzS5sOEJZtUS4VWXblEmwEdrwO1BEOBs1g74L4/TFLWoRAiIVk/coVHBk+QeBVOTZ5mh898wgLe/tZ2NNLd75AT76Tgp3DwyeM6TtRKX8d98NgGYuh/oWkZAIn5qw24GDR29/D1PZJnFQCz69x6sxJlvcvZHp2kqpfIfBqdNkpeju7sZFYDUVnBEZYSCTr1q5n/NUxbNtiqlqiXKuyOLOEpQOL8bf9GpGWnKwX+dELj7Jm+Sp685105zvpzXWRI0Eq2VBWiiCoUakWSTku9XqNVevWcHTiNI6ysLXA0lFxDN8yDM9O4XZnqFZrCNdmcmaazp70/FHSLDgBdXzGS1MUgzLVepXBdA/r16yLmMAGHMsmFLHSQbBwcIhje86QTCUoK5/hyQm6O5dFd8HIeOVQgzbVut54vjHYWLfaXJ8ae6wpEtTxwYYRyoxVJ5icnEAphRCgZMjYzCRawEy5SE+hGy0iNTe/Ds15Qj9mSLfOF0nESBdY3HbdLfznFx5n2p/lxZ1buXzNWkTdZ+erO0klXLrdPA/d8wW6nQJlfFQQEevAoMKQAIUMFcqSOLZDHZ8JPLwwwAsCzoyOoKM1eFTHxjh3bhhsGdfginag0iZii2ulUEqhpMIyECpNqDRKg2M5zZluGQuJhRYGJ5nkkqXr6cp2xtfUuLNzaQgtBEZEBLUQ4rFq4cT3KwS+eOtdjM+Os+3wHmqpKK0jtCCXSHHNxi1ce8mW5nxFgG6sb5p3Z999oVwbHx7voIjfiS73cT2EvaccvgAAIABJREFU3/b23+l8H3P7gkbVwZb2Wy3T1vML5l23Mc3KOb7vs2DBABknw9yy/bm9nTSCkq6xZ89uXty9g4ryqAU1tCojZJTFDVQFaWkCv4y0XTCNdaGN8ggQ+D6ulaCvt6+lfyJ+h8FxGutu5w6BwUJzxaUb2LZnBz4eY7Nj/HLrMzi2RTrhks2k6UjluGrlFq6+/Coy6QwZmcJC4+iw2Q8DDAwM4Eg7LpCgm8pJEZJMJklnMoxNjpN0uymXywSex+zMNJ7n4Xt1nHQHXV1dNNYfc97S1aVLl7DvWBfVepmEk6RWrRMSsHrhUq5e8xkOnnubsWCKJ199nl1HXwdlyKazFJJZrhhcyRWXXsaSgcUkSOMFVWrVIsqrITC8degAxw6dQGoZL0WLqjwpaagon7JfpyNfwBIW0zMz6J7BltB0YxxEY0GpgJmZGeq1Gh09eXoKPbiuS4IEQgi0hmaFNAwLFy7E3edijMHzfCbGJzGFZZFaMxKhweh4MApDY/MCff5WCkI0nOEWw8BQosi52RF+vfNFth56g0BojNFUa9Vm3z1TAWHo6u5Chy2FM1qG9gUze17J1fjEIoqWCCPZfMkm3jy8nzdP7GN05Ay79uxk7Oww49OTWLbN9VffzLIly6kENSwngdEGraN1ydpEOWKDQhFSMz6HR07x6PZnKdYrVGtVRsbHMBhsbehXCYp2FZGy8DwPT/n4KoiUuTSEGLRonYHR35pOfvw/hMBIgRbRcqx0NksynYpnvmlMb0zLax3ZPETbbcRyIjAgQVuQx+G2a2/k0PQpTlXHUTrExWbRwoXccdNtdDrZWA0314HNm8PtRUm/WVygiE1sxV4cBmE+WjT7d6L988SBEXOC4KO3P//1vOUZNLxhCWYucNT8lIiuXZtoyYUxGtu28YOoLm1DfDY2VTRGo4ThVHWM//S9v+b4yeO4mTRVr0pXTye2bcVF8yGb62RicgTHcQgReJ7H+VMzkUhiYWPZDg0FLJoey3mhxGZmLwptL+5cwL/6/W/x2AvPcODkEWrKwws8yrUqs9Uyp8MRpmfK7Nj3Mg/ceS+XLVtLCknWAdMIpRlNb38fiqg2sBRzqkkiSGczBEqRzWaxQhs/LriRSkW56KiYBGSzmbnncJ4E0sYwPTOD5UBXd45SsUgah5WFBXzjc/fy5FaXHYdDasqjWi7jJhLM1IuMTY4xcvQ4O/fs5sF77+fW9VcTqCqBX0MFPo7rogKFk7SxZLytgBQYYQiFxrEtcskkUls4lkVXVydKBzjCiopZEEtjY5q5zSAIsGwbISX1ej0eA/PVdvO6whBjonXh0bOMinpEiihsjjNjiKuKRcaViZVWc0MB5qo5GaXAhpqusfPAbr7/kx9QNnUmfJ9kNlobns4ko74ITa04ixSGqekJspkk9aBGzVekXbulz7r5ChHSqP+sxVwJSkS0LMxC0JcusGX9pRw9vg/jCJ587imkkciES0+mi2s3XEXaySAAD41l2VHtZyFxpIWFhbY1M0GV53Zt5Vcvb+PA9DAKTUc2S0dnBxiNHRoygUPRqxPG241K2wZLkrQzhPgYKRC2RAgLYSyEbUXPBwttoh3UGkQxLcBIQRhqAhOidDiPGdJ4dpE5HSttIKJwx3OtJUKScrPUlY8yBsuyIplgS8bGxqlUq7gdAy0tm5Yzvbv6fa8VTh9Vef9zaf+iHvG7+5Mf3Tb6XWt/vj/88bcvWl7p+KcQzKvo1eyDAeK1nKYRTowLVszVZ24UsI8qB718YA8nx04hbIOpVbh58xau3rKFXDaHFoZQaqark/zdIz9itloi9N/l+i4SRmwWyT/Phmn40zLu2eLCIH94/zc4M3GW4fFRRibGGJ+dZGxqgkMnjjKrPSbGZnj45z9hybf/FZl0AaECLCnQQiK15NzwOcTqywkJY4UWhZQVAZNTU1HBByvKKxc6CjhWAttJ4DguRvv4QUC5XMF0mGYlzNbI56mTpwAItcZXio58R1TPy2iWF/r59j1f5a7ibQxPTjAyMc6pkXOMTIwzGoziZDSTM9M8+sTPWL1wkFQuTS6bYdrUMcZw6eo1PHDrfbihjaPjmlky8ooaHooQEjeZpzuZRymFbc3tmNv6EIQQZNJpLMvCq/uUgxozxSJhT4hlWkV6hOHhYVzHiZ6EEWSzWezmjkM0x1P0S8OYMhitEVLMG/KNoKkUkoDo+Tz9wpN4Vp2aV2F170o+e8vnGFi4kHQqBUSh6effeoFnnn+adC4TrUcWprl7U8PYPX94NYdUg18U11RuFLnRoc+WSzay542dvHb0DUIh0QZ8bbjqiqsZ7ByICVdxuF3IZiU0EYfGjRSMTkzywq4djBVn6E4XGFiwgKuu2MyywcVYBixjyEjBD59+mLEz+5F2VHBbWLI5C4wUsaK0ENgYMUczm6sRBlqCkbFXjo7moAmRzG3l2Jj7DWMzjO9Ow6tWGLQVVWULCTlTH+fnzz7FbKmIIwVSJhAhVMM6v3jqcXru/zpDiYHmrD2/COu74bc9vvlpaL9FEZsL//sODYoLmn4/Xf5tb/999+BjbT/yKuc8DmMaNXNFXFvaNKMAUSGF1vB0nC0TjYzVnDKOhHX06ujZ45AQKM9jsLOPz99yK8s6h9BIAiQehjd8ha8TKKEQ8TZujeCyJSWWlITGgCb2quYUR4N1KUzrJvGNeKOIxYsgKqFpsbZnGWt7lqEwVPEYnY7Yvz949uckXZuJ2Smmi7MMpguYMPZ8Y1115twZQBAYhSPcxpkJCJmenMU2diRsjUVnRycOLgnbJWklqBPiK0WpWkF3RCZL877Hntepk6cQSLTSCF/TnevAwpATaSCgbipszK/ikvxqgmWGCW+WwGjeOLyPv336B2gbTg2f5szwOTYUNpJPZfEmz5KwXY68dYBVD/4rUrgksHFMQyRGARBjDKEwTEuFi0XKtjGtERHiECdRoZJcKktCuJTrdcpUmS4VUT0Rb6BxvyNRbxgZHsZ1XLzAi5YApbPY2AQELYMxouXphoFHIxx68brXflAHC46cO8LxsycIMiHSkVw6sJo7Nt5MgiRVE4WmAxHwRLkShWsbNZ6bKuWd9wOe65toHnFgGokgZSfI4nLzVdez98ibUT4Vi/7uBVxzxdXIwGA5kSkoMQgTRXEayljHd3hsZopjw2fxbEE6gDvuv5nL120gSxI7jg+M+MPUw4BcR46pyUm8wKMeePiJgBCFFwQEfoAvAkIMQeDh6Vq0daTV4A7oiGjZ9GY12oTNeSt0/KwbP2V0dxqyILJXoqRBIDQWIZqQ//i9v+DE1DCpbIZgpoibTlL2auAIXn37TXpfeoY/ue3rMQFQNmdnw62Ym7Nt/CYgIfaR4tBOa+jqYmi+b96h3/0zv2Xtmzi/2jgauSIdryw053199PYb/qnhfJXZkEciNvsjRRxV/kkqg6vnlFsjrRMJSRuBgzEOCCe2vue84KaAB4LAw0ramJRNBQ8PH586NhY2DnUMB88Oc9YPKSXSuJZDIZulkYm1AcdE4bRAxUQU4vyXNlgG7FhYWDo6hDbNawqRTAQek6USylP4QUBoNA42OVIs7ljA5pUbyFg2ri1xEw5eoKhjU9HRXsvSROHT0fExXn1rD0pElZh9AqqUefvUEfbu2ku6ksZMWxScTpYNLkYAaxavpNftQimHqpb8+PF/ZMbU8HQNKUO08CibIs/s/jUjZ0YIaoIkeW5dtJENnYsBw7Q/zWh1iqlqlTomzp1KehKddCfz3LDhKgI/QClFV2cX1bqPi83tm6/HFlZsREl++syjzKpSFK5UIVppfBVSRzPtVzk+eg4TBNT9CjOVaZqEuTg8qeMx4EjJxmXrGEr0kXNzKBXy4q5tjOsZKtTQQqHwmAln+dkLv2B8fAwVKHxPsW5oGQsyPXihj42NEFEtZV9CLVQxM9dAqCFUtG6i0DqO3aRLNaiSLeRQAkLhEGibVCqDg4tPQEqkcIVLPfB48619VGpVkskUtmWRcEKSjg9GxUnRlrEOUdqDFmVhorywjJWolAZMiI3h+jVXc+WGm+hM9pMnzV1X3EiXkyXppLBMNJItBI4BOxTYuuEnR7OlGFTRaQedcghtAdqQMZKUDrFVQIjPidI450oTjIyeI2nbWK6FZzWMCkFvup+hnoXR0jEjmB47xfTUGbRVj5bgEeDi49UrmDAgIcEyISqoQ1zfOiplOxdlEmiSISQDcJXADqP5JTHUggkm/XH+jx/9J94+8jbVcpXqeIkvbr6d//u/+Z/YtGANrpGYjMvPd/+an+z4BVXqlKulKBLUuNNztvt7yKvGVxibAiEh89+riT4fP86LHtq0jiPdbO/843ep/aZH/O7q6zxldt7v7yck227/I7QvRNPClxosbbC1wA4jJRdZ7nMeqhKSUFhoHIxRSCHAWPEAaD1j5AWsHFjMm2/tp1SqkLJddr31Ju6mJF1pGKvMsuvwfn7x3JP4TkDN90kI8LSK84cQoPGFBhWCH/0MUYShQIQG25FNvy1iAUd1pxveqsLw/Z89QrlcZuWSpaxcs4R0JkU6k0ZKycz0NM/tfB7l1XBIUq3U6erqAWwsN4EVe4paGk5NjvDIs48zqeusXbOW8ckJxqYmeW7bVobr01gJi1TosOXSjWTcBDYWq4dWccmSNQxPjCFEyMnxU3z3Z99j09rP0N1RwFiaN/bv5fX9byDSNh2JNCnpcMPlm7EwVFH8wy9/wbGzp1iweIClK1bQ19dHb3cfoQmpVivs3L2dUIVIJSiXKiweWg64XLHhapbv3MbJs6fxgZf27Ga2VmHjug0MdPYBEi0kB44cZu++fZw5dZpNS1byR9/8A5KZZIshKOJtByMPzkaybtlqNixfz5m9TyNMyKHjB/jLh7/LZZdsZMmixbiuxdYd23hxx1ZcV1CtVcgnUjx4171YQMJKEKLQgSKsemgJjrGwkLg4uJaDbaLnd/7Ybihly3HJODm68j2cLY2jtGbH/pdZd8UGhhYNIZEMj57j8V8/wbmRUdx0itnZMvl0ppkztURDyrWcoxkNF81xFdiRRzzfP48MHAuLL/zenbzZO4QtBNdfdjWFRB6vWiOXzBCKKFyvhCCwRCMnEM8RWLpoiL5CJ6dnxtEJi617t7NkUR8LcgWkJdj79ls8svMZxqan6Sh0IoMQIyXCtuPkiEWIYknPIsamJkkW0hwePsHfPv0wV2y8HKlChNIMDgyS6egEaRFaFqGUaCOaufuWy2/+dExUX1vruTC1jwbH5ZkdL7Dn9BGcjixJI1kzuIz7b7kXR7h85e4v8ed//11GqtPYCZsndj1PId/FdWu3EAoTR7BiRXz+ForvKKzO/8+FIW7xTm9tecP7l7e/G+23ly/9FqBhmVoIpDY4oSDUYIcGqSNBoWJbVGCiPFi0LwtSBzjSwg6jTRpMMzPbCArDdRu2sPvlV0k4SYQteHbHdna/+gqOkJRVnRlVJ1nIIMoermMItUTLRs8MWkIoBa6RCG1wjYxCXELERkAUrjZEhBQV7wDUSDoGGHa++TqlepUDw8ex90XWIhiSqRQCw+TEOK4UmGqdO265g45MHo2JGcAhoYg+0dnXz/5zxzn5xCOkX8w0bdKpYpFyrUp/oYdlfb3ccs01FBIZNAEpHB68/V6OnjjI6ZEz+Eaz++2X2XfmQGzdauq1GsrzSblJLGF48P776e/pY7YyC5kUL76yi1ld52DxLOHbL2O7DulUijAMKZdK+LUqXYk0xVmPO2+5i96uAUJjI0nwzQf+kB8+8iNOnjvBRKXIi2/s5uUjb2A7Lg1y3tTMLIEKqU2XWJLroFKapdC5CEVAVMKldZu8yMhK2Um+8vkvsvfYboZnxqjUirzy1svsOfw6CxYupF6rUSlXCJRHIZXHMi5fe/DLLCksxGhFPawhHHCFpMNNUQnBxUaqlmBxg39g5kd9BCYiBkmHFFnuuPkOfvzYT8ikLYq6zP/z47+ko6NAOp3m7NnT1IMaV15xFa/tfR3PD6jLgGpdUU4qOpyLGLAtuj9SxAIl5/nLzZ5Ee4oZ1vQOseSa3miHLM/HUpqOZDoOw8a5WiFQQkR5bzMXqO3PdbF2cCknz5yiFNY5NHyE//D9/4ucnaBeqaAwnJydpnNhF1V/FuVrwkCjlUHGJMAQuPmqmzh46BCzUyXKjs/LZ/bx6ql9BOUaJlBct+VavnHPN7AsF2FchK2xLBdHJrCwkFbsB8eEORuDoyW2BhUrTC2iOXVqdoJnXt7FlPbxPY/LFq3i2w98g+5kDxVVZ3HvEF+++0H+5uHvMzExw6lEjce3P8+qxavJ5TLxTubifBurjd8ALkLxbQjr3xTa7b/3Gc77XQCxQCjERJ2EB12pDIV0lkB5NBZahAgILfryfQzmF5DyHOwZxZJcf7P8Bs0CCRErdGluAV+67V4WZntRJQ/jaUrTZaZnSwR+iBUYvnbX57li8Sq6AgtRqtGV6aARcutK5zHFKgnPkFQSV9vxGtwohB5pXUlvoZsULsnQImMclg4tRaHxtc8dd9xBd083WmsmJiYYHx9jZHSU06dOMTo6iiMtFuY7uf2aG/nSbfeRikt61P0APwjwAh8vCNiwcSP3P/B5Cp2dTE1PMzExwezUNMJTDHR005fK8wef/zKLu/oROiSFg6NCeq0U//Yb/5q7N99Mp0hiB4papcTUzCSzxRI6FKScLF3pLu6+8XNcvmoD2VSedCqHwOYrX/4yCxcO4DgOKlCUSiWGh4c5c+Ysnu+TTWexKprrN17NHTd+jqzM44oMjkizsncZX7/vq6xbso58soDRFpMzJc6NjzM8Mc7o+Bg6UHTlOrhs/aU89NBDdHd2UTfVeDQ2kiaSxvKVKExryFgJ/t2f/VtuvvwGBrv6cQQkEhbjE6NMTE1TrwYQSLIyw0N3fYmr115OGkFWJuPlZpB2HFxPUZAuvakcS3oXYFDoUGF0FIS3hMQWVvOQwkJKF4GDhcP1m6/j5i03kghskm6S2dkix48d59ixYwgEd332Lm669Eqynk2HyZAME+TcHK5oGCPnoel1RFsRDnT1Yco+CR96OruQSBxcVBASKoXxQ9xQkLdTZKRLykmSsFNI6TY9HgsY7O4jpSXhbJ3BvkEyZEmTpiByPHDTvVy/9kqWdfdhfI+RiVEmKjNUgjom1Hz2+tu5buM1dNg5KGu63U46ZA7XuDjaJYHLusHVfP7Gu1iU6ccWNl7dI1QhhUIHuVyOnq4eRCDptDtgwqegUnQ5BYRqLC6a24u6wQnZtHQ1XSbBQKqToa4BZBCldeqeploOUDXDYNcg99x0F3mRQShJ1srSYeW5avXlfO1zDzKY6SXtZqnXPWaLM5FZEhPf3o+8eqfj48DH1c6nuX2htTaNHGv0oZgUMM+qfB8NvYM/3lzm0G7/HdqPB22Ldd/4e+NzUf4ryjWP16Z54Y1dHJ84TW/O5nObb2VheogqIl7VCUntUtGabW/u5vDpwzgSbr3uehZ39jdZl62rP40JqQnN4ZFTHDp+hOHTZ6iWSgRSs3zlcpavWE7/gn6OHjvKa6/tIZ9Ocuf1d7IgO0AQBHhunae3PcXM+BRpJ8tdt91Dd6orLgYRVx8Shllvhn946ZdMVSbpzOX5wi1fxIm9uWkUk8VJTh49yvjUOSqVMpVqhVqtRl9fL/29PSzu62bZkqVI4eKSBhxePbCX/+XH/yuhDLG0xZ233MMdN93B2OQ4+/YfYGpiktAL6Cl0sWLxUq64ZCM5JcnZGUJCJBbKKLTWEUnIFrxxeD9Hh48xVpzEM4ZiUdHXvYC+rl5WLF7CigVLSCJJmxAjDAFQwme8OM3RM8cZHhuhUq1SrVSpVCp0dHTQlc+zasEgq5evIZnIkJBpRFymM0DRCPRvf30XU8VpporT+EE9Mpc09BW6Wb5kKSsWL6PbzZAiiYcX+3pRpljHS8QEBpuI0YwEH4+aqXPg+EEOnTjE+Mw4gdYoP0FXvofufCdXbNhIf2c3Sex4Vyg7yrGHNaZqIzz/8q85OzPD0qEVXL/pWrqtDhKhjW1stIwZwvMCwtEsiZMUhCj+f/beK9iy68zv+6219wk39e2IRs5AE8CAIECQHEYwYALDDGc4I2lCaaSRS6FsSyrrwS65yvaDyyWVrQe/uCTbklweUzY9Yw5HnEBK5BBDggEgQRA5oxvogEbn2zeesPf6/LD32nvtdMK959x7bvf5A6fvOTt861vxC2utby2Hy7z4+su8dfoUFy5e4vLSZQ4ePMhdd9/FkbvuoGa6fOe732N5ZYP777qfR+7/SHQ+rgQlfc2uvYj2iD+/dIzv/ehxCEIe/flPcvuh25mlgRCAMdSUR9BqR6uKdXToQ82foUtATaIyC1TIU6df5oc/+RH7F/byyP0f4frFQ8zqOspTrIdd1qTDUy//hNdOHuPs0kVAOLx3P3fedBs/93MPc/zScX7008fprKzzyEOf4P23PMisibdoaWG1s0qgAt54502+//pPWd1YpbW6TlP7XHPgAJ/62Kc40LyWZ197nmdef5ZGo86H7vsg91z3HuqANtGIIXGAAVEhpy++wTe/9xi1+UXee/9D3HzoBhZq85wJV3jsyR9waeUyd996Ox848l5mOpq52ixaRSeOdehwqXWR7/3kB7y9coG7rr+ZDx95gMMzB1D2JHJRuZIvjle5u9lxr2SczNNMn6dkvO010l4Z9FVoQolkhC086+IcTfRLFccsndKvok9hTsGdcYtWTdsKNgQqYIkN2gQoWeNadQiFTzs+BEED6rKhNttgjQ74go+hsx6d6wvpXLL9ThCy1m0jNQ/t+0g3YG15hcbiHEormrqBBkLTpb2xjvYCfH+GVhtmmk2UF2BoEYhBqzrrqx0Ozh+KLXDr+ItczZdkGWM6+FrRNjWaXiNa9OPN0JEN5lSdTtBK3NZBN0BphVKC+C18r4bg4TODweep15/hv//Df46okHrg8SuPfJZf+vgvsaDn0XGsoM76BvONWWooZry5uA47cXnZQJHR3mdMCNpwaf0i1IVWGKLVXnxdx/d8gk6X2UYDCQJm/ShoiADrtDDALLNcbF9ETJxzI3i+h+9rGl6N6LAKhaaGQsdiqouNVaWpRXPu3TZCgIdQV4oFP3LRh0FAGAVxRmkvURSj/aReXKdCLR4PtdZ4+HQIWWeNkDahdFhZXWV+5nokjKKkLc7MUwM63TZhuMFMc5YQRShdlOrQZp0Wiq4x1KXOHj0bzReLh1E62rrqtCoT13q0YCWy1zu0qVNngzaIotsJqNVqNHQDhWGGgBYd1rsGFWj21efRukYoAcVxL9o7HM0QGy6zjgm7aAPztQN06FLDo0mdbtii7jUIux1ERfPJgSaO0KapE69ZUCZSqjqXmK836bQUC405fBWdfN1urxNoQXmKUHucWb/E7Ows3bU1FptzhFqzYdYxXoDqhizWFplnDm3SGcBO2EbXFOvdNUzNo2M6dNtt6niYIGBhfg9QRwjodNep16NcBAE0/ehoSI/UNa0I6ayfRTXqtJVG8KmLj4TQbnjx1qwIJgypK5+Gik7sMmJY3Vhmbm6GgIBLskZdFPv1fNyKPAxRcJmCkjWUIO4FlZn7j74ZJzZDv9U1VwZ9FUgwlGW++wXfbqFvdwwDYoVndJh3qmWp2AWsCdDE66lRsZUUDYQ28pTbObIWcXRNO1TBLoJJl8RYRANfEIZ48XFpJt7OBNEZrijwqDvv2SE5JIyDbSgUoaRbYND2u6MmqNjFmlCJLQEUSkeD449ffop/+rV/TqgNM12fLz3yeb70iV+lSSOazxQVDSRKJ2kprSJ3rgnxtRfNIpu4FLSNHizYWlRJcEF3/lGwM/P2l4toCtyuSBNnrYsCFQVxSK8Y51e8dzWe2yYRaWnd2Q1s+Vrx0ekzVhFAgdKYeE9qGvYzGtJdKMCYeHuTDS+JIprdjOotDA2eitUXE68BsNuGFCA62fsbBSF12yukO2eLiI4GjNuP8tH4iAmi4BYlz0uyoAhCW8Dxdj5P+TH/AsZu1yLZa2zPOQ4TcRypNGHS7yJB5EazSv1hNlcqeTbbBlSs4OlCrzfJJFJ2givZHxz3YoUN1aHjsUMnPCYBVUz8jE53ZkTPRwdRpIvoVPK2Ledonjkq60C68VZGE/Oi0WLHEB1v90tFai8PXkEQ9zE0slRcZFKj8pCbK4T+UIu1kiHI4STbRMtY6adRXO30B4FJaNmhNnJ1e0kUIx2LV5IBPOXH/VbWdVTmr3u92HiidFXSmSGKJqaU3UyRVUBIftm3dZIHz95X0ZaMTBFZIRzv6Yzu6SRomjJRcEctGt9E8ZD90Mc3XrwVReOJRhsrPlWGD9DxKTXRHlKj8gI1ekZDeqSfU2HW9Ur8t9gxxbmTlnBGzYkHt2hFrCSv2mhmNhBpnrL7yyou2RAdCrdObbtRiYcCoLz1edpG7k5rTOERbRETlAnROl7FG5NQcUS3WJQ7tK3QVbkSSHOV5cJDx8qL8qI7hrKe4xZGlMMoHnY8fyoG5TlzqfGK46ygjOdbM90hbZ1ui8m2iYg/nSlHt5dFq63dPIvzN/qusQsl0+TdMrf/pocqqISTWEEUnCvxqVe5ss+3B1fURwqhVUcsP7GaJKkij/OeU1ADwVVZLcrHw7xaSeFemfi7kuj3FMTlhPOs5RPMXuklzKb0ezfrpKsr91p2IJXk37LZCCm85V5X9G5ClXzFiziKb7mCpngviYGb5HwzqWfLTRtNs+tjlNAIfGpBDQ8/GZjL6sMVkylflcN9D9gYvG4sXquAOJqFSq1pd87fpVNeCjk6pRyQRnRVJbRURCeZ3lDFcDPVSK3XJAkVeReiVfAxbyp9PpuNrCXv5sq95gp9eyeKkx6tihcJs50geSpVhIp3bK1k0yzJYsJIdf8ZFEUe3dqT0md7jRXFgTv7rZjv6O3ykcWOiK3oAAAgAElEQVTWly1v+8uuX5EkvnTWb5Ftq2XpDltO5W06y3Xx/uDjxO6jXymIXVfEYKSGw5R+H/oZatnQ/u4dI6SDVPK9vGOk0xaxII1bzmbEUJT/SOfWiQAocp55JxHS0V9j90ZKGuUrsn5dKxjESCL4Jc6rIdo0+cB97+X2b91AaAzhesAnP/gJalKPTrBRVsdXaYQsY2KPhaLh10mG8cSKyVom0bvZMhIR0ghOqRJkch3UusNdIda3jRRu91Z3tEPSGNzUYmZLZdhAKHBrFbAk5CZJ+0mR5tnEkxDZnLhtIBYKDstK6SjQjRHwIle5FNIo47R4TRX6DSW/x4dyAewqHKkvxVT1Wae2k7JTkSWv4uhbUVdJ1yvYknVrMJ1CcZWTtG9E4Vx1JpxqwmnPIuutKI4KGYXzCqRfKogdXWgMLE3pD04/f7UE4nQuiYfAnmxZLTfVdiXpbRmxQVkHsxZgjgGsVFdDWFzJcDRsMSogPuhBifBf/YN/wjunT+OrGocWDkZhLDNbXnIcRUG4Syyp7EC1WYikwt2y22sbiOQtDpUf3KoUm35XN6NiVcPNk5tUal9l2091C8qVc5x/lcw72DKRJE56H65Krjl9orQoR1HTvVBtjecF4nDo1Uet0K3myLq00yl1p4yldzvdKey0kNwO+j0PfagcUnN9sXcaZYPdlH4vlDumKp7LjLs93CF5WWR5U+5MpOtcqebapmsDiFjtO6u3lyFbGkWfgptz51l3LM3k16AUHJ45xMHbDxAaQx2f9ND4rIiAvNBPBV6elyrOqq4oh1Ye6eCWHSgr24+k8qOq/fRqG3kR4NZo/7aYtVuTeVaK+Ui/F9uPXaJYxZcrpsXJpCvGhxZWNgJXXhnM9AvBlrxNYeuiJ0+lF+fFe73VjMFquurt4nNpn3AvF9tZvq2W0+w1vlW122GngqLxRg0kLHcrfdU13S3qAoM2hin9zUBhXb+WnIoGaSnrXuk7Q6WRuLOHeNPRniU+9i36brVtZ6B1oi6laZVYgjH37h49KwSKVnM82CqTG1BcYWHTKlFQEh7jodGuxlZQZMuZcRSyFqsVmJnIUhW2qhOm0M27dqwQ5Qhhkexq9zLqSmw5kBTS0B6GAhxlyalXeys63SjDBFkhHH0y0yYJ79llc9ly8DCSHreoE4Fa1YfKMyoSr363naTgYSjJ18Dopc44y6N6eUAylIqC2VUjdNV+VUktaynJn6VUDscdjWS+l76b4UGVlufwGPb9YRv17qI/ghCX43ZlXN30BXE6iR08SpqBY0EN3UbEHRoG5Sv73V3QEXl+U0FV/WYv23nQcqt6svdgkeHR5aXild4lM+AgWDHo54VB+rPaO5HVrkd9cLs7COfs6rLjCCX7JVKcVNaTQSo4HDKZtFKRlLeHh8tZ1Af6tOWhBfAgcGqhF33Vrz25XolBMWTtu+VfUhcF0lvX7kqIjhO7i/401vQuQDLn6DqKSnynPdZp9aa/Bb6qaKRjc5WQGQXKNJKh3h7oWq8bEs83bza9wvV4LN90tkY8/pTZ41njKVZ4Cu3RNsgsLasolpa92zi2MldZ6tVwuYBBz9rdLHrVX/78ip1AXpHeOqUdztAux1QQTzzyDbx83m1TlvBEIT/vWI40v+MeSgdDan0Nxn8/lA/QuYtSfs8NsjDuskn57JXSJNRQGbYiPMaT3/GX1GjaZzmmwnirmAri3YBkDqeiqW/SEp48qOTPZOV3UKt3HANRCc0e5SP24raWz6QNwIN7KTaHCcivKtH/KpAuhtuMyxvGX55TTAXxLoDTh8rNnStCCKeYzPy6Wv/OFvhkls+kYXLqa1D0XE5RdmtAIew+u3nP2e4rz92EqSDeZci7Lnefolq9krMMk5ffqoVZO8PZ5JXPpGFn6mtQQWkf0xWyLR/ruL8TWFWkPar8Tlb7v1IwFcS7AIOtM95N6J2LycpvvxXR28/hZJXPpGFC6muIBXd9OSpZgpBZ11ZCsedisWHSnpTyvMIxFcS7ASq74vSKx8Tld8JE38SVz6Rhwuprk6jifFhXsyvHN+emvjLKc5Kx7YK44DbZ4XUAE8/PgHD3lY5ya8T2lY9DdYAtQduW31xaPTjKU9lRjKt8KlIrvzzE1q7tx2D1Vd7+e4rILcOtu1HMyEYC1+F5LPEcJ6v97zbsiEWc0a8mYO5/kvkZBuNifdvKR9RQg8S25HeoF4fjf9zY1qZcmKyenHKoxID1Vdoexpzf8Sm7Y6yXCWv/uwlT1/SEI9MhB3BB7Wo4nXhQl9tEYbsGIRlMIdreHUzlqQ2zEnjbsZX66veuraNBUEKqYqt48WfVIq9eCVlf9ajrYiqEN41tEcSbdbeOC7uNn0Ha97jds5tHnlB/t95AQnjb8js8/+PGdpdPf/QQwts+Nm+9vnq2BwWDhIfbSt571V2RbjG/7jM2L4XlWwPzNnnt/0rEtlnEk1ZNU356Yzc42kaJ3vmdfP6ncLH1+pq0/tgb426f0/Y/buj+j0wxxRRTTLFrsbu0iqsSOyKIJ61dTPnpjUnjZ9y42vI7RW/s5vYwDbWxOzAS13SvhroTjWDKT29MGj/jxtWW3yl6Y9oeppg0bFkQC9WLC3ZiscaUn96YNH7Gjastv1P0xrQ9TDGJ8EsbZZ99+MOsqi2jP2qtc8pPnzSGILod/IwbV1t+p+iNaXuYYtLhlymAo9qjuJ3K5ZSfrad1JRkDV1t+p+iNaXuYYpKxI3PEwwSp2Aym/PTGpPEzblxt+Z2iN6btYYpJw45F1ho0CEvBrdTHbT7lZ8L4yd3cKm9XfX6n9HvTn7aHKf1dSH9XhLh0+8CkxYKe8lNEVfKj4u1qzu+Ufm/60/Ywpb8b6U8DekwxxRRTTDHFDsIXMYWL/U4vG0bolz2bp59PSyq+V/E25Wdy+enHWxXNQelfbfmd0p+2hyn9K49+uWtajdm749CvmnupDHw+Dt6m/IyPnwo6mcsDMDzN75T+QPSn7WFKfxfSn7qmp5hiiimmmGIHsSsE8Q6vvShgyk9vjJufaX6n9LeT/rDY7fmd0t9++ju+ajqfqXFsPRgGU356Yxz89GrY0/xO6Y+a/lYwbQ9T+uOgv+OCOD//suPa7ZSf3tgKP/FiBonplNHMJDXN75T+VuiPA9P2MKU/BvoT5ZqW3F+LndKCp/z0xrD8qIr7VY19mt8p/a3QHzcmLb9T+ruX/s5bxC7GseJxK5jy0xub4CfRGHMQShr4NL9T+lukP1ZMYH6n9Hcn/YkQxC7jpdqGZK8XTP/t5gcyS9IHWtq+Bez28tkM3WHoT1r5b4bulP7o6O94+9/t5cmY++9uL58x0K8QxL1qYRQtPEdfuZeL9F2TX5y/A9MvpbZ5qJh+OT/T8nHLZ9z0J638B0LlZtQp/a3S31z7H63UHjq/E0d/3P13VJR2Cf18ey6xHEoEsVDdjEc1yFXQV9W+gHxn2xT9EfJfzs+0fPLlM276k1b+U/o7S3/49j+e4XrMTpox0h93/x01pUmnP1h7m6jFWlNMMcUUVwI24dmd0t8x+qrkM0r6/eGLkZzp3CuJ0inn+FYP5vvQl8SfVE4/iuGpEm1X8mRGzH8mK1Kkby9l+BmCfgFXcPmU0XfLrK81u8vKvzwL4uS3R/kPSF+pspQGHRpKnlNk61eyz4ya/yJHveln89uffyMyVPsvL89q9Hu6n3t8q47x8dDP9aJK50OxhtQQqST0nRSNCEo57UOpbJ2IgEjULlXEW0/6qkf5iCrn3x0f+kyQ9y1/RebuIPPtjmt6Cx15oErYykBR7ZIaCf1x8z8tnyub/rjLvy/9vPtrWB52S/lsB/8jwCDZnSj6xfZTJYQrGRoGOf6tCLayME8tEXqJsO7f3svvqnJWxbmP9NTn7WP9Ux+uhiZi1TSwrf1kV2JaPjuLaflPMcV4kBN6kcerxHNR8uyVgorFWjC+HBfpjzalrfPf25UwLZ9JK59x05+08h8sjSun/HcX/SsB42w/5UhsXYmsScne3OXV1b88R2QRS3U6I9nkKc6/MSzZUdHfBP+DG0nT8smg4HuS6od7TAhNdPknGCf9El/eJjaA5qlnh8HJL58idRlx+x+Eg0mWFMO4lDfr+tm8gpNfPVBVmqljehzuqWHcyaMvz00I4qpp6s3OzQ1GX0oHmNHRH5b/6v49LZ+InxHRr+iVu6b8e43RpX10APoZevlBrMcyksIqu/S7e0vcQXUc/LvPDkK/VKhW87+9Vm86gOc3/UyGaO4nYCpnZPs8KxXfy2gOh1IXdOSvLn1enOc3E4hkuJdGWZ4p/IiJQTVgRbIkLXmnV6OX3LP96SuxE/e2cUc0VOnIOzz9YfmPHk07uu1s5alMy2eQ8smsKozzUb6m9soo/4wGH1v45X1/WPop79nbqnJsiejkBK+SHeJ/MPrZ78PzP3j99kJKI7vKWgEKESFUYJDkatLEbZ4AXVUvQ1t5/fKxFeuuzxhReGdrHoFklb5KySSqTZycAjBCtKIajNpsrQ5jzQ7y3iDP9efOHzyBYRMfJUbvLMvT38ob/fm5ussnA5X7OwL6k1b+pagyJjZBP5ED8cVBva92nMskbwWmSu25/Pal5OWUnSExmvIZiH/ZFIMDomCiJ3+j9DXKzasqfIn0xEr2BuV7EKHRy2IdJcpob9UjoVBKUCIoBBMrOFa500pHbSEW0Co2iUX1y2kvIdxHYR9zefZwTQ9biJvRrIZAJrjwGOgPw7+K/xmqPqbls2vo971X9vj20c9WbxmdatrlRSbZe2qQgXQ7y8cRZKXPOvwrQMbAv/Oe3c8qSBwRyYD9LkUereI0egV5EOSFSB7DtZ/B0huSVuGRSAh7ysRqjRAoIYwtbx/wiKJReaLQSiFiMKIwanjfwnA8j6c8C4I4daxUOv+2hDL6rhtnq7rGqPkvtzZU8UYF48ngUIEqF1+VmbNry2eTuNLKP6FfoUiMTtcu8m8diFuvmnHzn6MfS7JR8F85/vR7J2OxK+IoJbQ7G2itqfs12mE3l4fo74zXRBA8NC3aA6Q4WuTLq9+UqOQKuW/55LwZm8mdu2o6ms4weMCa2WC502JNh3Q9MEox01XUjcI3MOc3WWjMYkyIUhqFQnqMbzuH3vxMxj7iTShRO4qyKZLtxG4rn3HTv9LKf4z0t2UR8W7nvx8PErtJRdBaEwRd3jrxFkuqS6iy86WeKA7WFrn5+htpqDqJpNqujGx3Wy3MHQxCIlW0or/Rf226PPn8z/j+z37C+XCDVk0RatjTVTQCqBv43Cc+w/vuuZ+N9XXm5/dmhPB4V1mPFuWCuFdhVlkowyBPv2/lbZF+X1ITxv9ANLdAf7vLZ6AXtkB/t5V/r9eqLPRRpFea3BZobZr/LdAvJDfeus0+Vkyr7td5+8RbfOXrX+XllXcJNJnwrn6ouX/vLfzX/+i/JCQsIzpWDFs+w7JWXKW/lfqQ5LsAa2GHt0+f4qcvPEd71qflQ6Bhv9egZgz10HB+/QIt02ZmfhaDJnN8gor/Kc1UVU6zilQ5s6OHb5MuMFPRWHOzSaTaRzUGoq/cu86N/D7SgdxhE8x/X9rRVduGyu/uwvJxoYr0peL58ssTXP6DQAll66EsuX70s++WERKkwuKKiq3fcNsnT1vkvy9y9N3FY335l9QSci6VPZTckNy0X9UC7LJyCcMuaxJyqr3MqeXz7J1fZJY6i7NzGKXQRrFnzwId6YCAzq+0K4GpKtwMM9Wu437l0//pmH7ldE95mwMVV3ccWVxRvvAPUEpD7IY2YtJnrUAGMIr33/c+rj1wDWudFoImVIrG/jn++Jt/wqWl82x02wgQBILnKWwYTBXPFYtIxIs4vGR2ClXnJft7UAxAr2SuILWIC21sCGf/IHxW0R/KMtsE/UGwk/xXdvo+TO2W8hkGxRGlP/3dUv6F9/toTFP6o6Vf2X42QygriowSjBL2zS3w65/9AvfedCe6GxIqBWj2SQ2lBE/VMBIyUIfqy5Zk/gz/fr/nR9G/BnQ9JAI7O2bM1ea57abbuenGm9DKAxQhiuOr51hYWOTsxTMoFa2i1nilaSul8pprCcoa1rC+gX6w9MoLrmKx1rgM8N1Pf1hM+dlZXG35naI3hm0PZc8XbKl469ScrnHvTbdx97U30cTHoDAofGNQKEKCgrU+bowiv6N8vieR3M8QwcNHKx2nEG0QC8PU+lYoPOWh8ApcWH16MN52doQonSPeVmE5iMKyFfpbeH9UmPKzSYyobVxt+Z3S742h2oPKDuiR3RZvkXFcnEpgoTEDnYC6IxYUUNM+WBfpDmAnhHHvasrOBViPtOs6FoRQBMFEAlepWJnR+L5Ps9lEqWjrkkKhtMpMg4iYQZkhramdw8hWTW/Zg7HJtEZVfAX+hyA85WeMGCCdqy2/U/q9MVx7kMz0b3UEM5eoJEJYMIBBlEGUYLTElhzxnUhwqwHd4JvRM4Zt/+N+PnowPWW6aKdK+RVrmSk7txv9Tt+Pr8QCGBRKazQarXQc0MPRnGLYaGeo8hmP7UXORI/bxPCCOKf+2AIsraBxZHpwtascw/A/5Wfr/IwbV1t+p+iNYduDch6UwSveBpqIRnYDKowiQMVBKMJYREO0r9XkeRsVNpXfMT6fPBr/F8vFSBgqNFHgEx2bwQJpRCyJjdrY5Sw2eUd6Juw4YUNdIa5Q8dayAfKzY3AGnZgfv4zfSkO9Yv6+0pVR4UoamSNgWPrD8j/lZ7T8jBtXW36n6I1h20PFavDY9iI7O5yz7CSygusBNCWKhaxjwQDVcqEsrUQADYuh8zue50UJBoNg8DC8wxKnWkt0jeHamQMcVnuZIdpjDSoS0orIvSwA0R4wjYnc1pK6oKOySS3j5NhESS3NqAyldMW2OP+mT+8U0vbk55XArbBV2thGSL80DZWdexkV/4PSKXNhjqM8dys/40bByaXKnFlbpz0p+Z2iN4Zt/4WBuez5wqlPrkCG1FVNZPFJtIo6sdAG4NumkKNM7GytRMH5O1B+sw9s/fnyHAqGDm1ef+t1/vB732R5bZ1PPfARPvPej3HD7AG06MSaTYpYJWIW5SSW6dGK0l1xhbJW5Rutdr4vF7mqdk0P6eYb2hOwhVGu+GqJDrkF/oetqIHevYr5GTeizhwNkKkXa+fawxQ7i2HrLmk/0n85VWoXV/lRrFCO7UTRjtQYrBGWj2+9nh9O8dxU+VQ+7yomMbcSuegNwvLaMkePHuPY0WOsdzo8q57jg7fdj8zsj8NZgqj0qIxUCAsZ9zSkUwc5Z0SWl3IO++dXOa8POVhsClleywWxjHnwydGXTftiBqO/45jyM0JU6bj53unkcFfnd4pxIh3kc7/LnhOG2Hascp8hBvfMAS7ue6FjOjsOYWXS71mTsJSr3k9s7nmFgJhI8SDaWx1iaDSb0apnrVjcuxe/7jG/MEs0a6yjfBiTnA8pSifpJG7opP/GwTqESIiLJIE7SA57sLGqU89YVVCRTK7EKb9tE8YpJiPW9JCwZRa1V9f9sFMbBKbYXlTpuCbuwfnN/VNMUY1hxoys7akY7u1hkHdSSyxwrcaQ+HKhEMzCXi/HsBz3f94qwangEwxCGPGsovXjLssiJo6k5VrCJcLPnTUQ+276jvtGRuAOk8ky58Y2C5JdKYit/he5L+x8DCjxsVsF0uXvFkNqpVNMFDLDksr+jvqNYM9dkaQnxe1iWvVT9MUAI2/S7lxXbE4YqyytdEzvO/vq3EnWZMdpRv8pUkFsxW9ketiAF2NCBasS8xbNxRpMvGXJACEhQkioQ4wOQAWgJNkTXEygMNtdmW7yjBM1y12sVfLkQPnp91rhoUHHlFILO5uIX5pmmr/B0xnmXp7+EG1IINmnF0cTjSoc8PDTeQWdOjfCIKDm+xgBMAWaRffL4AwN5LrZYnluTmOfDH5Gg4jZlumCp1lrbdAJA4xWiFIo5eFh8CVgY2mZ/YuHaDbm8LRO3s14qk3vzO98fqfYLDZXd32eclZTi4pOXsoohhpanVb0RelYJYyEo1LpPlY7HqtkHtlSSC1DUXC5tcaljVVOXzzHN7/3GEffOc7yxipaQq697hrec+QID955Lw/fdi/z+DkB7bmcDV0SBVRM64hEMaJDT2gR8uaFE7x48lX+6snvsby0Ri0U7rnjNj73y7/A5WAN5QuiwmhrEUT7f2NXv9Iut0m4lEy60cKtSNH2vRomMJGqHcvDKFa969LPvdu3FNxxYghX9iAouLuL71ZbxAOms+lBaqujmwgYwRBy5vI5ziyfJ/Br8RyDTtwgvmjuPngDqBq+V4s0uJ4ejOEZG1SBGuFjW6exjfyMAqKEDgbQfPnff5UzSxfoaggV6FCjCVDS5cDcHj73C5/n1mtvY47MWSwpemRqUvI7xeYxljosRIKw82P5Fpa1kCvFYcmYrCJnLpfp8JVvfJ2XXn+VtgSEWvAaNRSa0xfPs/pCi1dfeBn1S10+eu/7XPODrF+1euDfKpRSBEFA6GmOXzjNl//kj3jt3TfpegGerlEHnnvtFd4+e5z5Q3tYCzosNMpWWWV/59eYl3sT0lJOo3JV53Lg3A8a7WMz3rU+7u5d55q2jhgdF3wowk+feZo//+G36SzUCLUG0fGeNEU91PztRz7PQ/e8F5DYShr3/M4U48CMN8MaXd45d4ZX3zlOx5PoNJbQQ1SAqA41UXz4U5/mOkLm0NManmKMsJaRKlx2fwy0gcladsBq0OaN48foBF32LMxx4003Mjc/y9LyEm+/c5ylS0usdgxPP/8s991yBwfm9u5IO9/Y2MCrz/Kt7z/GGyffQs/WIAjprra589Y78UzIqXMnuGxa+M1ZDBLPDTtz3Q4GzUPWvk1Ch+zqvr4rBXHdKLREDbyD0CZkrdvmwpmLHLr2OkIT0ml1QBRBqBEjzDZn6QTdHKXdXHVXF7RAQ0K6nQ6/8alf4kJnnY4HRim8Dpy+eIpvf/9bLM7OsYDPIWYRuv0JTzHF2KCSkJlVwji/1gHgjvlD/KO//je5uHSJu48cod6oUfMbrNHh8eee4Ovf+HNqcx5Pv/Acn/3kZ9g/txfHRkzSHjf2L+7j2dNv8PLxo1zortEMfG7Yf5D/8e//DzQARcD3n/0+X/nm19jbmGet0yYwhtAESY4VKtqGPQy7JYZ1drnY7sOuE8RIFB5Nxw1clCKMT+K+c9/N/N5v/i3a7Q5aRw3TE7h97zVEc8Uhvueze6vr6oUS8A3MKZ8Hbj+CmqkTACGg8PnpsWd46oUfI50u2kTnewY7zPMUVzIUg3rWVJnkcKhYAWK/S7vFnTfdTHDLLeB5nFu7yMVzJ1FaQ2gwxrDW6dBQipV2y6G8veNaGAZcXF7iUnuN2nwTQ5dPPvIIfrxaR1C85z33c+trL/CzYy9Fq3NMNKUIw3h4S9zXTrxv7O+R74PdPuw+QYxdIygYpTAKQh2tnN6v9vDQ9fchJohd0HaiPlqgtdBcjA7oLoUqmVSfIBTXHCWrKq8OKLrtDvV6jZpfwxji2L6KNhB2OqxvrNH0aiDxQo6xHgU0xdUNO0lmO6ChYkUCpSacc0upWK4QLz5SiqOnTvCjZ3/Km++8TUu6dE2ArLZQMzVCY1hrt/DrM6y1W314HB8kNFxausTK+irMaQjgusPXYiNKC4LfmGXPoUNsvN6l4Xl5r30yt5t01cotDpL7XvKpenXgDI15MO1Bf9cJYkXUaAOt6GiFEUXHg7WasGRarJkWe/UMImG8qVzi7iF06aIKiytiqk6sT6F8DmMnoYjcs368912Atj9pXI4LOvp/tkmYWdwSDX3SDZivN5nxa4gRQgUB5bFmYUg32BRTFKCINg95REE2QtBdMP33r8d+POeKZFYmB8CPT7zO//b//l90MGhfUReY82vxOB4t6DJa00URap2McGkK418Do4Ca9jDtLnQD/NCj3WrjEe9UkHj/sBh8FLP1Jn67Sy2Mxi+P6GxhUVGsactpevqV5Mpq2LwMOzLuLP1dJ4ijpeqxNQyJVWy0EGpJGqvdU7qppjghHo6y9YWhEkexUhPD63ZAKrLrOjEEMDZ0Xm6FfPL8VBJPMRK4q5OL2yKTe9aFmvFqVc8Zf/dnP2ZFuiytLvNzdx/h85/4FDfuP8j8vr0898Yr/Luv/hGNmSYNf4Z6c6aCp/FCAN/3Wdyzh4XGLOsqBL/OhYsXCPaFcR+LTqXqdFs06j60u4kAhmx/7i1uc2XluqQzH0qeGyQzmyyzEdKv8qVMONypeRXLI8lWibjlVFZRfbTGstWQOwDLuVEQKKHrQdsTOl42Pzbk29XgjpXMfzGcVacTUG1TTNED1X1UgLdPnqAddGk2Z5ifneO+O97DNfsOolBcXFpivd1io9Vmo9Wi3WqRjGPb3PUVHot7FtkzM4fphtRrdR7/0Q/pENAlICDgrZNHeePNVzh9+lQ8VCu0I3ayI/MgG5AGEMDDZ2R73umBXWcRQ2zxSCScRAQxqRAyEh3QrSQVzJUGUKWmkvioc3PGVZU+npE/2iMXWcAGEA2doI3v+3hopNthpt6M8lxq+Y2FrRGjrEzzjLvH06mCRaskq5za+barxG8/xURDOe5Wt2VXL966/64jvPPEWah5nD57lqdfeYHbrr2edy+c47vf/R6IQmuPeq2OMXGcwYzhMEIjQlE6toiCNdPijtvv4PD+Q6xd6rLUWebtd9/hn//bf8GDd9/DfLPO1/7sqwQNuPbQftYvrBIudFmYm49LwHoKHH4LbJf4vySKFZGdp99KfvPzy71ojWdw2ZWCuBJKpUHAqbZ58+Xd08OQSPIqYTzeeRibmlEQYlB+jWNnjnPyxAkO1fdw75F7mGnMEEo3ElB2AYQCySkaEyGYnUDhySb8TAX0Y1JyAXTSk2KtNTyVv1NMGgbtehr4+Ps+wOtH3+Rca5ULy0t8+d9/lTnPp728xuI1B5iTOfoCSx0AACAASURBVDY22hgR9h84ME62I1Qwr3Q0J/7ZR3+Rf/u1/4ellmK10+blt17j5MljhOtr1Gpw+PD1vHHiLRq6QaPRYHQnAoxyQHNWyw3y7IixS13TFVCQnmdJZhFEvtJcp4aoHuU/wDxA1YzFgDMZPeFq0CFwZu0C/+YrX+bffOXL/NlffpO3TrzF6toySWB1iebHy/7LMquqP6NAJW3H22CDt+dZY8CyEkjULptEttILS1cmQReZ4upDsW3b6OjZaxp4z3U386VP/zK3HrwWLxRarRbnLl7k+kOH+Xu/93e46eBhGkZxYG4P9ULQmu1r4SEGLYrbb7iZ3/rVL/HA3ffRMD5aFHWvxo3X3cA//k//Ib/4yGc4OLeXxcYCR24/gq+jMwF6szuC3jrO8W0YDJCkb/rE3Z00KKwLOv5r7PfsYgl71qUxJHuKVVL32aHZYBLhlchd5VqQ4tCN/prELCs/fLpXDuzRXgO/YQS8KMbtuxfPc+LSOTZmNce6FzkfrHD3bANjDJ6ANtCNYzBHZnHqrjLium2j66JKFi8JZGPhFvPQE6JSrdcRuABKIiaEVGEw1v0V7+MQk9ZlWUrWM6SwVn982kt89JqRKOC8Vs5ymrh9CCo6ra13DqaYohzKCk1Jp8XiqTHiE4XECEbH7VtMHGu6j9tNpV9ndJ1H7nuYT9z3MO9eOEOrtcFMs8nhA9cA8MDf/i94++Tb7F3cx/6FvShjl4pJyuAoW7iq4l+YVT5zap7Dtz7IJ269n7bp8OYbb7J3cS/79uxjYWaOldYq7/87D6LRzM3OUvPqSGiHBkGrdDwsyKOcG1ggGfsTOUD6e6Bcu+WTWAFOBRTs01z+k/HRlnd/L14/XHGu6fhLegmS8nJh9yKDoDHJ0V2popacZun826PAB1W0htx0btUFLaDigPNGx4eM6RDR0fYJow2hAbQi9GJBbFUO0fHfohKgBmJnGNdx/vni72jeO8qDVVKtgqAk1ycq4HoK7MuWbvYZyb2324PhTbGbMFD3UtkfWuINSQpuOXA4uWMQ7LzT7dfdCGhUKFlFeiwaZjlRHc+DReOooY6mrmZ56O4HsKdCCYZ5f45Gs87s7CydsEOr1WKuMRdTsFr4TmK4MTl9Z7PvFnGFCeLoHytCq5wbtol4VoNFkoOs0/OhU0GsSF1JKFVsl2Me1xMhFfMjscUHXUQFhAR0lSH0oq0BnVjN0Cg8FZ+5HR/YjZ1IHZ6L4R51TpMxymSaqxApE2E8qChUcppWoigMw6Kj1Fqv+xRTTAYGbIyOJy6dvhE6QZeZWpONbgvfj6MCCgTdEM9TaO08v80KprJeLIQgCPH9Gkp5hGGI0gods1P36zT8ZrRv2BO01qOSXzuDpI5Gl4krSxA7UFItc2JbDK2gG3ZQvs9yd5W1bou1dotOp5NsA6r5PnOzc+ydXYxFW7QgTLuBQcas0SmlUPERYIniQEBLdViRNS6zyrmNy1GzMJpO2+Pg4kFmvTqNmOckBlCvgqnmYIjnUwFMrOAoZlhhlbPn3yUIgkRg1poN6l6NvfN7mFW1yAoYsizLOEuiFA1FaYopxoV8Ky26OrOzYOnYUvM0gTHUvHrmlWbd7h+Oae+I9qmTsURrK5QiQWvd9yr2QRlCgiA9szg+H9IZjyqQ30aqYtex6PieTn9vB9y5yxGW+RUmiNNlD5JZZFUYqgHo0qWjA969dIbvPvVD3nznOG+ePE6r1Uo6x403Xs+RI0f4+fd/iNv23BhtG4o1oXKq44C7pMMgEmBUQKcBF2SdP//JY3z36SdZ3Vijtdbm5n138r4j9/PIBz/MtQv78BQoo5zp4qwmNwq+s6Wd8hsiPH/xVV547SVeefVlTp48mXgbDh88zP75RT7xgZ/n/Xff39/9X5FefgYr8Wq4HrupVJ5iR5Exefs8mhc8/ddk7Cyi7VTE6y+qeba+RYWI4/0aMi07HWWVfTsllVnasiX0m4qTkZf5FSiITfzptY84EhVrrXWkqfnmD77DXz39Q1oqpC2hE6lOOHb5NG88cYKfvfEC/+zv/reAQaMwhAk1rXRmr+Do85QKYVQIKsCokFXT5ps/+CvWz11ijZCOCRGB4OwJTp95l1PvnOAf/82/l8T8sQeUx6dox+USz9GoMtWigqN4nrt0jVfyzRDGZwj/66/9O85cPk97YwNCgzIKbRTh2Xc5c/I065eWeSgWxIMUY8Ggj/tzFHs6W2KJOzxvkEwxxbbAbY3QS6jaCbWsGOjn2xnokMWhUdVd0umlfOd3PYT2QYe3+Iu2U3xxSOFhPVep0I3/Ot+r5GN/4Zx/qZ8gHv1Yf0UJYi3uhgCc1er2uuvmULS7AV5zBm/vAt7iPAcWZpmbn+PW225Da83xUyc4dvxNWq02r516g6//6Fv80s9/ill8PBO3PetisfPHo6ykzOkisYKhuqACFIbl85dYCHxuOHA999/zIGfOL/HS66+w0rnAcneNl86+xjefeoxffvgRPCFe1BF3GJWI5XjRRa5DFBpv/kK6n9fuX474NUAIErBBwL/8iy/z0rsvUas1mPF8DjYXuPemO7lmfj+rS2u8dfQYN+47iCKK8B0t/rA8Vluyha6jHEG80wbCFFNUQBVCYUYN1o4ckvub2YFQAvf50fGY/i3ykwrcsuUyyZsS9V0da+si8aIyiY491EonglOlJsIIkfeTVT3Wb7DI1deYBpcrShC7O/Mkdl0YBZ6dk8hhYXYPLQI+/7Ff5q4jd7J3cYF99T2ECILH0vtX+Fd/8L9ydOUS2te8+NKL/OqHfxEtBi1gJK+NjmsFgjh/BaUELcKi1+DWg9fzD373P2HeWyDA4/V33uZ//oP/iVCHrHXWeeGVl3j0oY/S7RpqDT91q8esJp1Y2Y42ADcixS1PCYdRHXhK8+Y7R3nmpecI6FLDp+k3+bu/97c5cug2mtRYW9/g3NlzXHPoUNZydXioCkKSnNoSp5mE17IaMpkAmFlMJ5Cn2FbkLOJc28uaB/3tsfy747SIy/hxrdxUGOv0oiO8JCcPVWKwxL834eVNd0e4/VwyY4c7Mjvn+QxWWK4JvU1affkMt+rxGQXGQr+4RV7ItYL8G4GgjaLbXee2QzdwqL6HJopzp0/x6usv8PJzL3BgcT9Bp4tfq7GyvEzbtNhYW8PalmOJVlUoi2w+bNoHZ/fwsQceZr83x4xomiH83PV3ce977oneEuHkyeNcuHgBZTfVJtark4RKUxm6Dpzn0zneqBZWV1fxtGZxdh7PCH/jS7/BDYeuJehG67rnZue49rprmZuby+ZU5XNcDstvEsgj8R7Yv9E2ruhjn5uay1c8Rj1eDZJeye9Efc6cnVuO/J2dbKVlnOaVdFW4myv0En9w7K3unbdesiHRDqyhZbJualwvaEWeBi7Y7dXUixax6mFJEMf53QqP46bP4FriTGOGFhu8eeY03332Rzz78vOsb6zTDQ3K8/B8zdxcE6/ZAEDXfVpBl31zM8l5uMKIw5OVZF8kEqqiTBLCUwF0Aw4t7qOOR0351DyfFsI1h66JykAM8wtzaKVoNpoEApGAYhNl7OYyzPLqSHRBYVCEJuTipUuEQcDMbJ1O23BwzyJzNJip+WgjBDqk1qjFAVWse26AniJZDVdJvM/a+WQZhIFXVRYGzD6+7p4D7Aj85Fc0/YEIDMdDRikbVlEeLK38WiQ3h3klMmONVSDvXt5RVbFkfM7LVMurQjthEXr3meiX7j1fO8DQL27HT0puxCXW68CfQgCQ0aDcNV2VxpDBKCoxbvqltG0HjbYCGRTrhLx+9jhf+fpXeePscbqmww3XXsdt19/MzOwcM3OzPP/y86ysXor2vpG2OaWcuZsBOtsW2HY+di9zHI5EwWprjQ4dNLXkFOXllWVQYEwYuX7EIPHB5dG2v+JCq63ymKdny0tEWDp3iYXGLDXl4SF4mPhMZXtYZUKl5Ht/FAMFxp6RkSi1W2mTY2zPVwT9QXmA4fjYrLI5RH6l5OeAnpxe5Ha6tF30Ko3NFO9oVjRPAkbfL1JBnHOn9EQZD/1eHDf9vkj1ThGFKOH8xhJH3znOO+fP0gk77F2Y5wuP/gIP3n4vKE0AnHj7GKeNxvN8vBA8iQ+1VjrdCjdUpVRpWimXBc6tezURXNHeucATltqrrNFB00SIDhZfWVmOgniEYbyADVA2pGSqNVR2jDyLUvajdzdVeChR6AD2zu9FOgHH336b+w7cFr9riA5WL8mzlLNRDSn55AhU+f4qyqDXq0NhUwLhKqI/AANiPTmJzyRWuOxCoLwltZUxcsD8FpIYppxGNL6VvlJp5PQhVjH+VCkIUQ1IHMGvT0LK2liS7C6xi2g3h/4VLEk72cTrg7A14n7hi439mz3SphLibNtxueq5fWek9IfPfXG7TRRTep+uI2stumHAzJ4FwjBkcW6BumqwQZeljVXeOn6CWn0OHWpqLUMtAL/hodEZTtLBosoSc9wd+aXAqngp5ZREwIbYBuZh8DC+5vvPPMn+6w5xyzXX0+m0eP2NN3nlpRdoKp853eDGQ9dyy8GbARsfW2K6RdeOopfWmtZLtOAxHgy1duikXHdNl4eP3M/PfvY0P3r3NWbmZvn6N/6CWw7dyLXz+1ic2cPpdy8QhsL+xb0cXNxP7IMvFkBFuVi4sWdt/FmDwcRWd5rfYh6VrTf35Al7KSn/kuEp/3wlyttzb9fW1US/ioTTLktWDitAmShgjNFCqCGMBXLNxNHkeiRfzX2f/CaSKQpTYYjbm8RHr9pP5IpKAvAkkeb6jG9CPAnUa4xUJHOj+byUjyNDjs+55BMvIKAIU79T5TSiO86U8+D2KeWUrZROZaRtQTJe0/x3h4PYcImqIeynd2dTK7MMCu25rB4HQVnfkcgi3rpg72UdjZ/+oDQyZ9qKUO8qbj98E/uaC5ztLLO6tsIf/9mf8sEHHmJtvcWPn36a5ZUVmvML0DGgQwgNRkzii41F/ADpb7Z8FEYpouizghaNHyrqoqBjOHXiFF/7+te54YbrWFlZ4Z133mGuMYvuwt6ZRX7+/R8iIGBtvcVsc86hW7Rsq7TfIksZFST3RtRpfF1n78I+Pv6hj/HkH71GV3Xx/Tr/4l/+Lxy5425m/QbrF5Y5885pHn7wIX7/d/8Ww/oWMjwoayWBSlZUFqkNlEdJ74/HIBxFe76S6RO7ed3BPPuvRqhJvCNCUuU34mzUUZZK8ute2nJRDF+ewx01M4LxOTYWEio9A42UUSwq6xniQ73r3sq/q4q3R9+Bt4DyvBTmiPvNQW/Vz+8cR7utSLqxDWYhihl/hlsP38wnHvoIX3ns37NvcR+X19b4D995jNZ6i1q9zmc++Wl+8KMnmGvME26EhGFAaEzGJaPxRjYsuYJC7Jd4f7JG4xmohWCMYv/MXmbnZ3nzrWOcfOd0ZDGLsIDPrDfDF37x89x9+xECY/D8Ov38sVvJQ1Y313SCNp5X5333P8SvXTrDYz/6Pnge3uIMr757ivb6Bof1HDMzM3Q6nS2kDO4ccTQHHlkrKhqmN0Nwwjrv1Qd7AEu0+E+c6yDKoEXwFdgJG08iK1jixYy2f6ZtWpEhMlJey68N1Z+cfTwCfdZwjK9x9hyfe3jutgSb9zjRUhm0RQfLpKNksVapw4OoS0TuiK0JUVvYW6WzFURHArZFMdNc4Nce/SKLhw7wnR8+xqXLF7np8A3U/Rqf/9znqHmac2+cYuXCZX73t36HeqNBu9Vibm4+zs4Y8mG1T7vthijoho/iuv2H+PADD/PmW29y3eHr+Y2/9pv88MdP8oOnngRPo7Xmhrn9fOh9H+AD938IEY0WD8/TsVtHkh1MCSST9NCw7SW1QBXa9wBhpjbDb3zmi7zv3gf5y8e/x2sn3qZWFxZm97Boatx/59385hd/DWsNDyoDrbvS2r02vrSOz6MWI9hFbZlM5jc2VuRm8JIY9vlhcTXQL6kTlY5CnlZ0Oh3W1taYnZ+Jj7sUQttmRAg7ATPN2ZRWrLymVpyTfuZ40OFR9qZRYCdpkjnrIQRXshfe/u71XolxPjr0Hp/Hsa02n/eUCwdOup7vA0IYBrhu6+3BePqLX1qw+V3WVlOx8UHL2KvaN1aSgA0GPgwS+slAajtc2olzd1J3vNuq47yJUmzUNF2l8NB8+oGP8YGfey+rrVXEhOyZm4fQMF9r8k//7n/OysVlrlncT9Nv0A47JBUx8OSD08ncV0vLJyuQbEQsD5ivzfDrn/tVOt0OC3sWAcVnP/won3zoY2y0Nmitr3PrdTeCeHGgKw9FErMz1rQlKYoi85t1DmetlpSOQRu457q7ufmv38KZi+cJ4n2AB2cXmPV8dOJKHCbtdClGZhi3FlHGj5Z5gP6VlXdr9yuf4V2L1Txc7fRTtS46FQ3OtFd48qdPsb6+TrvdirfxGbREKzV8EQ7u3ccHHnw/s81Zanqmz3C5iaMwHcXARsIq5XwEhrelM8qhfjzj82ZyKMWMDRRAwyoIUri2NZ5Kns8MEaPqL1VpRnT8ZAjN0O2tvRZXykVaaVlyZS6WYYRw6ioR+wV7Bqb7ifhK083s58uc8CGgDAZN14uiY/miwAh7TJ2FmUXCMKCh69S0poZCCyws7EMEumEXT+tkUUbkMnYOXqxsB73KJ1seyvlrq9zSX6zvYb2zRp0awVoXX/v4yuOgt4A0ZjHeIvPMEapogZdxhJwVwuWiv4yDwfU/61ST3BWFpqF9NlobSLfL3ftvSiKBr8sGngg1GghB/EqvMkxpZw50sK8pq11DcgZbLieFfJRmTOXGA8l+HYxIb1S5Uab0IyJiDVfh7Ppl/uOTj7PRarG2tobRXUSFNIyPbwRfDDdecx13HLkTr17D82ZRzr7xMhGkBnW95KhE2dseC2yrwz2UjJ95+lsanzcr9PLvuYZS8s+QaZV4VYbmy0FPA2uLtaKK44lvNZTMANpD2ZUS114vl3VxUYEq8FKglXCY/nXpq/j9zF+IV9/1c1VEG448ZWiadG5SaUXTawAG0SZJXlAYBaqWp13yPaPROIpDlIFSbkqjf1m3a7wIxR45qpRCRDHnz6P8hEDKggZq0DX2/F+NjussFcLpOaGWVTFu7ec29McdQyqsAPtO+nD8tiiI3cTaCLP1JrP1GZAgcR8vqEZSbJE6k5ZK+q28Piv1ZpHErY8xyaBinLB7mfB3A1O2t6uVlooXcinFDbZK87/q6NtnEokBSPxH8Azcu+96/sU/+W8I0SgCvvb4n/Gnf/UX/M6jX+JTH/4UdeoYwoSKZBZrFduPq+D2zW+P/rsdU2vD+B2iF6wSWT1+ZukPNz4PhnyZx2OcQ7RSz7X1794uTCX0G+P7YQihXdGehy2eSm5j+n5hD94mKErcccr7ZrYB9K1gZ9I+veTQz7umnU8awlBlirroiIruuEt5JOHNznVGXVVU+l25DUBUGm85U4hlqrakrxUynCuflJtiYxVHYLmEFLk5JYMtKmU1lVgIl+6tyyzNL1biYK4qKX7P5Cu9ltEDkkhhjhB3y7Bii0TmkrPH2kSZRuW2l232jJrifsdh1wTk2oOlV6lJDDvA7Hb6BQKZ9JQIvoBojVIaJTremiR4RuOJjs8GlwIVlTJceq9qvOrVf6OfaSsdNbKRo/J8DSIgi/xnxs+S54can7OUHb0lT9xVzsuuVyMvwocSmkNLyLwR1IubUaE4MvmjUurK5iCieho2I+UcWfqJiE3mhh1B7PxC5eVjXw0g+ZYeaOAuQIqJpg8lZAcrQ0foO0r3IOWTZX0AgSjOEOTMlepiC08HVvt9SwPp4GXsIlJvYhVExRu1Btx34AY6sVHHopW2o+tCUXuKynU4mr2ersjbUCFedzv9HrQT/VfSDp1MAgli4khxZVHikiZfzX91SyxTVNM3xnfcaQp3zEqNg0Hac4/8jmx8dpNzJbhb75sbBwZLaxNtchgjotAExi+IYVOnL2U11iIGcxv0M9V7pq6cv84n+1Qutfx+s17pWBe3spwWO2hiaI4JBUOs8sFesbsr4PLerzoHpLPZ8Unlv4micPRY5ZsFV4Bz7Fq0fWk0KDSwan7GhiuZvtsIhaT+Sx5XKnI7G7FtJBbQTjtQDGo5VllrozJPtgCVloPEymVlnpzgJ6PSE1TS5vuMlX0hxW85HvMWuZQ8UxyTdxquXNh6e8kI4pKF0iUYRNvJl3T5q1ZrHVqQkLeFY3q2k46qIwlUreooNIXBDLjh0h7RYwMpk1uA4MjDIdNw3d7DFV95QjbSlxEZeViHzfAzpT8sfSm4mdJdBmmcNIyJ7eN4FHGP1jMD9YqKa4MogdsB6/mLvlvnABQVjbGcKJYIgxEPbJtmdRKEr4vRlk8xoIdNQkm8FzPdy2rnWjX9lKSIinK+Z3h3VaOqfFSUe6/q0NpJYDBfTk9YEVFiX2d/K+WEiMs+XVpMSYfqwWD1pE45rwMpUZWJ0avAsvWYy59kV92LDNksxQ4zbloOPz0VwiK/qaUv6cbOYVGiR/ZvTiNocJvI7xVFXxmMMhgVrfdI2oKxq5wNqGjNfeSR0rEwHraSq2p0AixhINTpeBtN00ifDX5xXlT6axAP7mDjTz/vZ0U/dV51g4T0G0vL+XWUrBIDvReNiI3Ntu1+hbhZIVxsf35WNtrqB195bITreLUab589zZ9/51scPf4WH374Yb7wyUdZ0HXH8lS5rbo21GDRFBYhOhvXfSc3yWNDFFqWXVHguo/S+MImWhks1r6O4r7aiUIjJUWaiV1tCyWei9HOnIwQL4/KP2+tQEElsUzLLLv8PHOWl+pdILbFlcSJzbmj3W1bKv5dOiXkWAp5Hvs1VHf5m7hGQy46iKVkcq7CLCPuvXSOTzJCudegbnNgK9akn8SDYe9L+niByxwtwN2Xbvlzl6r19hQN0Cnj1eSVJKpfvHLol0arMLRaF+k0Pb762Lc4duYUzeYcj/z8x3jvtbfTRKMxKEw0voQqGdgLizFd67jq6L0kDGpJX1D5qy698VpmoYLjq0t8+0eP8fzLz3L/e+7lcx99lOvnDuHGNzYZNnL8xl1HxUFNihw77bvv+NMDti0UpKvteyojzMUGWcn3vcI+4h7jJUQDkJGoHZk4LVPeflNxV5XRXHsuURYqXqymWfF0imIe/SS6GGmDFoS1zhqC0A06fPUbf8pLx95ko73BX3znWxzaf4AP3vte5urNotVbSL7HdWWZGjBDfdpGchpLvGp4uC6TPm3HiUSwlfXJ0sFkcM1rcKu1SLMq5eE4GAx9+2IFQwPnT0m8MCsiNLw1bwVo7ndGwSokOhR91VcpGBKjpLVb6dtqs0qYgubcLM++8Tw/fOpJTl0+z+zcAucvXOCOv/UP0GJo+jUEwRONH/poVHJAguuazh4o0JuBzdo048Rae4Mnnv4Jxg958pmneOCO+7jpjusQFUaCYgQdfGRbrwpC2L0oSQVX7bywEie5YwV7vltn6KfJ5O9vKl8T0ACiLaqxgNNxxpQCv17HKDh14SzPHXuN82tLBMqw0l7n2z/4LusqGJz/HoFTN38ubk5PEuWcGby1lir2vyRoh/MpOyGolKfNPjEcCsbyiOn3Z0DKPwO/79LYCh9led+qEI6fn4COesUicp0hCi6Eazzx7E9ZWVumXvNBGV5+/SV+8txTtMIWXdNGMHjGpxbUkp3nItE0mv0kpLe/N4wE586fp9Pp0Om0QQwb7Q0urS8RqshtbVTuQ3oCVDpmUThRCXZgfKiUqC6Sgy23gZ/JRDJHrIiDphPFce2EXVom4A//7E9Y8w16TxMlEIRtjp45zsunjvKRW+9Do2i12zQbs9jS1rGla/fdRgE/0oTy9l2kBA06gKv0IwrQiTuj3W4jEB9RaEreSdMcfHRNrbXMVck/08+1W/XuVmFnQBz32VUoOJJWIbkrUl5/A1O8CstyO6Csxh9bSqIVb106z5MvPoNX92iIphN2qc3V+OmLT/PRDzycRLL7/Kc/y+c+/StoozGSjlvKDi7xlqbNCGIVj0N2emcnRMPMTJNu0MFIQLOh48EZLq1dplFv0Kw3aLfbBN2Ahfl54qU82X4vEikquVCvwnaPD+lY655fXFxslq7HKS9z28NH7fObDDgLSwXfCJ6JdmSGGF47dpSzSxe52FmjvjjLjbfeRKAMbR3y/Z89iSEEDDONxiaSzlmalc/0eDWduYv+VXYGosodXrS6BLLhMAsYpNIHd0dvphOIis83rd6/sCX6ux1lQWmGDlRTwFQIjxsqPgsdFYWgefyZn9D2orZ++PAh5hZmMdrw9rtv8/KbL+OrKH66J14UyEMUcbzU2KkSR1UrTE/0U7zF6TxWcO1Q5SvAzoXbzCmDKKE+2wBP0Qq66FqNxswM3TCMLGL7EevPI/HmKSd74x8f8mWeLrDL5rN4vYy17BbVbKyI5DokQ3B+S2txa2sv+v2fHxcyq6ajRVZR4QQS8Opbr3Fm+Sy6oTnynrv5+IMPc/rkcXSzzgtHX+G5N17kwTvvpR4viMjYHiWZiQ62L9NoYo0pFwJN42xod6xl92xoN91onsjECoKbjlPFqrjGUiyhPF/KJpbHcDW19XqV5N+txu6+EpG0t3wb3DSmQnjcSFqsEowyBMAPnv5JtGI4FH7nt36Lx370OI/98HtcCNq8dPQVfu72I8wzi5bofG6d2WkkiYVtHKdZfIf8t6JwToOpRneso7TYtxwRE61qVrZvZoV+EomvR1sqRm6LFZR4AaooIVRC1zP873/wf9Btd+m0u7z/oQe558gRrjt0LUoUWhSeOxKoAtmRwupAUdz/dFwSBGUFpoqUA3soqfVS6CSPoLSfLP60RZGXH+L+q6xlnd5zBXNZngvSJnch/8pOjKaRII5X4bb9SPsyKuT86ileOPkzWrPrXNdc5K6Dh3jPoZu5/Zabeen4UdbaLR5/9RnuuPMu6NDThgAAIABJREFU9OVVrpvdj2ciPa7tq7QzxIVmgPOyzqmz72KModGoxyxYaw+wW2EEPIF7D9zKRmuNRqOJ7VnW/agkWk2sbHQdUWgdVxIh6SrfcrdxUesp05rLqkQV3x+gwY9KEx1PbNjdjXSfqVMOCuKNdvGF0H2Dam/L1a3UjBdWMFlLKGS93aLdhD/4xh+ytLLE3pk57rzpFm5ZvJ6H772fl156gZMr5/jh8z/lYw98kDsP3oqSOMCF9khX2UbjiFFgtKJlOpw8fRp8hdGRMBNlUqs38SIpVMdw/d6DHG7uxagw4TU9UCZrJgU6ak1GRW7xroZQC9qEkSUrkVGgRKPEQxFmAo6IctufcQyQ6HotDPFC6HqwHHR46ujL/J9/8lXWgjbKhzBo8doTx1h4vskXP/crPHDzwyzqOZr4mCDIlrbVTxyMYqgwImx4kbFUM8LG2iozC7OECKYb8OqxN3ntxFGee/MVjr17AlX3uOvWm/nljz7CHftvZH9zEaVqCZ+WMTuNmY5zVjaMtl9O2nCZWMQSN2RRQoDhhddf4p0LZ9C+4pr5eR6+516UtPiFj3+CF//1SyzMz/D6ybd46e03eP/NRwhDg1IeSajBwkyw8Id/9kc88fRP2NhYp9GopTe12xBjxkLNP/uH/x2H9x5EK00YL0+XRF2K56Ad9ckebGBXTWNvSf5HthqqxW+Z9V6CHtrnVgVkv1jHV7MAtsjIXnqK2dwbU+wERKkoMpYS6s0mr7z7Ks+/+iIN5RGsrPMLH30ETJu7rruJGw9cwzsbF1k3XZ54/qfc8pmb8U20PVEB+Y6uFHQwvPD6K3zlq3/E0toyoRZCbRAdHaGIM25oUTS6ikc/9HG+9IufY745B+6u3RIBkLhFc39T5d+1pi2NXm0uK4itOWGvPvXTp9CiufXO27i8eomVlZCADqcunuaPv/EnHPzi9Sxed5cTbSwlOU610lq2IobZ+Tm6GNoY/uNPHuc7j/8VG0GL9aCN0WCCLj977XnePXWCD939Pn77V/46TWq0TZc6fm5thzvAxULZtZDzZe98XE+pi37u6V7Pb8cYmws+FC/UAn749FOstduYQLj/yBEOzSwwq3wOLezh3tvvoKE0F1eWeeWtN1gL23S0oa2FTqUnRtBa2NhYAQKCsJ18TNiJP11M2MaEbcR0aLfb1Gp1Ll9eHigz2S2teTdU2XenQm1/mUCDKFGSpgKkEpmSKW2DquL7FNuJxK0bW5EdQp556QVW1teY8Wpcv+8gNxw4RC0UDtT28J7b7qDm+bRMlyeef5oOkVBV8eDsHsUSbWdSbLTW8DxNp90iNAFhGGLCgNB00rHGdDGmSxh2mZmpIyqk3qxh96Nb17Sj8g/QalSvoWbg8gm1YDxAKVobG4TtNr//27/D7/+N3+bv/Pbv8qEH30+31WFmZobVtVX+8tt/CcD6+npi8NuxQsCJtyClK6k3AwXUDPgmXiynFAGKb//4cf6/7/4H3l69wFLQ4gMf/hB/7Uu/zm984VeYW5hjzXT54fNP88qpt1hmnY4JnWIqV3rSb7n4Cc4rvdaEZH0guXslldrr+XHBT2OaRtrkhnT5y6e/z7url6nPzyNi+MzHPxMfIyfs3bvIkSN389KJo7S1zysn3uKtC6eZP3wnvgYdz1ckTVfZEJaaL3708zxy/8dpzjZpd9pRVpXCzsMKgpgQTDQ3fOMNN9ExIXMLCxmmE5cL2c/VjCQ27FUqsNMpC0eDddyWWXvZ/T7FtkJBECvMouH8+kVeOfo6HQlpr6/zkUd/mYN7DgFdunR59BOP8o0Xn2BlZZWlbouv/dU3+N1P/iY4C5nc0dQzcH1zL/tvm+HA7/99NsJOvOVHMDp0+kb6Tq1R47q9B+h0Qhr1Bu42GpV73iruWQo4UiE7Eg238jry5gW+IdRRhLHFhXl+6WOf4n133oOHx8H5WW761Bd55ZXnOX3pXTQeF86f5/z5c9x88DDSCVJe43m+fMwN7UzZbLYHKIG6idIwSrEWdDl24V2+++QTXLx0kT0L83z2M4/yix/5JD4GCDl40yH+4Mv/jrfOneX//os/4T/7vb+PvyHM7bFTjyXplPxOPpKWr/t3N8J33SKdTodLrct878dPcHb5MnP7Fti3dx9PvfIs9VDhGYVu1jm/dhlvfobWRoeXj73BC6+/wl2HbydE8JTQEHtKCgltMBzYu599e/chCB1pp/vdYv1Da42fhK1TmYIuRa4SRoUk1nn+unv82eY3QI8HyeqFEj/LhKGX26dMQx0mOxNWK1OUQFQsGBFOnjnNxeUlQq1YOLSfcytLPPny04QbbUIdrVvZt/8AyxsbnFla4sWjb3DyoXe5afYghQWW8ddAumituO3WW2mZTuSaRhACiotFFW3pMqeaSLuDxOH4FBokG2wmUersFpw++dyMgSBAoCQOcyl4KBZmZmnioUhXOtxx2+2cWTpLs9lEq2iZlg2FmYSdjS30RDWPPQiSuPU331sUkTUc8RvRurBymfWwi9eo05id4fBNN3Bq+SweBlEhLRNQ37tAo9Pl1PJFzly+yD3X3J6N1FdWIBVs5n1cu7nvp8cgKljdWOfZV17k3MoSC/v3EUrI0tJl/vgv/pSaaDyBLkLY9GlLwNzCAt5Gl28//l2+8LHPUgzmCNGqukiiPn/sBU6eOUloQi5fXsKeLWyXpYOwf99eADzj8bkPfy5zXHwBsTGdLmHPn0Ocfa4HmZTdzMU0jF5yN1GQVclLRbhxVjeLtPP0KgvJCuFBW+UOyexkWKtwDVmUZqNv3iZbEbnaoZWiCwQIX//Gn3Ph8mVkxmNpY4WnXnyG5575GbN+nVALXR+WVYgRxZ79Bzh17gwvvvYKtz786ag7JgN1vB9ZgadqXFy/wHMvv8jF1SUCHVmYojoxB8r5q+i2u7zvrvu449obMZhokVVEMteU0n2wRbi2c/6kpGHaoySLuUQErRTzM7PU8VAEBECIYqbZRLTiwtIlbtl/WxTMREBrL+5b6WrmZMZaWc9ZT/lW5KhCOfZQiESbrOpenaXly6xsrNExAR0Mf/j1P6bZaKAIEWXo0mVlfYNWp82emTmWLl/Gu2bYo1lUfpAeG7ZTsPtWUzIKllXA80dfY73b4vL6Go2aT10rLoddrIgTQNpR5cqKYXZhD+udNb794+/yhQ/+As2kEYsTV1pjEP74sT/l5WOvxUfU/f/tvXeQXded5/c5596XOnejGwCJQBAgSIIAg0RSgWE1ijOjQAVSnKSZnbXXZY3H45qyy57yHy6X/3CVq7x/eIOrvLPe8k7amdHsSLM7qzQSJUZJzAmixAySAhiQGh1fuPcc/3HTuem9+7rfA/oB94tq9Ov7zv2d34m/cM75HR/+WcLA2mzU6wBUXIv98wc5uPcAUkosy7vSzlwpSP8Yd9MK/yccIAmdKZBXIhjNkXcpjNiDtwtTa43UfvzqoB9oRXA1WfL22+T41WxCEPt1GN4yY9ARMl4eHZTFr8/CLmo93HuKZM7kZXqQYwf8E5Wn46kxa9eLgOaGP14IWuX/HbWLigUcz6qXUngPH15jVmSNFi0e/dlT/Pz46ziigl6XSLvN4sq74d5NDSgh0dYYtUqNmdok586c4cEnH+OKPfu5dvsV2EF/8JdktNC06fD0C8/y//3ln7FuK9qWpiOVdzQzdCF7v6UWVF04+d5ptn32i9TsarjuqQy2zY/aH1/R8pj3vzZo2lqGrmGvH6o4jXiteN8Lb9d1taOout4ub6VcWm6bNZrMOTbeRvEq59ZWWcOhNj9Nq932cxZU7AqgcbUbbqRCJIWKTBYrv8UCR1viuZACR/tlF97u6ebyMjgOExPjVOtVarWav27vXVO5cmqRHZMzXD4xzkJ9hgOT81RdTxaodIX4GcXnA4+fKIiT9xO42n0XasybKWK0U2XW6eeBEpYy6IYIO1g/UMCp1gov/uINXATTtQluPXwD26dm0K6belEJyZMvvcLxU+/QqNd46ImfcNM1N3Dl9C6q2gorwrzY4YZrDyOFRgjB+tqaSS381KjWEHgW8fz8PHa1SkVW6DheZ0spqSnE1z6C9N3c28GXIvF3qKSAsfFR+8emEjR7mnEbRyEhHvCXrcr3QD/68eaRWkpIsOodMcz0U+QQTBILtCwdV+dTxTTdjiXOHxTNTosHH3kIaVtIR7BnYQ9HDt6KDJ2v2hfEAteqstJs8uhjj+G6imPvnuCd9SUOAlYQOUoTRpfSymHPzsu4+YYbeWfpDB1L40hfRY9d7+cp0o1KjX17rqBRH0Nrf5KPTdBexwnvk8tzr2UsuWRdK5GNICfvqJUjoYNiqbXGc6/8nGuuOshEbY4O8PPTr3HsxHEcaUMHpqcmaTTq2LJCoBZIvJ3pnqIaZzLnZtcenKWfKRndsCeBHXPbmKjWaDlrWK7ins/exZ4dl2EphcRFSs24GEO5DrWWxbb6DO5aC1Gvk+FLjfGc/yzLXCcUxll7AnriAkwHdrBZSgMPPP4oHUtiWzVma3W+8pl7mZV1rFASRYXvSMHBw8f41//+37Kyfo4z7iKvHn+THVM7qAjLkIR+8Dml+cStd3L7jbfgKtdbBxbBzTue5SKFoCItpBBIbVGRE7hKUZFg2zb4VqlUCjcUOMbvMMD4xiG1z7OvRQbxXL1Jwb8GUmtsnXA/BetV5ZzeFbF1ncy6ErHbsgpFyEpMNKO9WnSRQ0DbdXj5tVc4dfY042NjrCy2+PQvfZI7Dx/GUsEmLF8wCc0aLitOm5NvvsMrx99EVSx++JNHuGPfEfxEIXEJVIXF3u2X8zt3/wZN7Xi7kIURS9/XsMPZwxI0qjUaVg2pgjsIo3VVL1GQjQhFpvl1nI+NQwMdqelITVtrtHZ4/uWfMTU+xvuvOkwbl+/+6H6OHT8O9SrKEczsmmasXsfCQikH4VvhOhDEMY/UYCI6a7y1bOmvN9tYbJ+bpy5t1pZXaK2t8cIzz3PkVw5QsRQCl3WaKFyaa01aKy47xuaZmBhn1WltipekHi7yv92ysIPbPE+dPc1DDz+MPTWG03Q4fOhaZqxx7NUOwq6AEAhhYUkbISS2FGyrTnJg+y5+/voSWnc49vrr3HrV+6CS2AUnFELATGWa6Yq3AzrPkRtu1PLsYn9oud5OP1PzDXdy+Yf0RZzORiB0NFiVxtNM0TSVw7rT5szSWeamZ5iqjnnnGINsTZenGJybNxYvN1RaIuisC9BF/ArCLQX/fJnnzvI0dtd1cFyH4PyY1lCrVnvT0lG9RK6qwEXl/2xoYgzcW8N111+q0MC62+HxZ59mcekc2pLs2bmL/bv2Yos6lhWM4yDoh2YGgVKKj37oDk78p69z8twSzx19nldfeZnrDxxiZXmV8fFxtNJeTD0FEpuJ+iRTloXwx6SFKYiDiE86VLSF8m52kr4Sbt7oFFzpp/GXWrSIXNPhcEsrgb17oE/LN4iEUAipsWxBTVaxbAvldnji6Se47/v/QGNygvrkBFVhI6lxxa59fO6XPwsKXBxQrn+TD17Qfy2QGxkGPaCFd2Wj1GBrTQWLPTsv49DBa3ht+QzVRo2Hn36KE6dOcvDAPrZvn+OVY69w4hcn+NmzP+P26z/If3nvP2amNkFdVLpG7zXZlwmFKmqD+CEzkSSyxWGba491bFTL4fJtC3zk9jtpt1o0rAp2OOF7axiepijYMz7LrVcd5uRbb+A6LqLlQMdB2MlsBARrx/6giFuTvmtaBzqt94rQ3sQaBurQnj4a/cP46eW+DJz+vXuldL3WVRLqssHzrz/D3337P7OmWnz4lg9w580fYK46GfJsGsLGTcZbCheUK6Ox2+0OQni96MTiGVbWllldW+XKfQdQSjM9MYVydWJyyyWMWfPe/11cVn1ha7bjqEMD55qrTM7OYtdq1OsNPnTLrcxPzWDjIsNlqmhUN9vr1Gyba686yL7Ld6PfeZuKZTNWb9Bpt5mdmqHtOt441KCkd3OxFgKExPJ3fdgqmri9s8IiDCPpuXADj5rI9sSI+FJXuncYM5HfNZNTTnaPEiFRAeyaX2D71AzLnSaNRoPbb7mVF599DrfTRKForqwwZTXYv/tqPv/pzzM/PUdDVHHcDnZABAyPY4LLAcklB42Fv3dGtxizatz96btYV4qjL/2M9dY6L/78JV5941WanVVmJsZRHZfpqSnarTa2bRvjtTiS69Z5rvNRgu2d3dVIDf/z7/8hx0+/y85dO7lq25VYtGhQx2p3ENrb8BIEElcaJrTF7Yfex47pKZCCA7uvYufYNpRKrClr4VsuwugFps8nsj60Ntcw4t3deCP6SQ2YLk3QRRibioE0eurZ9iKvHHuVV3/xOm5V8PyLR7n5+uuZq074g1qEfIgc2sNCdszUtEpyvqPEmPDW5fwQCQKowE+eeJQfP/E4by6dRvtnz2/7wG187CMfY3FthYXaWDFLostjHVq2wayUqpWN0S+xaViWxZ133MnC5dto1OscuPwAutXGblSQxvTqjStBo1qnjWLH5Da+8qV7OXHyPebn5tkzv4vOWgtVaxjpPUGqAO1vcgxjQgddwnAuC8+FFKp0gXWccqYEQrqrXhhEJ1T+8pbyVk/9InXvUZ5HRyLZVp3md7/4m7x+4i0OXn0185OTfOr9H+aVXxxjeXWV1eU1du3Yy+4de1EtxYRo+PXmGFZ8oC4k+3mWhtE/zPkXBCsrq4iaxaRd43d+5QscPXAN9//4YV5883VqdoOGbbN26iw7Zue55vDVfPaXfpWpWgPbTR51LZ534PSKyYFRk8A+bNff9j43PcfMzAzXXHYFQoClFVJX6WjtbQoI5rTgGI2AioD56jTbrrkRAKEtlNtEhJEzDSGq8TdKpC2WpKCIiV/fGu5PgJid0BT8gbQMzNjIGyC19jqzBkdGQcWrtmTNWcepC6hJlOViCW/zQRBmXYedO32hRHrNYpCIjn6FE0hQ/CCF78qRF6SDehtk9FoTqppV2eSv/+Hv+PHRp1hWbVpAza0za02xem6RMQdqViPBa9ZE0qVGU+8GFlbGDTCZ2KhLu0QRSGDH2CRaKPYe/hAAAgupJVrrwN9GuPPfF2gVJDZw9dzlXL1tFwKJpSTVsXFc5SCldzOTxFtOkkojXC9D4c9brvB+/AxCnpSG6NYCs+2NuSphhcXKpL3Y+MrsOsLxDYz4Ekf8fWHMDzZoG6mrTNHg/Ttu4H07b/CrwosktrBrwZi/fHds1ULTwXFcLCFBCj+utfCONPl1GZ97Nw+poRoYIlpTq495bn5XM1WR3Hb4/Xzkxg9w8tRJWp0O7XaHmalpJiYnGLfHcXUL4QpsaeO6qtDIvJhhB40lEFimYPIFl0b4a44iTCdEaAd6ly0of20usGzjfud8dwxZWkzgptHJL2IyNQxJGZepRsKUShvLl8BiQvu7ov07mwS4hnvMwcWVCle6/u0qKrTyvOx9QXzeNTKN9DdjuCIucoJ5I1hDiQTxBRAwAkS9QlOs8+7SaR49+iTLusma7rBrZgc3Xf0+5mpzfPjwzdQsm7qs4rhtoxr75Dls3qQGdKkP9S2CoC9qAcIibJdQkQ0aLZqcAyESzkg9lFsLMMNJhV68YJQITImJNhZR87xxxYoWLZiFYWn9fhiSze2GgccwMApMSKJIYrGRjhCgLD++vs+8551LWsSDH/sBj9qva6G99fPgaJetBTtnFwgmaOUqKnYVGyuUFYE8KRp6M/SXGIaH+ZNZzBEY+jYYolIkGy5tvaZL6rlU0DIjfVogFq+TQMylYYponfi7O0x+PBHqRfjBuzXEF8od3HDbTxuXjuUJY6H9Wz+V9s/GShAy5u0ZdHfPDKfnQ+LdRRrkH9h8HmfeansghD0vrTTq6fwIZRdNx1asC7jv0YdZdds06WBJyVd/47e5fHoXDTlOgzpVqr6byTTp++VVhD8jMP4uYfjaczxiTn5aAN9j1S0iVLBcBN6UFJoQvmctRRINMYd48N3GLMjg4hwNfrARHbIdyzbNeR+5xNMKnRJHseiAekgenpiJZYxZHSpBkvX1VaqVGtVqFafj0Gq1WNdNahXbn0f7j3+dckeTLwNGxbdlCyH9A+d4PTf0wqQFrrdbObBkvfPAnhAQhmund+G7X0YSCcvAqiuKWHcU8YZKQmjQbhttCdZUmxXaPPXCUb7/4A9Zd9tIDfPTM9zxkTtYUy0m56ZZPHeWjlJ0lAJhg7TwrmTrFqOtTyQ6l7eT0o/XHZtHFJoOq611qFdYcdssd5qcWjzL7Pg00lHMT84wU5lAasWEGGfJXSVfwRoOlID32qucbp7lxPJZ1oXCtTyPiuO4rK6uUGlU0XYNRztYqihPZhlMj0xCEEfdMnqzUJ8y+ShF+tDQl5Aw21wYZ4KNXh2LrreRqbm3ADa9TRsT1/3lV4xCvufR00GCfLTv2fMwqJ4tkQS3JGl/zgJJoz4GCBzH9QIQCYFtWV6AHaW9OwxGRVoOEXbYEULLK8utGyHWcKHmmHxm6n9xAaJFoKGlu0D4qog8i7ED8aGEiqS9SSUpeHt2Mj/61Nnls/zrr/0pr793glUcqFeoKDj7zjnO/XAVpyJYXFvy95x5VrCrFUIZDqQhdqasHeEajSMcnKrmyZ8+yY+eeZI3Tr7D2ZVlarLCuF3l2isOcNuNN3PLoRtp0vKpCAYx+ItCCfjmg/fx5IvPcGb1NG2pcaUniP/5n/4bto9tZ8fEDv7gt7/qbZLzg6UUm5/Trjcx0PJ11RhLXBAIY0oJ9o4E7eQbCUnrt1/6I4iox0e7v0UqRfB7sH3avPXOawXTsW4qS4bBZqQvEbimUzvtksh7ll2Nkachg57hrkm9F0rX4MYQXwgbrovIDWMSDL7LZCcXK2trVGca/Mfv/j2vv/MGTs3GURpLwMzsLBWlefP4m6iaRVs71K0q0rKQ0kLpIDx8YLl285jF7LH+mEy+7kNJTVO4PPLME/z133+DVdVBVSw6UtFSDm2nw49feIpTi6dYba1x500fxhJ2zqaNXhZAmv9+qvqhRx5mUa0yPjeG02r6s4ZgqdWhs36axfdW/IvnvDbXsb6V5i16YvajyI8gUuM9wW3huSjZz/Jsjv4odfHTFGHqEoGhaYt07QkCl2/QmEVqOKvhRer/bjB7pch6mJE+9jjFQhanyWe9O2u4gq57G1ODhmmLB0I58zhp0mYTolR1fdg6JtgEwUaAaHXWn9V08FekfXoebWW866cQIvEsw8LJlJoarX0Xh/YOIQRBLTwl1w+ErvG3OmrvCLK/k9uLrxycD/R/p8apJz41UKmP89O3XuPZt1+jVdNI5XLdwh7+8J/+N1SxUKrDT154kj//1tfR9RrNpXVAY1kC6Yd3C0NV+1Z8uC5klCmszfBxWhjGLnlJVlWGhHcFvNk6y9d//H2WKi5OS3Hjldfw2U/+MrJa4eHHHuWRx37C02+8hBhvsP+669hdXcDyF860wUugSAScpQVQZEvr8J1i4sdyNV/5pU/z6pm3ePz151nRXgvUqfLJg7ex8s4iN914I7by2s8N5pCAn7z1o/AGGe+eaynA8uIbhrtMtXajEhl0ig18M5WxOSZv96nOP4QRXWri8dv9zHueNW+OwRGfuoqwb44VFXUIr3t4s70ZMSpYXtMiprfH6YXjMiGoegrGBASgvGOfIhhMSqGEQmnvpqfA26b9aIDxeFzpvPozIsxy48U0Qnj70KTff3QysI9hNug8LjKg43O3OY8Fse61NhRiHejZcREbuKq9JgukyMb6cbib3j9Oq9D+/p3sIDyjoN7654ySFkiGihe71LJH+oSVkjs4UoikZthxTSkR/+V/Di7w7p6BCMsQuK8EWBWWm03W3TbLzVVmqhN85LY7mBQNKkhcy+LGw9fzxCtHeebYy4yNjeG0O3RabVTNQSrh3/4U6NOGjyZPI8xis0dPyeqwCs1zr7/E8aXTaKW4fH6er9x9L5dVZzlHk1/5xCdZd9r86Mc/4cVXXuaNt95i94GF/AyTl5Ym8tyoY0sAv/xLH2eRdU78xUlOvrmIACwh+fUv3Mu0NUaz1Qw3yeuwCntZ6XFW46pf//F081GMSG+eB8CMKDyQLhLke0Zi80LsC0ydJf1d13Yo2tbx1s5VwApR6xfZSlrAkVkvQ8k/Nvn6armOP47zYjw3hHA4V46ClDwPSMXA2hASk17qzs/ufxpfRGpVbrD0wOxMWJA9O10wwZvWupCsrq3T6XTYsWM7rbNr7Nq1O1QDNFCVVWZmZmi321gdcB0H13WxpHf2UQjpacADRKp+MucbzWNPP0HbdWitNZm8fJx3jh9nsXOCVlXQqdmMj3lBR6rVCi/+7EVuO/D+7nd/DgmO47DaWaXZbHnNpzTS8vwcjuNSsaMQd9nTbn+IOWQy+kc59kcbqeGQaNyeukrsMpD+epyGLktQiWwYljDOysz0/JyfHp5bz+HG3WSCuGkthrSbexSRI4hzVJVkJxfGB6N3dnOz5DiHInoZrRvLso/eHWheUmTz5DouTrtNvV7n5KmTVF0L179pKtDbHN2h0+nQajaZqPoRfJRCSonQwo8E1vscXOjK7dEBu9aPAamhuu4wKWxqjXFefO0V/q+XX0M0HcZmplgTmo4lqEyNs7LS4lxrDaW1d8YSw1WbsoTzYKTr80Jx27YZt8ep12tYloVDByHA9m/eSWkdA5q9tM92+JlIe7/wU0AeBxees60A0wVaTLYYDd3Lzxs7agmDqvNU7Ok++vGFjH43aIw6/xcCdnzqh56dMlN6xqFJriAm3ErdcsmxnE1vd2CtJo8o5bV/NCGL2FPLEjTGGmitsSybqqxw5vRp2LYXL3CHdzJ3vbnO7NwMuulQrVWp1WsEB/Z7554uXOh+zXkleT9v4nX/s8CV3lqxFpq52VnuuPEWxpV3Pq+pFR1bUqtWsTtw/ZWHqIkK0vK5BKFzAAAgAElEQVTuhtZKo7SKexdyeNJGnkVLml2wwLuqM/cRpP/KJRMXsCLRJ4jqMMlrbt1uAh4PkemdWYaEQhB7WDyX7ELl5JWR4eig3/UP/0PvdcfBC+CsHHTG56KIlmcGjQxONppRamLOoZk3x20m74sQ9lBGqiAcEEKnB0eRNcAAKe584WsaaMHkK8yXjAeeOymZn8auSCYa3jWPquVgj43x4I8f5oarr8NB4NLh5OJpTpw4DkrRbjWRElzVQaHwtuknD6QXG3pBR8yaV/OEcHI7kCu83dNaa+bmZvjUxz7GAhNYWtFWCseyaLVbVLTFZbUdONr1lSTvvHhwo5X2N5ZEoyO5uFPA3delnMGrUnuXppvn0cMM/P+LRtlJtn0YaQ3Sm0uM9IMRwlleG7/eUt0suKYk/nbxOai/KT29KfIislAybIULUTSz7xWKR7KJPPqFyPVwZQvhvvNJKpQxpUGncsryYHbd6HmJCufBrBF3gU7MAkG79COM+4HI+ElwFH6ygBv3X8P+8QUaSE6vLfPKu2/xf/z5/8ORI4dpNtd47vmneff0KeyqTcWyaTabCEuitBPOetG1jXH6aa7SSE6csfrJEL4BJPBrv/pZ/sWf/jGL7TXePnOKB595nA8eupE5OYZyFVpbnDx3lvV2B3dXnXkmvN3JQiH9iGBAbNdjsr1Crvp0R5tkPL+Cf8e0K3CEDG/W6oU8L34R4WK6Cc30m+l12fUTpxxbhvfTx3qH8Jc0cmmk7PgY/Wy+8rkqHCPlPCF1yrQvaZDnlckrZL/Pe0Pj3czmaqi63t+uzGRqiMiy7KNwu3FPnSYZ83qjyPIwefuxjZMFRsJsyzefn17LxlulLw96eTvDIt5sDvFrwLIEbtEcurmakxYR4MfIJop647tC45qfCCloXCzg87/6Of7sG3/ForvC+lqTl469xlvvnqC5vsbs9CTz2xY4t7hIxZWoZoeKsHBd7/Jt4ceUQZjCuLv7K2k/J5FbP8YXUgt21qc5uLCbF956ndVzK3z/gQd48Wcvs3tmgdVzy6yvN3nj2C9Yb7b4g6/+t+y48gak5VWIKQbSkcE2x388rUAhAAupJLZrUREWtiv9eOYGnT6EfeC+i7mjMaziRPphj18ddfaMvI0dpKLIKc9uwthMk/6YNWa29J6YDQmvpA2W923+k80iq3UGlUtulYhkovR800VVyyRUpPrTvsT4Zx26BQyFMaGAhs+1+WZCqSpooV8sDh4Tdl4DpVGs+GHDBOS6nK8MZ6eMBNGkmvJrZMcaFfFuadqgcYdJMMkp1tfWqTSqHNx3kC/fdQ8//MkjPPPiCzjNFgKH/dv38KlPfJxOp803//PfA5r3XXM9sgP2mI138bLln1sN8ug+HE1hETwQqRQ+p0ahgq3/QRqpYb42ze987l7++K//nNdPvkNzrcXzL73EsepbdNabiI6mqivMjk8zXR8Pco9yCs5l+yE0i+y47M2/Ca8VFBKwkcqmoiwUFlXXIipSoDFtwGlrCGFEBn/nAbl9FfCsFAY0S/e2jOH8l3/Q6DbxZyF9ZeEgRW+2Szf+2Bc6Ojt5P/S9vlSA+wxdubt3IUeR6yL8wiwyEmT2MZ+BYBoRqHRCYb4cJhwt4Zq41Kg3eqcv6JoefDWZgRryqWectckyFnLgnXQyfZKCaAumRb0x6SkNToerdh/k0G8d4eSZU7zy6stcuWcve3ZeDii0cvn0/3AbZ9ZXmKlNMCkb6I7AFTaukECrAFMpdbYb54YioUHLuNDC22Q1Zk2yd26C/+X3/oj7n/wx9z/5KO8snmbb5BSq0UY6mgO793PHh25n++w8jtNB6eA6CC/Yheg+ejfIvwlJnQlaLPPROz5O674WbdXi+kPXIXUQ99ZsVI0UQVCXPrIZOeQN4D46+EWMpJwpXiPJeu1WzwF6j8fUayK4DUnFJLCADeyaLmbXb5xW/+h1w1UybVoLMf+Om0Tewro0ng3GbX5ekArI04v/rHpJpx/6GvHGkdehNtbRPM+Jb07HHObe2uV0bQqFZq4xzZ3v+zC2kIiOwhI2WoFVsbissYAF6KZCyhoKO/J9FxZm/fBvCqlAifC/0eAKiVBQ0/CJm+/g1vffyuL6Ku3T55iemGR2dpYKNRSaCjaq00Zp5Q8cwzEcupF6Db1++ffoLelVEBZX7NrHf/U7/xSlHabHx7sc47pUBNGIm67Dxob9vYVFCJvra4b3yvgxORjFnmyWo0jayONoejiz3APmcoo23Jgbbugtgn75T6fPFMTdOk+RqTqdVW+NLy9F6nmepqbNIdBNC47ZmqD9m0M6mmaridSCTqeDXasipe07Fi2ksqlaVRzl0Gq1qdXrG+g7kQsrfowmqTFlvBnzbgi0ELhCYqOxlaQqJLa0mRobQ6hx3I6DWmoxNjXJirPG4uoS26bnvMvEtcC7dQvCCM9aFZg18vjPTy+E9NbU0cyMT3P2zHsszM6C6yItSdeli4FMY32bJz3oDHLC6KZs6ozPZv5FPErJdy48RHxi6JE4/G9IEq2Isj+MjDdCv5fSEB0aNWY3jAep1zfTo1MeC03Cu6bI5lfEPmbx0L2U6by78R/R76eeu1HKSJJJur9+YyebV5Pj/4euwRDyJuW8CtDGIMvKM2jTZF6eY9XbIiWRWFhIYXnuTO3Fvw6Cb2l/vcLcLm+6xIXvqhaAFJLx+ljAHbHYsNLC0eA4bY+HsRodOijhGJWX1IVTJQ6/DT05sdQ6lTq04oN05tlbLahg+UsuGld5N9FU0MjGONS9ZB23RU1Y1CZmUK5XLhEG4M5SmzbKfyJ1SNql6io/B01jeg6U8sqiPLpag5R+rPBAOyoMjZAgpTYmAu8nuPxB+20cLFNEl7X7TBqhI73pLHrulVeZ2eWUuogLNM53tzLFBHEidnleTN0wt0zSW0MYC/DjxHvIYjU5x8SPuwyqHL362LBt2XxrUebeG+71xmCMmPG1oxRpqRt4jcO5Xhh1XCDSXvLopzDGjja9adqLvdDutOh0HGq1GiBwlGJlZZV2u81ll11Ou92hWqkTLj+F5YnyyNt0qX1+LARS+D8IpJDe1YqpWotcyXkyJYVkPHnTHe3LllgdpmgmleeeGfq3LxV8rZ9gCEWHS57gDwqZTUcQOzKkowrB/N2LIx3s8A40SbMmuthp4VeJ3l0QG5lKDLUgpJJsi2hdJ3L5pPPqR4hko1/+ZU6ou6AeTSG5ce1cGJ3A/MmimJ7qQ7U+ma7o4DA4GSgySXY3K7eGyN0c4lV+MZSoCLopczrjczFk9PbY883UrqnSe0GOFLJmoYTL0y+/wKtvvcEbx4+zvLTChCv54l1fZP/+A7E76bPMglQmwXeGDErxnUsgejxoNW5QNPvarFVsUu8HcStr05QDuSwy5tTc3E0tcgNZDlxxzlMEdEGBn1Al44rdloIwrd8Yb/0rBuadqCUuXQxvPHZ73q8FlKQTlyDBsf6sW9cCSCFxtRvGAIinPZ8DPRDB3v8KxYpu8Z9+8B2eOnqUX5x6F1Gv4bYcrqrO8t5773LdwevoZJrigxBr58GT4XsEinHb27CDLoI4vn6Z7SgpkkE+DCGc4y7oh3JoA4moI5vHm7qifyUz9trABUB4Li9PxdtAjnnX920FJGfPDXgYAm+A1tq7os4/mpVwIviT1gjt0ixRCIMK2NKTeIhgxlEk58j+6SuiXcSR61MpjVYgpURaFivLS1SqFaqVih+BDlzXxRZWzBU7CEQxGKLjd9kGi7fc5boOQmhcCY++9AIP/fRptCXoVCQzM1NcPr+DG6cuZ2Fh3ntLeWFABHgbSOO5b4DjRAcYkjw2jykGm017cpuaz9NICOK4RBTBs3y2YgxGulF/GLS7YKNvB+7ffvjpvQmgz9L1XsDo8SzptxF9C7be+SWx8RbMWpbon5rwLxkXMRd3stjh+caufrAMHgvx1ktZ6qd3nk+LZrjtm0U/Fkt5Q0XN5mfz84hO/O5FND7/aX8tUfuXlAd/E7vzPf2el0/UKQMF0uvLEtdVuK5LtVYFoN3pYNs2QoBl28XcADGjpLdiby4bZZdZJGJie2vWLpqHnn2Sk81larLCwtwcd9/1BQ5dcRVTbUnDqtLWLfCvn0kaTEE1bGwEDMYs0kJ37Z9pl34XbnOXluKw04/7E0SBABuiEpKZZ0wLLWROd599tRkUNcdCT9PL+pxkophronceWTTzsjW+35AlXKRsvfjpnmcsh6RXTRSbW+IEIwFsspDaABLQ9/4j2GuqzfQCf4OXoYrG3B/d20Xo7DrRCbMtf/nE7IDpRIMTONn007n127696Yejou+umRe7flDIF5q934wugtEiCJCj/T4Wp2nuM4kLSP8KVqFRUvOzF1/gldde5dVXXuHs6VPs2bWbPbv38PGPf5xqpULVquK6TqFSZT/JvihDkJgTQ3dSPK3yy+tIr0xt4Pi503RsQXNlhf2793DoyquoK+lddyotPySmNmhEOYS8iTy+RWIMJlPk99X+PKzBfJLT31LZJOrJfNxVGHvp7ZRupLvrFclhGe5uKyS8BoFA+AYDRhG5h4xD9jEBFDWaznFLir6sxuRg7cFrlEtB+qQ6fJzk+ajpohNQt3TZfAZa8KAgtPZDmnq3OllC+GtmwnOthbulQUgRnxZ97VvraJ0rEqjanxOigyHdPT6e6K6otDKrgY6VmD4KWlvxHAam9w8gXVFhvHkuoizTk+JQ5p4hbqjQIi5+w0L4+a6srnDGWeU/3v9tHvvZE3R0G1uC017n2MuvY78oeOT5H/Ibd3+Zg1dcRcOeAW2FpCDdz3Knk4wvcus0fODNs47r4FiattCsyBbfeeA+Xj7+Bm+fOQlSYE00eLe5yv/+x/+Kmiv5yi99hhuuvg6JwDW8BMI/3hCpIfG8zbnCU2vMICrBvJ+/00cYRPrX+xL9TXuman5uGRXd1Rjy0tvJB6HCkaIbPfUmg4Qel3QvDF1YmMIwaVL1ei+LN534q2jDRfWWTW7A9dBzghj0BNJllttoGUX8c1aLhK6xAsUJ1oPD6xV1XGEMDNTo1q5osEcLEsFv8z+R4jVfuY2mPlem+Y4mkyJ1lV/n4XnNgTXzENq3B32T9b4o5/AzuBFmKvkbgPAt4cBFHc5RScU9XifRdOm927EcvvW97/DYT5+kXXF9ZVKxZ/cuREexdHoRx+2wvLqEsBKbhpKDKTCUQgnd+yRFNJ97nS3yCwUdz/uRwo/tD5w6dZKHHn6Ilh1Ykd5bZ06fwVaCmiu57777OHzVtSjVwZJeMCTzeGHuNSimzmJYyl49BzWrc+VOf82pY4I/TTPJpTH/Z/bPHMGQSG/H2i2LY89Hkc2zsY88fNNvxeEplEYJesb8zBLU3eA3qekv66ltC88Cz2RzWMrI8LT1FLL9MNF3myxjFuV8P0KPcicmIaVVpFCJaMAGTz3LODqLKXR8jTmWa54QDhNH9nRHJideD1JvYpPYsJp8yO2bpB/WjDmM+6E17EDaG564IsEb/vbXikVKEJtvxfNWQvH8qy/w3MtH0ZZGItm/ex+f+8Sn2DE2jWo7vP7q66wtr3Lk8E3UrPHwPH4h08Fsjy4GUyCMu3EstcDSUBEwblW55fANvHT8TZaWT6IB6WpsV2G7AtvR3PHh25isTrLaWYuRE17RM/PLnNUFqfsGgvXqzfaO0FsR9M8isixxt0JPZKQvsGt6+MhXyAua/1oQ6WaBq0JGxAduoQ/b2r90UDzSks7vlP5OabT2A7x4h/wd7cXT1giazSZaKxzX5dSZk7z33nvYtsX0zDQ7du5ASouGVfc2fWlvE0yQXe+jcN6uUa09bfp0a5l3T77H6uoqliWZmppk5/adzFamcTod76iV9PpnMAl5f+SZwUHK4O+y/yXRj0/s/EPEmeoyuWo0Dzz1CCu6ydmVc8xOzPDFT93FtduvZMy/r+yK+X24/lJKS2tqWiO0Cq3Xfnf55HDshbRHI6THvzZ2iAu8i2e8NILLZub57S/8Gi00f/Av/zdW1lZxVte45bqb+K9/679ggjq2gpbbwhJW7LiVFczVBRouUKhDIWxUbWwsGRhGfxDGp/j80KvuE32BHoJ46yDHtEcbUbJExuRUeIbfJF9bb9hfWoisDaGjMC/BbtVgUhprNHj1tVd54IH7eeXNV8K1n/X1JkeuP8Jdn72Lxnjdn3D6h21XcDod3jrxC/7i23/LL945juM4SCmo1WocOngt//jzv0lVVrAsG6VML0rRk+ylAN4aCDZgdU8RztCZhkBWL/Nu9T3TXKRjuYxNTrB9doED2/dR05Kqsggcv1poXDzvXejYHaSCZngCdawcwQcvvpvUAlt5tWEJjbYEUkPgFLJdTV0JatL0NsWFUT8b9kLlWAQmV7hqnBtvbvgzdb/1nk6/IUGcKpBZqZkJNoNsYl5jR5qZ5ccsDi6qRni78RReQ4vYFX/dGEymKVLJMYd/F+Sl0fGP522+HTY/XSzYriZMvpNNo712FUFbewPRld7UEExGgXspoKFcl+baGrZtc/eX72Z+xzyO4/Lv/+qveOyZJ7nmyGE+fOSWOFv+H67Bi2nBm5HMms0WlmWxtLSMZVnc8+V7mJubYa25zsM/epinnn+KW6++ifdf/z6kiC8ix8Tw0GYLnf15GO3bg74g3QVGCaFcigeAJ7aIEsphbUZQNYgYr4XPBAjB0toKSsL4xCQWFjYW46KBUA4gUMK/5VtE+erY2kmBTtQlSapdYjfY6fD1oGm9+RekAFt687EwxoiNpKIEnXAOTuTQT19IuqV14P/s3ZELzdI+72H/PE92lh3EKw2YyPiIaXUkH2f3r5z0OchOmVFtwtcHtWcN2wik1lRdaHRgrFpjzWnTBJTrNYwAxmWFqmVjS5uOa06rUU5pd4GfpoiWmVtUs7v2qo/cyt8kstpikPz0T9+bn3SYVBN3KZluK7P2nXYL0bD59sM/5K3l0zRtcCyNcDXL584wOTuHs7SK0AIH1x9RXv+WUnLddddx7aFDuFKhtEKh+ZVPf4b/+0/+LW+vL+MKT5sHWFtfp1Gvc+bcIu8sn+XAnv1oHGxhc3L5DCdPnuL6Kw+G6au1GgDXH76BK/YeYHZ6ivXOMpWKxdn33ubFo89x8tS7SCkAL/+ofIGFkDFJZdVzX/0jry2G177d6OeoA30ge24Z2JDpQUgDWEE7SaIlseRP9FwlzxHHKiH+nRCSbfWdrJ55h2a7hTMtOLu+wlijRqNS4dTpk4xNTCCkoGpZKNfbQRzE1S9SnnTs/fRsb0ImlGavqwrv2JHQKARaS3RwJaRWaBTKgo4UKCEQCXs1FlSnSBjEAtAqKoup5maXKocGntQINkTm+aoGLZ/tzWqlw9Nqs4oqQovIc4toLA2WAqkEx0+/xx//1Z9hWRaWZQMCW8FHb7iV6689RNtpI4SVQzvKI8p/UKU7T2pVYQybn+7084zhQCjl2cONRoN1Ojz3/HO8cvIETVvTsbz2r2iouIptjQlUR9Nqt6lVaoaE9wep0P7tUQJHwNunTlGxq2ybmkEa+VaqFTquw2NPPM5Dzz7JvV+6mwO79nBm6QzfvO+7vHH8OEf++z/KtOanpmdZ022aFrz07ms8+9ILzGzfxr59+0B4vFm25bM1bLtwGG29cZqjagWbCENQxpbGiD4TmcAbsfwPXXuEtx9bpKNd3j17hqd//gLOvoNsn53D3jZJG9Cuoi4rdFQHq68c0ml7vR3sajZfML3V3vlp8+uEOSZkTj8v6knswlvAgSYWv3qj5H0n/3mfskdgjTgNB42tFRKB0BpLCSwtWXfa/Oy1lyPrQniC+MPXXl+gXgepkmw1wbuF0Ye+s9pcQ9Yr3HTkBnac20XbAkd4FrF0FJarGa/U2LVzN/VqPRqZgS/UhxLgCOgADz7yMHt37uLA9t1ef/J56XQcxmpj3HTTTRxfOsPXv/517v7M53jwwQc511rn3i9/Obs4Alaa63zjH/6eHx99FMY0661lvvirn2HflVeCFjRbLcbt8ZiB29upllVxJS4IDCHbLUl0xLN4+wngyHXX8dDTj3m3vQn45ve+w+LNZ9i9exeryyv89LmjCFdx7933MDs5RU3YQ1dwUkZ8cHQoEICRCPPK4Qd/DyxMraKTCsnybpaZSOyLzU/jFwijJYi1Zw270nND2L4n5MZDR5hZmMMxXBOB60Nq2L93H512m/H6OO3MKDRxl2D/O8ZLIbwZFDorjKZStXG14uN3fgQX4e/h9Ia3xDtKIbXnBBPKl7/C2D3vj9NznVXeXTzN177+t2hH8cEb38+ebTuiffdaU63YdNwW87Oz3Pvpz/Fnf/PX/Is/+X+Z3zbPb3zpHvbMLoRu6VR5BExPTzEzO0NLNllePcN9P/gB+6q7ufHaG7CsSuAxR+O5/nqfmy772FaHF1TG+5EYtz2mdiOl2y9IIRXs3baTj956O99+8AesNdfAqvDd73+PJi5Vu8KYVaGGxevHjjFz+Pr8XUqbKUuMzQT/GYfkI2+WoFat4a6v0GiM4dvLnmfAOL5nunz7lZ3BunSwR0NksDRqGC1B7EOh/etsNZaU7FzYzvT8LOP1cQKHiCCKNBPoi6qPCax/xWrEe8IFQpEVmGAjSmA5WjpqXaEFKH9Yh8FvBcLX2L21nigXLTQnls7w3fu+x9rSMr/8jz7KHbd+EOU63nJGuDIRKHWCdrtD2+kwOzuHqxXrzSaWlR+hbbo2wWc+8kk+8ZHbOds+y3MvPsu3vvlNHn/scQ7uPcjE2DiO00mVtnufK/vXqEAYv+NO2t5+D6lhzqpz++H3YWl47JknWDpzFiUtGjPTSA1VF266+hAH9+5jtjaOcAffNwKnYorHLlkFwthpOwR7ebSGVqvFdKWGcpVRN+aSUX+IsdWH6z9Pr0gmuhBG9UgIYp387K+kawm2ZdOQFhVq/gYYr9NLEV0G7+KFPJSxIZJd4RtrhPSGhxIbRTBhmeLJiPyq8doxsH61QKvojfBsYbDbIjH/aeCvvvE3rC4t8ZmPfYKP3PwhlHK8s5JBgsQs9PW/+waq7fC7v/UVHnzwQf7hO9/h8t/8CpP18Yz+onF0i7qQoDTTVpWd03MIV7O0eA4BdJwOZpC89IaQ5OJW2be2HITGO0QbzDl50MTnh6y2JvzeQlBzNFfMLrDt9o/yoRtu4tziIm+/8zbvrS+zd9duDly+hwlRYarWoKJhM3K4m62eORcGbuhYcaI/hIZr9x3g8eefpVGtsX/XXhrVGslNaRA/vjdIxKojMZR6bskQqSnjvGAkBDEExo7w753VIATCkjhaoZRnIVuxqc0Xtv51YWhQWiOMK8MsFaSO/gdQRicR4TbBJEwrazBlLJGFaFVJa6OF/WZxBWjpxZoNnnuJRWzJyHUUa+tr/Lu/+FNO/eJVbnjfDYxPVXjixccRCCbHJjm0+xqkkp57zaqx3FzmkUce4dx7p/jS3Xdz2fxl7L3rbv7D3/wNf/knf84f/Y//U8hlxd848537vsuTx57nA7d/gIXtCzRbTZ549hlW1tvMXD7F9NgEAI7jhiM+vtYoSXe4CzE1lOgOB4Tj/3YLvyUyF5ZFKNAUGmFZ2MC0VWV6ZjtiZjvsuzrsFTG3bCKueZ5MTlqRwbOkygf+0MkhFD0OFFcdhZ3UAtuV/JOPfZ7f/fhdoAUz49NYDnRwzIMSceVTSAbdv1PCeItjZAQxEFao12wiOjOMt2kr1NbI6njmk6LrE92EcGmlDA86UcV+mDmRELZBWuO3fxQz1bBaa06ePMXxt35BBcHRp5/l6NPP4jouGs1EY4J/9r/+n2H6tttGILhy35VcsfcKdl92OW7HZXpigi/e9Xle/PmLhi2jabktpJTs2bObZ47/lL/9xt/SbDaxbZupqSmOXHuEz33qcwjwnlsVny+T16zemHThjcCsckkgkCr9WsQ5LWj0g+BjsM/BVD6zUPTqwPi6bzrfGHNZ9HQ8ifk51C+0YG5syvNhaW/N23tVJYx/aVBIj/dNwzTaTYs4P3nPd4eJlCAuku9mqqlQRfRIL7VI738YKHoJWuO7HnxcqPocafpGLFYzWlDXQWF8aTjKwmdKKRbmF/i9r36VltVG2gLLsnBcF6UUY/WxGP1mq4kUkn379mFbNh2nQ6vlCeepqSluvuXmWPatVotGvc7uXbv5ypd/k1PnTrO6skqz1WRhYYGJ2hgL0wsATNQnaXaaIZe9kSx4/jsXZX/YsvTj1OJLDDrjx0uVOwcaXpwLHfAkU22IWco6nk4QXb4CseNNqbk6U/EMhHH3UseVgPQtSKbaGnAoEmXIrH+jvvNGW77s6leqpZFpEXeri0FoCEn6vWgWc/0mariApE4Oo+hT3BLerOv5fNfnxUI/UId6LuvIDBMYYzLQmkqlQqVSYWJyDFe7BNeohc4SLZDCG9haQ80P0AHguA5SSqYmJ1FKYUkLS1qxjGq1Kq5ymRgbo2aNMTe+zfsKz23p7eq2UErTph0LaDBopfti7Q9bjX5wKab2/7KEhXJcLCn9gEIeVIH5I1Q4NSHVTMfPBUGyAHFDJBLG3l6c2J05KhJTgUWuIXYdrTRIFilmEElR6uBChvhb2lDkvW9VZvjP/HknPesE80RaSHcJd5ryxOYjLYiHrYb1Sz8nvVf/+ZZCoWAtKcPXfzDITr/V6nNU6As2feVf9Ko5MwgsJX3ZG+nPnrdsEIUV3q5un1RwhEX6dzAOKIhQt+xL+ueBfnLXb0g2ZsnGvTRFsg7dx1txBaJw3+2lQm/Wsglc9nFLN/wSbVwGYV7j2JNsysJOfp/9Tk5C887GHrALpuvJEFkM9UjfL/1YoXt11g1NeIYmlfN+kbKPSn2OMn0R+5ROESmjcS6E/78gsEK8jqSB6HCF37mC+417IrDIvahdto4ErlQiTIHQ6JQ7KKeACY67YRTa66KiL5HXUQEAABJYSURBVJJPBWFISxFNTaa93Fe+okirZ7tke9L3+1uyLHG1okuWKTslz1renLD1rObor7gw9TxawdhMClBtvG/WqclZ181oAsydZb3qxAyarIUf6dHILMNoTyG0iIu6X3tdTdzve0XTa19V1H5ewQXweSaGOYHGg7NHg0ObrZSsqS78FnGtb5X6HEX6OoyYbwbLi1H3b1oKXkjTjt5LuK2812O0QoS76I0wmwVmqFh6CI9TmfR9MR1NfGFEj8J2UldczP1hS9EXgJC++NWeQKCG1A2Ef97CxZuItfB39UfUC+WbueYokvNV9EIR17dJMWk0mEIvGB/ZGyKz+Y1TFGDcXyBEPFXsXH+wFISh8OqIfsuSaDQWGhuFhYPARctloIMQkvDmKSEwj0StrK6ysr7GmXOLHD95krHZaXbt2c1UY5wJWWFKNmiqZpjeFPrhfcSZJQ8Ko1lfX+fk2dO8efYUrXYH5ThcffgQs3adbfZY6HELLueIlsrS99fbqXocBvqln5PeNIJDt+VA0IfOPJh5c3Mo6WcQ7N6GeRPRMJBPP8+5NbQMB4OSfu8MtESIaK0wvJkrpSFsor1Nh83mqaXpZiJbKehNsB/OglXZ+HvenVL+TVMoPJ+Vi8YBoRD+nUtZ2vL3f3Afr7/5BqfOnqVjCZZa68wuzPOx2+/klmuO4Kp1xsbHIwGcCIGbyWUonzVKuTz8yEN87wc/4Kzbplqv02q1uPrl6/jY+z/ErVddh2VZOYTSZvJIHF/Kdnbk3DYSfFtwMa5fV/NAOn6JAhjc7Jmygi9QIxbtkyVGAfluZ98A8iyi5G7+lLXZK5tu42ALdOpcZPOddI/rnJQCja20L3BdhPAEsfYFsgw2huGPq4RV5iqXq6+5ms9ffwSqVX5+7FX+8mtf4/777+e6PVdSrY7FlgBMGzWvyi1CRx0ry6ucPXuW22+7nZtu/xBLK8s8/8JPuf/xnyBWWly1YxfzM3OZV2B6R2/jPv7s40v9dpY+0C/9zHWNQfHSh5uru+umSx59pu8XFyf9IQjhIfSfrYiLsz9sLfqBa1FohZLekR2lNbpaYV27rNGhXqmjhPQcqp0WtmWxtHSO6cmpzI6YyY+Ou6DjMEOsDlcId6urrPrUea7KmFvKjwYhSN/uFCTBYa25RrO1hrQ1Wrgo4bK4skin3UG73mUSnkqkkVL6bmXNpz/zac+ytS1W2i2uv/4I9z/8IO1mi47TZmLbgrFZE9bWVjnxzttMTk0zv7CAQNJsNzl27BgLCwvMzswQxtTWMD45wd333OM3kc1lcwvs3bObHx99ihYOHeldsypDN3xGHRiwB9aEIiOPosTTlnpWkvOHJD+9Mi/A/4Z5MFHSjxGLLZn1oH9RCeGyv10w+sGPuY4brLE6VYtjp95hbmKW1uI6rrBRQjIpqxzYt4+ZmRm0m45430/f9ARfhpm1gbL0Mz9HmRdD9zJGLmiN4ak12lCjcaXm6Es/5clnnsAVDkq6KFw6zRbnls4xNTlFGNPaXI8VoLSiUq2x1mmhgZdefomllWUun1tgZnaWmqzRoh3mt95q8u3vfIftl+3kVz/zWSzL4smnn+Lhhx/mzjvv5Jb334xt2bE1bPAUEMdtoQSsrCzR7nSYnJkGf33bM9ZFVOocr/3AXNOZbVRQ8zQn1K1wi0a//AyD/83U58VDP3+BIO96063Qf4aNsr9dOPpJx40mOtd6ZnmJb9//A56sPo5ogxIWILm8Ps0f/v5/R7PZolap5OSQ6NCmhWmunQpfBd2EZnn+5rceC3y+D98UxmE9C+gol5NnTvPya6+y0l7xvA8o6lhUp6ZwO534S4LQRW1XK7z46st8/4c/5OS5Rc611hifnODeX7sXKb0wspLgtARMz0zz8U9+gq99/W9ZctocOHAVDz38IPuvuJKrrroqdrOW6R3VAizbptlc57vf+x5Ou8301FTsKKT2T1/kVZ3GO2mRrrpuloWnDsY7ZpcG6pd+v+mHjWHzP+z6HH363iQUXxrQmQf0N0J/1LH12uvipG++FJBUgKMUdkdwRX2eSmcRDay0mkgstHawtKDR2I7rdrpknHBBx5J5QiNeDh1PvwkMf37OMgF9n4J/CYAQ0jfwo93TQlhYHYsj+69nTE4gbRGGr9XCj28tNJft3EXNquI4baRdCQVrq9OhPj7G1LYZ3m2t4HRgbX2dBx54gK987ks4uhNygoCKrHL11dfw8V/5FP/mm1/nwZ8/y63XHuHLd9/DlKiwdvYc1TEr3Am/5rYQtQprqoOyBA8+/iOeOPosH77pZj75kY9Sq9W9uw00odXezbUwEIu4WzsU6S7m+1vBhdgvP4Pmf7P1eVHTF0E0LEMNNjLcCv1n2Cj724Wib1py3l+uq9i3dx+/82u/xcn2Ekp6XmPpr4FKDROuN83ads4u2lxkcR8IZZ8X3S0ERTbO6/yW0hmSvgU/PlmwrhxLK9g+v4Pdu/Zg2RbelRjav87WRSuFlBU0mqpdxfbd9UqA5Sh2L+zgt77465ykyXuLZ/jWN7/J80eP8uLVh/ngoRsAz3B1AReXttPG1YpOq830xCQLc/MsLS5SH5ticmw8DN+JgEqlQkeAZVV4+PEf8cOHHuDKA/v56J3/iKmxcZz1FqJahYR7Gkhv2hSDdE1ntFBhayTPg3GhIIz+c4H431R9jjT9YlND3EUo+qB/EaDf/lkAW7c/bA36sbyMz7btxSGf3zbP9vplRP036pMVLdCui1I6/0hL0bxFvPcn79suhKHObx7x7kGlkoIom3/XdRkbH0ciaLst/y3tn9b2/mq7bapWFY3GCtzUEqbGxgGLdVxc5bJtZhszs7Msj51idXUVKSUqWK8XcPrMaV567VW+9/1/4I6bbuGqffv54be/S/vt0/z6XV+i3hgzvCPQ6XTAqvDoE4/y7W9/i12X7+ILX/giM2MT3vWnjSlUuwP4IT/94OF5alOuID6fa21F8orvyhseLxtBv/xfKB5Gh/7gG3gr959h4OLqD1uLvmnRaK2xrQpS2khlBKgw+rDn7rbZpAy+YOi3roQvjANhv9GqbtQboD3BK4PY1ELH4ktLAVorXKApvXPFDpp/9q/+OTt37+LaG45QnZ3iF++c4OjzzzOmLWbn5mh22lQsO5xqBPDTo0c5uP8A93zubiwhuWJ8lr/72n/giccf547bbqNmVzxhKqBWrfLk0ef51re+hXIVe6/Yy7lzi7jLa1SEZOf8dmpaeh4L46hVXm10tYjz5qsLZXRsplG3AoZdnyX93vRHuf/0i4uhvbY+fXNtNwgwIXrokpdGLyw63rQhWPPrTcd+hXmYf/tWpxSwY9sCb7z6Os8+9xxrVcFKc52Fbdv42AdvZ+fOnTQqdTpuJyQ3MTHBpz71KebnFxjXFjWrwqF9B6jfcy8zMzMgRLRTGlhdWeXYsWMopXBchwceeJCH7n+AmgPOeovf/+rvcXj/NQZr3cPlipOdU5l11f3KuazNDDlJB9TnzqdFEws3NwT+019uvj4vHvqJjSs+1eB4Qnx92HynKP3Rt4iL9M+Lpz9sFfpR/1PGHYXeBOs9k9ImkCnmnCuNvPL2zmZf9xmMhe79P2/jYh6GMb8ZFDEbJOQ6tGSjpxE/RtmFJA2NCsNCRnUR/C3wyhHUsxaw3Fzn7NI5mtrlraXTiJrN/Nw8e6a3U1EudtMNb1hTaDooApfFhGuh2g5jjXGaqu2tTGuNDM4sC1htr7Pqtjm5cg5Zq7K2tsZYrQ7NNhVpsWPbAnVhI5F+bUiklJldVQsQ77VPXhrqWYkRQloQlyixFRBMxIkn/mf/4ocu/TUKk1gUo+jH6W/89rpYJVCGQuVIu9F3wqt/oUEadBRBoA+BK6OLDQOBLf302leigrCWQoOtsms9EPSuwNuUF/IQ/xzkYSkCcx8ZC8CSLu9IhLgscalh1CaeEpcKgn036bm0gHjtWwj7L40c+uO5Z2wSkUyTrZzoxB+BbS6SdywYXm7tr2Wb6buxYwbyCNtSRwpa6t3ggHQY0rLPzVolSpQoUaIIMrYVZ8zmI74iMkT0kMRmlWbujve3QaWEdQ+yxnEkU6jmSWNzjThrcSwp0EMuCjR8KYhLlChRYsPImGUTk3GJzSO0VnVyjbt3Laf2hyQs12ALQEApsG5F4t1u9LXYXHuXgrhEiRIlBoxSCA8Hw1oxz9xERaavI/ddYw9f3+1fCuISJUqU2ChKF/RIIXH7oPcs8Vsn/s6kQ0JQ61h46ez381zelIK4RIkSJTaG0gW9ZRFspjJ3uQvjeTcUsbiTdHq5sWMn0jJQCuISJUqU2CBKIbw1YVq5WevBPV/cSH69fNddUAriEiVKlChx0aLnuvIW0KYyBHGBQ12bQkm/pF/SL+lf3PRDCyl1tnQ0+B9d+hkUu7mjs87+9ksfulrDRejnWMSbsLELoaRf0i/pl/RL+iX9YdAfPZSu6RIlSpQoMTLo5WruKs4TW6KHFresT/p2OnnXAF+9c+75Xkm/pF/SL+mX9Ev6G6Pfb7zuWNQs/8HQBHAO/SD8Zfbuam1axEVZy0pXpFpK+iX9kn5Jv6Rf0h8G/QFlPyRo43dWabLunCpRokSJEjkINudcuiuaJfqBKXzz+kyXXdPD6mYl/ZJ+Sb+kP7r0uwfx2Pr8X9z0+4N5m9Iw6aO7W73Zm7V6HrxKZdflu4wKL+mX9Ev6Jf2Llb7/RnAD3sDpj3r9bJp+f1IzaIu8V/PcxYOkL2N/mfBezBbEXcuZV4t9+PZL+iX9kn5J/2Kl75PIzmYE+B8Z+sUR2uEZytEgbPP+6Ke9Arb30Hy1G1umU0Ynfme9l0xT0i/pl/RL+hcPfU9sRPS1bxpl57L1+B9t+v0jJSQ3J983ST8qo71ZTSPMbcAFKumX9Ev6Jf1RoJ+04XTw0Hh9M/Q3jYuOfn9CWffTFhtA//TTiboE9OhTA8nkIMNOL+mX9Ev6Jf1Rph9+zKehje8K5XQx1c9Q6XejmYamuD2+UWyIvtCYZUkJYu/gsekiiL+72YKU9LcW/UHQTCOb/5J+SX/U6AeBGMw3Y7tfdRaprcN/vxj1+SHZXkVhcjMM474X/b7OEQ/T+1DSvzD0h81ziRKXNEZ8gI04+/3hAk7gfceaTimAA1ZsSvoXln42cjIZWMct6Zf0R5C+/1W3bIoNz2EP4k3UT3IBfND0C8GgvwmaPWt5g80QVFF/9OMdR7zbekdr4gvOHmR+oYXpedcI/3P2QrWkpL+16QuDRokSlzqyx0sE2WWoJL8SpMelTsiVvLyEnyDr69iS9SbleK/yDsc9PTgU4T/8XISeMARrwfo3VrD7hmZAIS5H0SVb0h8shRIlLhX0soDNn2HlU6I/FG2PuIkzePp5KGNNlyhRokSJEhcQKUGc3O49aJT0L276JUpcTLjUxsuol3dU+bfzme5/YSDTT5+bQUl/y9AfxZ5bosQGsKGuXmjDUpc8h7DAWpTmhSjvILFV+R90/XfZNd1fSbJTi65H3kv6o06/RImtgW7zYrLvFt3Yk0tgk+iXXFb6rVbefl/Zavx3w/mof1sjou1hYOyezX7bCwiiCeKrRtdIZS9Xl/RHi34WtJ+8FMYltiIEoHs4kApbMIl0w9otvFF+YOuVt9/5Yavx3w/9II9B82979zelZHgxKrE3cgRHSX8E6PfuNaUQLrFVER416SN9HgY+kWc9G8Bxo+So7sdCMzGo8vYzP2zl9iqCYdR/X65pkZOjznle7OaJkv6FpC+M/4txUaLE6EKTLwgNx1Euek38wxC8mfkYNLuN8wtR3kFiq/I/6PrPFcR5BRB6MB2rpL9F6BfYEzaMiaREiVFCP0EhLobxMurlHTX+u4a4HMaVUSX9S4d+iRIXE7bAfH1eMerlHSX+u95HXHzxfWMe8pL+VqCffruUzyVGEf1sFtoIgbxtjlthvGxoHfUCl/diaq/N1r840Xp7K/SjEhcKOa7ppLum6MaEEiUuahQcLxcNRn1+0CBF3Njotm4LoPVwRaK3gTaOMsTlpY4+Rk2psZW45LGlpMx5wKjPDyPSXqUgLtET/Z88LlGixKWCcn7YPPq+j7jEpYUt63IqUWIL4lITSqM+P2yV9ioFcYlCuNAdtUSJElsXW31+6Oo2z4p5dJ5RCuIShQ+nlyhR4tIbL6Ne3p78b4EylYK4RAznK9ZuiRIXAy618TLq5d2q/JeCuMTIr/OUKHE+camNl1Ev7yjwX+6aLgFsCe9MiRIjg0ttvIx0eYVvCW9VKQz8/+tVE+SFJ91vAAAAAElFTkSuQmCC)"
      ],
      "metadata": {
        "id": "wEtcoqfOPPO7"
      }
    },
    {
      "cell_type": "markdown",
      "source": [
        "## Representation of Transpose of Matrix\n",
        "A = [a(ij)]m × n  \\\\\n",
        "At = [a(ji)]n × m  \\\\\n",
        "\n",
        "here i, j present the position of a matrix element, row- and column-wise, respectively, such that,1 ≤ i ≤ m and 1 ≤ j ≤ n."
      ],
      "metadata": {
        "id": "AyCBzntBPhpe"
      }
    },
    {
      "cell_type": "markdown",
      "source": [
        "#Symbol of Transpose Matrix | Transpose Notation\n",
        "Transpose of a matrix A is denoted by the notation\n",
        "\n",
        "A' or A^T or At."
      ],
      "metadata": {
        "id": "x4elK1X3P7jD"
      }
    },
    {
      "cell_type": "code",
      "source": [
        "# Transpose of a matrix is obtained by changing rows to columns and columns to rows. In other words, transpose of A[][] is obtained by changing A[i][j] to A[j][i].\n",
        "\n",
        "x = [[9, 8, 7], [6, 5, 4], [3, 2, 1]]\n",
        "transpose = [[0]*3 for _ in range(3)]\n",
        "\n",
        "for i in range(len(x)):\n",
        "    for j in range(len(x[0])):\n",
        "        transpose[j][i] = x[i][j]\n",
        "\n",
        "for r in transpose:\n",
        "    print(r)"
      ],
      "metadata": {
        "colab": {
          "base_uri": "https://localhost:8080/"
        },
        "id": "mJXqvwNlNema",
        "outputId": "0fb3c115-3f51-437e-c98d-5ee098e2843f"
      },
      "execution_count": 15,
      "outputs": [
        {
          "output_type": "stream",
          "name": "stdout",
          "text": [
            "[9, 6, 3]\n",
            "[8, 5, 2]\n",
            "[7, 4, 1]\n"
          ]
        }
      ]
    },
    {
      "cell_type": "markdown",
      "source": [
        "## Example 2: Using List Comprehension\n",
        "Here's how to Transpose a matrix using list comprehension."
      ],
      "metadata": {
        "id": "7TN-6FtuQv_C"
      }
    },
    {
      "cell_type": "code",
      "source": [
        "# Transpose a matrix using list comprehension\n",
        "transpose = [[x[j][i] for j in range(len(x))] for i in range(len(x[0]))]\n",
        "for row in transpose:\n",
        "    print(row)"
      ],
      "metadata": {
        "colab": {
          "base_uri": "https://localhost:8080/"
        },
        "id": "J0MVR2xzQoke",
        "outputId": "48d31a13-ede1-479a-9288-5d74163aeeaa"
      },
      "execution_count": 17,
      "outputs": [
        {
          "output_type": "stream",
          "name": "stdout",
          "text": [
            "[9, 6, 3]\n",
            "[8, 5, 2]\n",
            "[7, 4, 1]\n"
          ]
        }
      ]
    },
    {
      "cell_type": "markdown",
      "source": [
        "# NumPy Matrix Operations\n",
        "Creating a Matrix with Random Values. \\\\\n",
        "Here we are creating a Numpy array using numpy.random and a random module."
      ],
      "metadata": {
        "id": "UYdEY0icRNJv"
      }
    },
    {
      "cell_type": "code",
      "source": [
        "import numpy as np\n",
        "\n",
        "arr = np.random.randint(10, size=(3, 3))\n",
        "print(arr)"
      ],
      "metadata": {
        "colab": {
          "base_uri": "https://localhost:8080/"
        },
        "id": "ocJllVU7Q1Wq",
        "outputId": "46ebfed7-4367-4ca5-91d3-2529493b487c"
      },
      "execution_count": 18,
      "outputs": [
        {
          "output_type": "stream",
          "name": "stdout",
          "text": [
            "[[7 7 3]\n",
            " [9 6 4]\n",
            " [6 8 3]]\n"
          ]
        }
      ]
    },
    {
      "cell_type": "markdown",
      "source": [
        "**Explanation:**\n",
        "\n",
        "The numpy.random module is used to generate random numbers.\n",
        "np.random.randint(10, size=(3, 3)) creates a 3x3 matrix with random integers from 0 to 9."
      ],
      "metadata": {
        "id": "WyVX0aSyRhOi"
      }
    },
    {
      "cell_type": "markdown",
      "source": [
        "# Basic Math Operations with NumPy\n",
        "Here we are covering different mathematical operations such as addition, subtraction, multiplication, and division using Numpy."
      ],
      "metadata": {
        "id": "uGtkg2GwRr2Q"
      }
    },
    {
      "cell_type": "code",
      "source": [
        "import numpy as np\n",
        "\n",
        "x = np.array([[1, 2], [4, 5]])\n",
        "y = np.array([[7, 8], [9, 10]])\n",
        "\n",
        "print(\"Addition:\\n\", np.add(x, y))\n",
        "print(\"Subtraction:\\n\", np.subtract(x, y))\n",
        "print(\"Multiplication:\\n\", np.multiply(x, y))\n",
        "print(\"Division:\\n\", np.divide(x, y))"
      ],
      "metadata": {
        "colab": {
          "base_uri": "https://localhost:8080/"
        },
        "id": "twihaMwjRbdm",
        "outputId": "4125aa5c-8217-474e-9fb0-b00a27bb46b8"
      },
      "execution_count": 19,
      "outputs": [
        {
          "output_type": "stream",
          "name": "stdout",
          "text": [
            "Addition:\n",
            " [[ 8 10]\n",
            " [13 15]]\n",
            "Subtraction:\n",
            " [[-6 -6]\n",
            " [-5 -5]]\n",
            "Multiplication:\n",
            " [[ 7 16]\n",
            " [36 50]]\n",
            "Division:\n",
            " [[0.14285714 0.25      ]\n",
            " [0.44444444 0.5       ]]\n"
          ]
        }
      ]
    },
    {
      "cell_type": "markdown",
      "source": [
        "# Dot and cross product with Matrix\n",
        "In this example, we are going to discuss how we can **calculate the dot and the cross products of two matrices using NumPy**, it provides built in functions to calculate them. First, let's discsuss what are dot and cross products in short:\n",
        "\n",
        "**Dot Product:** Calculates the sum of the products of corresponding elements, often used to find projections or perform matrix multiplication. \\\\\n",
        "**Cross Product:** Produces a vector perpendicular to two 3D vectors, useful in physics for torque, angular momentum, etc."
      ],
      "metadata": {
        "id": "kDmJsBbnR8h9"
      }
    },
    {
      "cell_type": "code",
      "source": [
        "import numpy as np\n",
        "\n",
        "x = [[1, 2, 3], [4, 5, 6], [7, 8, 9]]\n",
        "y = [[9, 8, 7], [6, 5, 4], [3, 2, 1]]\n",
        "\n",
        "print(\"Dot Product:\\n\", np.dot(x, y))\n",
        "print(\"Cross Product:\\n\", np.cross(x, y))"
      ],
      "metadata": {
        "colab": {
          "base_uri": "https://localhost:8080/"
        },
        "id": "VkrxMOQmRy5O",
        "outputId": "a6d08dd3-9004-4c26-f950-195574d072f8"
      },
      "execution_count": 20,
      "outputs": [
        {
          "output_type": "stream",
          "name": "stdout",
          "text": [
            "Dot Product:\n",
            " [[ 30  24  18]\n",
            " [ 84  69  54]\n",
            " [138 114  90]]\n",
            "Cross Product:\n",
            " [[-10  20 -10]\n",
            " [-10  20 -10]\n",
            " [-10  20 -10]]\n"
          ]
        }
      ]
    },
    {
      "cell_type": "markdown",
      "source": [
        "## Transpose Using NumPy\n",
        "To perform transpose operation in matrix we can use the numpy.transpose() method."
      ],
      "metadata": {
        "id": "iC5Kt_L7SXfe"
      }
    },
    {
      "cell_type": "code",
      "source": [
        "import numpy as np\n",
        "\n",
        "matrix = [[1, 2, 3], [4, 5, 6]]\n",
        "print(np.transpose(matrix))"
      ],
      "metadata": {
        "colab": {
          "base_uri": "https://localhost:8080/"
        },
        "id": "kKHW5Up1SMGA",
        "outputId": "18b283fa-a95c-4e38-f1c1-6b79da8b955f"
      },
      "execution_count": 21,
      "outputs": [
        {
          "output_type": "stream",
          "name": "stdout",
          "text": [
            "[[1 4]\n",
            " [2 5]\n",
            " [3 6]]\n"
          ]
        }
      ]
    },
    {
      "cell_type": "markdown",
      "source": [
        "## Creating Empty Matrices\n",
        "Initializing an empty array, using the np.zeros()."
      ],
      "metadata": {
        "id": "JTu7lyhoSjrk"
      }
    },
    {
      "cell_type": "code",
      "source": [
        "import numpy as np\n",
        "\n",
        "a = np.zeros((2, 2), dtype=int)\n",
        "print(\"2x2 Matrix:\\n\", a)\n",
        "\n",
        "b = np.zeros((3, 3))\n",
        "print(\"3x3 Matrix:\\n\", b)"
      ],
      "metadata": {
        "colab": {
          "base_uri": "https://localhost:8080/"
        },
        "id": "3cnqlFsdSeeZ",
        "outputId": "e3175b6a-9bbe-42c9-91f2-d0694bd4aa19"
      },
      "execution_count": 22,
      "outputs": [
        {
          "output_type": "stream",
          "name": "stdout",
          "text": [
            "2x2 Matrix:\n",
            " [[0 0]\n",
            " [0 0]]\n",
            "3x3 Matrix:\n",
            " [[0. 0. 0.]\n",
            " [0. 0. 0.]\n",
            " [0. 0. 0.]]\n"
          ]
        }
      ]
    },
    {
      "cell_type": "markdown",
      "source": [
        "## Slicing in Matrix using Numpy\n",
        "Slicing is the process of choosing specific rows and columns from a matrix and then creating a new matrix by removing all of the non-selected elements."
      ],
      "metadata": {
        "id": "vPffTqRMSzRT"
      }
    },
    {
      "cell_type": "code",
      "source": [
        "import numpy as np\n",
        "\n",
        "x = np.array([[6, 8, 10],\n",
        "              [9, -12, 15],\n",
        "              [12, 16, 20],\n",
        "              [15, -20, 25]])\n",
        "\n",
        "print(\"Full Matrix:\\n\", x)\n",
        "print(\"Third Row, Second Column:\", x[2:3, 1])\n",
        "print(\"Third Row, Third Column:\", x[2:3, 2])"
      ],
      "metadata": {
        "colab": {
          "base_uri": "https://localhost:8080/"
        },
        "id": "muYT7_9mSusA",
        "outputId": "98fcf42b-32c0-4538-e7b3-09830dd6eb51"
      },
      "execution_count": 24,
      "outputs": [
        {
          "output_type": "stream",
          "name": "stdout",
          "text": [
            "Full Matrix:\n",
            " [[  6   8  10]\n",
            " [  9 -12  15]\n",
            " [ 12  16  20]\n",
            " [ 15 -20  25]]\n",
            "Third Row, Second Column: [16]\n",
            "Third Row, Third Column: [20]\n"
          ]
        }
      ]
    },
    {
      "cell_type": "markdown",
      "source": [
        "## Deleting Rows with NumPy\n",
        "Here, we are trying to delete rows using the **np.delete()** function. In the code, we first tried to delete the 0th row, then we tried to delete the 2nd row, and then the 3rd row."
      ],
      "metadata": {
        "id": "2EArwAjaTAcC"
      }
    },
    {
      "cell_type": "code",
      "source": [
        "import numpy as np\n",
        "\n",
        "a = np.array([[6, 8, 10],\n",
        "              [9, -12, 15],\n",
        "              [12, 16, 20],\n",
        "              [15, -20, 25]])\n",
        "\n",
        "print(\"Delete 0th Row:\\n\", np.delete(a, 0, axis=0))\n",
        "print(\"Delete 1st Row:\\n\", np.delete(a, 1, axis=0))"
      ],
      "metadata": {
        "colab": {
          "base_uri": "https://localhost:8080/"
        },
        "id": "Zs-7vVffS3xk",
        "outputId": "2be24ec4-3127-4ef0-a74f-d703b0711b03"
      },
      "execution_count": 25,
      "outputs": [
        {
          "output_type": "stream",
          "name": "stdout",
          "text": [
            "Delete 0th Row:\n",
            " [[  9 -12  15]\n",
            " [ 12  16  20]\n",
            " [ 15 -20  25]]\n",
            "Delete 1st Row:\n",
            " [[  6   8  10]\n",
            " [ 12  16  20]\n",
            " [ 15 -20  25]]\n"
          ]
        }
      ]
    },
    {
      "cell_type": "markdown",
      "source": [
        "## Add Rows or Columns to a NumPy Array\n",
        "We can easily add a new row or column to an existing NumPy array using stacking functions like np.hstack() (horizontal stack) and np.vstack() (vertical stack).\n",
        "\n",
        "Here’s how to add a column to an existing 2D array:"
      ],
      "metadata": {
        "id": "hflsEjgtTXt4"
      }
    },
    {
      "cell_type": "code",
      "source": [
        "import numpy as np\n",
        "\n",
        "x = np.array([[6, 8, 10],\n",
        "              [9, -12, 15],\n",
        "              [15, -20, 25]])\n",
        "\n",
        "# new column to be added\n",
        "col = np.array([1, 2, 3])\n",
        "\n",
        "# add the column (after reshaping it into a column vector)\n",
        "res = np.hstack((x, np.atleast_2d(col).T))\n",
        "\n",
        "print(\"Resultant Array:\\n\", res)"
      ],
      "metadata": {
        "colab": {
          "base_uri": "https://localhost:8080/"
        },
        "id": "a3DpTOaqTNAV",
        "outputId": "d81b675d-d577-4179-baf6-fa7f5b3ff99d"
      },
      "execution_count": 26,
      "outputs": [
        {
          "output_type": "stream",
          "name": "stdout",
          "text": [
            "Resultant Array:\n",
            " [[  6   8  10   1]\n",
            " [  9 -12  15   2]\n",
            " [ 15 -20  25   3]]\n"
          ]
        }
      ]
    },
    {
      "cell_type": "markdown",
      "source": [
        "# Excercise"
      ],
      "metadata": {
        "id": "TUcPMx-HTo-X"
      }
    },
    {
      "cell_type": "markdown",
      "source": [
        "## Exercise 1: Create a 3x3 Matrix Using List of Lists\n",
        "### Question: Create a 3x3 matrix using list of lists in Python and print each row in a separate line."
      ],
      "metadata": {
        "id": "zlK5k6DGVbHy"
      }
    },
    {
      "cell_type": "code",
      "source": [
        "matrix = [\n",
        "    [1, 2, 3],\n",
        "    [4, 5, 6],\n",
        "    [7, 8, 9]\n",
        "]\n",
        "\n",
        "for row in matrix:\n",
        "    print(row)\n"
      ],
      "metadata": {
        "id": "Hh8c-k5GTf-m"
      },
      "execution_count": null,
      "outputs": []
    },
    {
      "cell_type": "markdown",
      "source": [
        "## Exercise 2: Matrix Addition\n",
        "#### Question: Add two 2x2 matrices:"
      ],
      "metadata": {
        "id": "8gsnRTt2VoLl"
      }
    },
    {
      "cell_type": "code",
      "source": [
        "# question\n",
        "x = [[1, 2], [3, 4]]\n",
        "y = [[5, 6], [7, 8]]\n"
      ],
      "metadata": {
        "id": "HR2w_jFaVsAD"
      },
      "execution_count": 27,
      "outputs": []
    },
    {
      "cell_type": "code",
      "source": [
        "# solution\n",
        "result = [[x[i][j] + y[i][j] for j in range(2)] for i in range(2)]\n",
        "\n",
        "print(\"Resultant Matrix after Addition:\")\n",
        "for row in result:\n",
        "    print(row)"
      ],
      "metadata": {
        "id": "E9mUZaA-Vx49"
      },
      "execution_count": null,
      "outputs": []
    },
    {
      "cell_type": "markdown",
      "source": [
        "## Exercise 4: Transpose a Matrix\n",
        "Question: Find the transpose of the following matrix:"
      ],
      "metadata": {
        "id": "ak87O_nwWVHT"
      }
    },
    {
      "cell_type": "code",
      "source": [
        "# question\n",
        "matrix = [[1, 2], [3, 4], [5, 6]]\n"
      ],
      "metadata": {
        "id": "MN7kp0o1WXWo"
      },
      "execution_count": null,
      "outputs": []
    },
    {
      "cell_type": "code",
      "source": [
        "# solution\n",
        "matrix = [[1, 2], [3, 4], [5, 6]]\n",
        "rows = len(matrix)\n",
        "cols = len(matrix[0])\n",
        "\n",
        "transpose = [[matrix[i][j] for i in range(rows)] for j in range(cols)]\n",
        "\n",
        "print(\"Transposed Matrix:\")\n",
        "for row in transpose:\n",
        "    print(row)\n"
      ],
      "metadata": {
        "id": "lib2dpNBWbFx"
      },
      "execution_count": null,
      "outputs": []
    },
    {
      "cell_type": "markdown",
      "source": [
        "## Exercise 5: Matrix Multiplication (3x3)\n",
        "Question: Multiply the two 3x3 matrices:"
      ],
      "metadata": {
        "id": "VQp1KBP8WmEb"
      }
    },
    {
      "cell_type": "code",
      "source": [
        "# question\n",
        "x = [[1,2,3],[4,5,6],[7,8,9]]\n",
        "y = [[9,8,7],[6,5,4],[3,2,1]]\n"
      ],
      "metadata": {
        "id": "VQwkWoaHWoY9"
      },
      "execution_count": null,
      "outputs": []
    },
    {
      "cell_type": "code",
      "source": [
        "# solution\n",
        "x = [[1,2,3],[4,5,6],[7,8,9]]\n",
        "y = [[9,8,7],[6,5,4],[3,2,1]]\n",
        "result = [[0]*3 for _ in range(3)]\n",
        "\n",
        "for i in range(3):\n",
        "    for j in range(3):\n",
        "        for k in range(3):\n",
        "            result[i][j] += x[i][k] * y[k][j]\n",
        "\n",
        "print(\"Matrix Multiplication Result:\")\n",
        "for row in result:\n",
        "    print(row)\n"
      ],
      "metadata": {
        "id": "uaE0PoSMWrua"
      },
      "execution_count": null,
      "outputs": []
    },
    {
      "cell_type": "markdown",
      "source": [
        "## Exercise 6: Assign and Access Matrix Element\n",
        "Question: Replace the center value of a 3x3 matrix with 99 and print it."
      ],
      "metadata": {
        "id": "SvXpONFpW1E5"
      }
    },
    {
      "cell_type": "code",
      "source": [
        "matrix = [[1,2,3],[4,5,6],[7,8,9]]\n",
        "matrix[1][1] = 99\n",
        "\n",
        "print(\"Updated Matrix:\")\n",
        "for row in matrix:\n",
        "    print(row)\n"
      ],
      "metadata": {
        "id": "biFDgzonW-ET"
      },
      "execution_count": null,
      "outputs": []
    }
  ]
}